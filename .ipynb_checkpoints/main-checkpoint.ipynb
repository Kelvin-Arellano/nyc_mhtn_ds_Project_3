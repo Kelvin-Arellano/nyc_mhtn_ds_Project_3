{
 "cells": [
  {
   "cell_type": "code",
   "execution_count": 82,
   "metadata": {},
   "outputs": [],
   "source": [
    "import sqlite3\n",
    "import requests\n",
    "import json\n",
    "import pandas as pd\n",
    "import matplotlib.pyplot as plt\n",
    "# from  keys  import  client_id, api_key\n",
    "import folium"
   ]
  },
  {
   "cell_type": "code",
   "execution_count": 88,
   "metadata": {},
   "outputs": [
    {
     "name": "stderr",
     "output_type": "stream",
     "text": [
      "/Users/ivan/opt/anaconda3/lib/python3.7/site-packages/IPython/core/interactiveshell.py:3063: DtypeWarning: Columns (9,11,15,16,17,30) have mixed types.Specify dtype option on import or set low_memory=False.\n",
      "  interactivity=interactivity, compiler=compiler, result=result)\n"
     ]
    }
   ],
   "source": [
    "blight = pd.read_csv('data/Blight_Violations.csv')"
   ]
  },
  {
   "cell_type": "code",
   "execution_count": 84,
   "metadata": {},
   "outputs": [
    {
     "name": "stdout",
     "output_type": "stream",
     "text": [
      "<class 'pandas.core.frame.DataFrame'>\n",
      "RangeIndex: 496335 entries, 0 to 496334\n",
      "Data columns (total 36 columns):\n",
      " #   Column                      Non-Null Count   Dtype  \n",
      "---  ------                      --------------   -----  \n",
      " 0   X                           306227 non-null  float64\n",
      " 1   Y                           306227 non-null  float64\n",
      " 2   ticket_id                   496335 non-null  int64  \n",
      " 3   ticket_number               496335 non-null  object \n",
      " 4   agency_name                 496335 non-null  object \n",
      " 5   inspector_name              496335 non-null  object \n",
      " 6   violator_name               496333 non-null  object \n",
      " 7   violation_street_number     496335 non-null  int64  \n",
      " 8   violation_street_name       496270 non-null  object \n",
      " 9   violation_zip_code          154162 non-null  object \n",
      " 10  violator_id                 496335 non-null  int64  \n",
      " 11  mailing_address_str_number  496329 non-null  object \n",
      " 12  mailing_address_str_name    496325 non-null  object \n",
      " 13  city                        493079 non-null  object \n",
      " 14  state                       492616 non-null  object \n",
      " 15  zip_code                    493076 non-null  object \n",
      " 16  non_us_str_code             3259 non-null    object \n",
      " 17  country                     3270 non-null    object \n",
      " 18  violation_date              496335 non-null  object \n",
      " 19  ticket_issued_time          496335 non-null  object \n",
      " 20  hearing_date                496335 non-null  object \n",
      " 21  hearing_time                496323 non-null  object \n",
      " 22  judgment_date               496335 non-null  object \n",
      " 23  violation_code              496333 non-null  object \n",
      " 24  violation_description       496333 non-null  object \n",
      " 25  disposition                 496335 non-null  object \n",
      " 26  clean_up_cost               0 non-null       float64\n",
      " 27  payment_amount              0 non-null       float64\n",
      " 28  payment_date                496335 non-null  object \n",
      " 29  payment_status              316728 non-null  object \n",
      " 30  collection_status           73200 non-null   object \n",
      " 31  violation_address           496335 non-null  object \n",
      " 32  parcelno                    306227 non-null  object \n",
      " 33  oid                         496335 non-null  int64  \n",
      " 34  geom                        0 non-null       float64\n",
      " 35  fine_amount                 0 non-null       float64\n",
      "dtypes: float64(6), int64(4), object(26)\n",
      "memory usage: 136.3+ MB\n"
     ]
    }
   ],
   "source": [
    "blight.info()"
   ]
  },
  {
   "cell_type": "code",
   "execution_count": 85,
   "metadata": {},
   "outputs": [
    {
     "data": {
      "text/plain": [
       "array([nan, 'NO PAYMENT DUE', 'PAID IN FULL', 'PARTIAL PAYMENT APPLIED',\n",
       "       'NO PAYMENT APPLIED'], dtype=object)"
      ]
     },
     "execution_count": 85,
     "metadata": {},
     "output_type": "execute_result"
    }
   ],
   "source": [
    "df.payment_status.unique()"
   ]
  },
  {
   "cell_type": "code",
   "execution_count": 59,
   "metadata": {},
   "outputs": [
    {
     "data": {
      "text/plain": [
       "NO PAYMENT DUE             210004\n",
       "PAID IN FULL                97642\n",
       "PARTIAL PAYMENT APPLIED      9080\n",
       "NO PAYMENT APPLIED              2\n",
       "Name: payment_status, dtype: int64"
      ]
     },
     "execution_count": 59,
     "metadata": {},
     "output_type": "execute_result"
    }
   ],
   "source": [
    "df['payment_status'].value_counts()"
   ]
  },
  {
   "cell_type": "code",
   "execution_count": 30,
   "metadata": {},
   "outputs": [
    {
     "data": {
      "text/plain": [
       "0         03002390.\n",
       "1         03002391.\n",
       "2         14002572.\n",
       "3         12004708.\n",
       "4               NaN\n",
       "            ...    \n",
       "496330    22046239.\n",
       "496331    22046729.\n",
       "496332    22046729.\n",
       "496333    22046256.\n",
       "496334    22046256.\n",
       "Name: parcelno, Length: 496335, dtype: object"
      ]
     },
     "execution_count": 30,
     "metadata": {},
     "output_type": "execute_result"
    }
   ],
   "source": [
    "df.parcelno"
   ]
  },
  {
   "cell_type": "code",
   "execution_count": 37,
   "metadata": {},
   "outputs": [
    {
     "name": "stderr",
     "output_type": "stream",
     "text": [
      "/Users/ivan/opt/anaconda3/lib/python3.7/site-packages/IPython/core/interactiveshell.py:3063: DtypeWarning: Columns (17) have mixed types.Specify dtype option on import or set low_memory=False.\n",
      "  interactivity=interactivity, compiler=compiler, result=result)\n"
     ]
    }
   ],
   "source": [
    "impr = pd.read_csv('data/Improve_Detroit_Issues.csv')"
   ]
  },
  {
   "cell_type": "code",
   "execution_count": 50,
   "metadata": {},
   "outputs": [
    {
     "name": "stdout",
     "output_type": "stream",
     "text": [
      "<class 'pandas.core.frame.DataFrame'>\n",
      "RangeIndex: 498496 entries, 0 to 498495\n",
      "Data columns (total 20 columns):\n",
      " #   Column              Non-Null Count   Dtype  \n",
      "---  ------              --------------   -----  \n",
      " 0   X                   453792 non-null  float64\n",
      " 1   Y                   453792 non-null  float64\n",
      " 2   id                  498496 non-null  int64  \n",
      " 3   status              498496 non-null  object \n",
      " 4   request_type_title  498496 non-null  object \n",
      " 5   description         396501 non-null  object \n",
      " 6   web_url             498496 non-null  object \n",
      " 7   report_method       498496 non-null  object \n",
      " 8   priority_code       498496 non-null  int64  \n",
      " 9   created_at          498496 non-null  object \n",
      " 10  acknowledged_at     449005 non-null  object \n",
      " 11  closed_at           374487 non-null  object \n",
      " 12  reopened_at         8944 non-null    object \n",
      " 13  updated_at          498496 non-null  object \n",
      " 14  days_to_close       175606 non-null  float64\n",
      " 15  canonical_issue_id  13279 non-null   float64\n",
      " 16  address             498488 non-null  object \n",
      " 17  neighborhood        186002 non-null  object \n",
      " 18  council_district    186089 non-null  float64\n",
      " 19  oid                 498496 non-null  int64  \n",
      "dtypes: float64(5), int64(3), object(12)\n",
      "memory usage: 76.1+ MB\n"
     ]
    }
   ],
   "source": [
    "impr.info()"
   ]
  },
  {
   "cell_type": "code",
   "execution_count": 45,
   "metadata": {},
   "outputs": [
    {
     "name": "stderr",
     "output_type": "stream",
     "text": [
      "/Users/ivan/opt/anaconda3/lib/python3.7/site-packages/IPython/core/interactiveshell.py:3063: DtypeWarning: Columns (4,5,32) have mixed types.Specify dtype option on import or set low_memory=False.\n",
      "  interactivity=interactivity, compiler=compiler, result=result)\n"
     ]
    }
   ],
   "source": [
    "parcel = pd.read_csv('data/Parcels.csv')"
   ]
  },
  {
   "cell_type": "code",
   "execution_count": 49,
   "metadata": {},
   "outputs": [
    {
     "name": "stdout",
     "output_type": "stream",
     "text": [
      "<class 'pandas.core.frame.DataFrame'>\n",
      "RangeIndex: 382099 entries, 0 to 382098\n",
      "Data columns (total 37 columns):\n",
      " #   Column                Non-Null Count   Dtype  \n",
      "---  ------                --------------   -----  \n",
      " 0   object_id             382099 non-null  int64  \n",
      " 1   parcel_number         382099 non-null  object \n",
      " 2   ward                  382099 non-null  int64  \n",
      " 3   address               382093 non-null  object \n",
      " 4   council_district      380802 non-null  object \n",
      " 5   zip_code              375174 non-null  object \n",
      " 6   taxpayer_1            382095 non-null  object \n",
      " 7   taxpayer_2            11880 non-null   object \n",
      " 8   taxpayer_street       381953 non-null  object \n",
      " 9   taxpayer_city         380427 non-null  object \n",
      " 10  taxpayer_state        380419 non-null  object \n",
      " 11  taxpayer_zip          381950 non-null  object \n",
      " 12  property_class        382099 non-null  int64  \n",
      " 13  property_class_desc   382099 non-null  object \n",
      " 14  use_code              376591 non-null  object \n",
      " 15  use_code_desc         348680 non-null  object \n",
      " 16  tax_status            382099 non-null  object \n",
      " 17  total_square_footage  382099 non-null  float64\n",
      " 18  total_acreage         382099 non-null  float64\n",
      " 19  frontage              382099 non-null  float64\n",
      " 20  depth                 382099 non-null  float64\n",
      " 21  homestead_pre         382099 non-null  float64\n",
      " 22  nez                   72588 non-null   object \n",
      " 23  is_improved           382099 non-null  int64  \n",
      " 24  num_bldgs             382099 non-null  int64  \n",
      " 25  total_floor_area      237856 non-null  float64\n",
      " 26  style                 237712 non-null  object \n",
      " 27  year_built            237856 non-null  float64\n",
      " 28  sale_price            382099 non-null  int64  \n",
      " 29  sale_date             382099 non-null  object \n",
      " 30  assessed_value        382098 non-null  float64\n",
      " 31  taxable_value         382098 non-null  float64\n",
      " 32  landmap               381974 non-null  object \n",
      " 33  related               14302 non-null   object \n",
      " 34  zoning                376839 non-null  object \n",
      " 35  subdivision           1645 non-null    object \n",
      " 36  legal_description     382014 non-null  object \n",
      "dtypes: float64(9), int64(6), object(22)\n",
      "memory usage: 107.9+ MB\n"
     ]
    }
   ],
   "source": [
    "parcel.info()"
   ]
  },
  {
   "cell_type": "code",
   "execution_count": 51,
   "metadata": {},
   "outputs": [
    {
     "name": "stderr",
     "output_type": "stream",
     "text": [
      "/Users/ivan/opt/anaconda3/lib/python3.7/site-packages/IPython/core/interactiveshell.py:3063: DtypeWarning: Columns (4) have mixed types.Specify dtype option on import or set low_memory=False.\n",
      "  interactivity=interactivity, compiler=compiler, result=result)\n"
     ]
    }
   ],
   "source": [
    "mcm = pd.read_csv('Motor_City_Mapping,_Winter_2013-14_Certified_Results.csv')"
   ]
  },
  {
   "cell_type": "code",
   "execution_count": 52,
   "metadata": {},
   "outputs": [
    {
     "name": "stdout",
     "output_type": "stream",
     "text": [
      "<class 'pandas.core.frame.DataFrame'>\n",
      "RangeIndex: 379549 entries, 0 to 379548\n",
      "Data columns (total 33 columns):\n",
      " #   Column             Non-Null Count   Dtype  \n",
      "---  ------             --------------   -----  \n",
      " 0   OBJECTID           379549 non-null  int64  \n",
      " 1   D3_SurveyParcelID  379549 non-null  object \n",
      " 2   CityParcelID2013   379549 non-null  object \n",
      " 3   AddCombo           379549 non-null  object \n",
      " 4   Address_Number     379549 non-null  object \n",
      " 5   Address_Direction  379549 non-null  object \n",
      " 6   Street             379549 non-null  object \n",
      " 7   Zip                379549 non-null  object \n",
      " 8   PCount             379549 non-null  int64  \n",
      " 9   Blext_ID           377209 non-null  float64\n",
      " 10  User_ID            373229 non-null  float64\n",
      " 11  Reviewer_ID        359568 non-null  float64\n",
      " 12  Time_Surveyed      379549 non-null  object \n",
      " 13  Updated_At         379549 non-null  object \n",
      " 14  Status             373229 non-null  float64\n",
      " 15  Photo_URL          373217 non-null  object \n",
      " 16  Structure          373227 non-null  object \n",
      " 17  Use_               373223 non-null  object \n",
      " 18  Condition          261355 non-null  object \n",
      " 19  Occupancy          261202 non-null  object \n",
      " 20  Needs_Boarding     261271 non-null  object \n",
      " 21  Fire               261284 non-null  object \n",
      " 22  Dumping            373169 non-null  object \n",
      " 23  Units              245276 non-null  object \n",
      " 24  Improved           112058 non-null  object \n",
      " 25  Maintained         112005 non-null  object \n",
      " 26  PublicUse          7351 non-null    object \n",
      " 27  Notes              31790 non-null   object \n",
      " 28  GEOID10_Tract      379549 non-null  int64  \n",
      " 29  NAMELSAD10_Tract   379549 non-null  object \n",
      " 30  GEOID10_Block      379549 non-null  int64  \n",
      " 31  NAME10_Block       379549 non-null  object \n",
      " 32  GeoID10_BG         379549 non-null  int64  \n",
      "dtypes: float64(4), int64(5), object(24)\n",
      "memory usage: 95.6+ MB\n"
     ]
    }
   ],
   "source": [
    "mcm.info()"
   ]
  },
  {
   "cell_type": "code",
   "execution_count": 61,
   "metadata": {},
   "outputs": [
    {
     "data": {
      "text/plain": [
       "array(['RELIGIOUS STRUCTURE/USE', 'BAR', 'PARKING LOT-PAVED',\n",
       "       'OFFICE BLDG--3 STORIES OR LESS', 'PRIVATE CLUB',\n",
       "       'OFFICE BLDG-3 STORIES OR MORE', 'WAREHOUSE STORAGE',\n",
       "       'GARAGE-PARKING-UNDERGROUND', 'HOTEL-FULL SERVICE',\n",
       "       'OTHER COMMERCIAL STRUCTURE', 'GARAGE-PARKING-ABOVE GROUND',\n",
       "       'GAS STATION W/CONV STORE-RESTURANT', 'MIXED USE-OFFICE',\n",
       "       'SINGLE FAMILY', 'VACANT RESIDENTIAL', nan, 'BANK BRANCH',\n",
       "       'SPEC ACT LAND ONLY', 'STORE-RETAIL',\n",
       "       'MAJOR OFFICE BLDG 3 STORIES OR MORE W/PKNGS', 'SCHOOL',\n",
       "       'NEZ LAND', 'NEZ BLDG', 'TWO FAMILY', 'THREE FAMILY',\n",
       "       'APT-WALK UP', 'VACANT COMMERCIAL', 'APT-W/ ELEVATOR',\n",
       "       'APT-FLAT GARDEN TYPE', 'ROW HOUSE', 'IMPROVED NO BLDG',\n",
       "       'RESTAURANT', 'VACANT INDUSTRIAL', 'MIXED USE-APT',\n",
       "       'HEALTH PROFESSIONAL OFFICE', 'INCOME BUNGALOW', 'SUPERMARKET',\n",
       "       'GARAGE - RESIDENTIAL STAND-ALONE', 'FOUR FAMILY',\n",
       "       'RESTAURANT-FAST FOOD', 'SHOPPING CENTER', 'AUTO SALE W/SERVICE',\n",
       "       'SERVICE AND REPAIR STATION', 'WAREHOUSE-DISTRIBUTION',\n",
       "       'WAREHOUSE', 'HALF DUPLEX', 'INDUSTRIAL-ENGINEERING',\n",
       "       'POWER HOUSE,SWITCH, OR TRANSFORMER BUILDING',\n",
       "       'GAS STATION NO-SERVICE', 'MEDICAL DISPENSARIES', 'FIVE FAMILY',\n",
       "       'RAILROAD', 'CARWASH', 'INDUSTRIAL USE-OFFICE BUILDING',\n",
       "       'POST OFFICE', 'TOOL AND DIE SHOP', 'MORTUARY-FUNERAL HOME',\n",
       "       'PARKING LOT-GRAVEL', 'VETERINARY', 'BARBER, BEAUTY SHOP',\n",
       "       'MIXED USE-RETAIL', 'LIGHT MANUFACTURING', 'SHED',\n",
       "       'STORE-PARTY/ NEIGHBORHOOD', 'HEAVY MANUFACTURING',\n",
       "       'GAS STATION W/SERVICE', 'DRUG STORE', 'LAUNDROMAT',\n",
       "       'TRUCK TERMINAL', 'DUPLEX', 'COMMERCIAL HALL', 'NURSING HOME',\n",
       "       'MOTEL', 'SIX FAMILY', 'APT-HI-RISE', 'SCRAP YARD',\n",
       "       'OTHER INDUSTRIAL STRUCTURE', 'INDUSTRIAL-COLD STORAGE',\n",
       "       'APT-FLAT SLAB TYPE', 'INDUSTRIAL FLEX', 'DRY CLEANER',\n",
       "       'COVERED LOADING DOCK', 'GREENHOUSE', 'CHILD CARE CENTER',\n",
       "       'ASSISTED LIVING RESIDENCE', 'FLORIST', 'SHED,BARN,SHELTER',\n",
       "       'SKATING RINK', 'GARAGE MINI-LUBE', 'PARSONAGE',\n",
       "       'FITNESS CENTER,ARENA,GYMS,HEALTH CLUB', 'COOPERATIVE',\n",
       "       'PRINTING AND PUBLISHING', 'RESIDENTIAL - CONDO', 'CASINO',\n",
       "       'LABORATORY/RESEARCH & DEVELOPMENT', 'HOSPITAL', 'MOVIE THEATER',\n",
       "       'PERSONAL PROPERTY', 'ICE CREAM/ REFRESHMENT', 'MIXED USE-CONDO',\n",
       "       'HOTEL-APT', 'PUBLIC LODGING HOUSE-ROOMING HOUSE', 'DORMITORY',\n",
       "       'BOWLING CENTER W/RESTURANT', 'SPEC ACT FROZEN',\n",
       "       'HOTEL-LIMITED SERVICE', 'BANK MINI (WALK-UP & DRIVE-THROUGH)',\n",
       "       'MOTEL W/RESTAURANT', 'CELLULAR TOWER', 'CARRIAGE HOUSE',\n",
       "       'BOWLING CENTER', 'LEASED CITY OWNED PROPERTY', 'BOAT HOUSE'],\n",
       "      dtype=object)"
      ]
     },
     "execution_count": 61,
     "metadata": {},
     "output_type": "execute_result"
    }
   ],
   "source": [
    "parcel.use_code_desc.unique()"
   ]
  },
  {
   "cell_type": "code",
   "execution_count": 63,
   "metadata": {},
   "outputs": [
    {
     "data": {
      "text/plain": [
       "array([nan, 'improved', 'unimproved'], dtype=object)"
      ]
     },
     "execution_count": 63,
     "metadata": {},
     "output_type": "execute_result"
    }
   ],
   "source": [
    "mcm.Improved.unique()"
   ]
  },
  {
   "cell_type": "code",
   "execution_count": 65,
   "metadata": {},
   "outputs": [
    {
     "data": {
      "text/plain": [
       "array([1, 0])"
      ]
     },
     "execution_count": 65,
     "metadata": {},
     "output_type": "execute_result"
    }
   ],
   "source": [
    "parcel.is_improved.unique()"
   ]
  },
  {
   "cell_type": "code",
   "execution_count": 73,
   "metadata": {},
   "outputs": [
    {
     "data": {
      "text/plain": [
       "0     2014/02/07 17:58:18+00\n",
       "1     2014/02/07 17:57:31+00\n",
       "2     2014/02/07 18:01:08+00\n",
       "3     2014/02/07 17:58:55+00\n",
       "4     2014/02/06 20:42:28+00\n",
       "               ...          \n",
       "95    2013/12/16 18:05:19+00\n",
       "96    2013/12/16 15:54:31+00\n",
       "97    2013/12/16 17:48:10+00\n",
       "98    2013/12/16 17:47:37+00\n",
       "99    2013/12/16 17:55:34+00\n",
       "Name: Time_Surveyed, Length: 100, dtype: object"
      ]
     },
     "execution_count": 73,
     "metadata": {},
     "output_type": "execute_result"
    }
   ],
   "source": [
    "mcm.Time_Surveyed.head(100)"
   ]
  },
  {
   "cell_type": "code",
   "execution_count": 68,
   "metadata": {},
   "outputs": [
    {
     "data": {
      "text/plain": [
       "array([  1,   2,  42,  10,  61,   4,  16,   8,   3,   7,   5,  32,   6,\n",
       "         9,  12,  18,  24,  19,   0,  21,  62,  20,  14, 334,  23, 228,\n",
       "        65,  80,  48,  30,  67,  17,  41,  33,  11,  66, 295,  34,  97,\n",
       "        38,  72,  36,  37, 237,  29,  43,  58, 173,  22,  50,  51,  15,\n",
       "       172, 209,  35,  89,  25,  26,  13])"
      ]
     },
     "execution_count": 68,
     "metadata": {},
     "output_type": "execute_result"
    }
   ],
   "source": [
    "mcm.PCount.unique()"
   ]
  },
  {
   "cell_type": "code",
   "execution_count": 74,
   "metadata": {},
   "outputs": [
    {
     "name": "stdout",
     "output_type": "stream",
     "text": [
      "<class 'pandas.core.frame.DataFrame'>\n",
      "RangeIndex: 496335 entries, 0 to 496334\n",
      "Data columns (total 36 columns):\n",
      " #   Column                      Non-Null Count   Dtype  \n",
      "---  ------                      --------------   -----  \n",
      " 0   X                           306227 non-null  float64\n",
      " 1   Y                           306227 non-null  float64\n",
      " 2   ticket_id                   496335 non-null  int64  \n",
      " 3   ticket_number               496335 non-null  object \n",
      " 4   agency_name                 496335 non-null  object \n",
      " 5   inspector_name              496335 non-null  object \n",
      " 6   violator_name               496333 non-null  object \n",
      " 7   violation_street_number     496335 non-null  int64  \n",
      " 8   violation_street_name       496270 non-null  object \n",
      " 9   violation_zip_code          154162 non-null  object \n",
      " 10  violator_id                 496335 non-null  int64  \n",
      " 11  mailing_address_str_number  496329 non-null  object \n",
      " 12  mailing_address_str_name    496325 non-null  object \n",
      " 13  city                        493079 non-null  object \n",
      " 14  state                       492616 non-null  object \n",
      " 15  zip_code                    493076 non-null  object \n",
      " 16  non_us_str_code             3259 non-null    object \n",
      " 17  country                     3270 non-null    object \n",
      " 18  violation_date              496335 non-null  object \n",
      " 19  ticket_issued_time          496335 non-null  object \n",
      " 20  hearing_date                496335 non-null  object \n",
      " 21  hearing_time                496323 non-null  object \n",
      " 22  judgment_date               496335 non-null  object \n",
      " 23  violation_code              496333 non-null  object \n",
      " 24  violation_description       496333 non-null  object \n",
      " 25  disposition                 496335 non-null  object \n",
      " 26  clean_up_cost               0 non-null       float64\n",
      " 27  payment_amount              0 non-null       float64\n",
      " 28  payment_date                496335 non-null  object \n",
      " 29  payment_status              316728 non-null  object \n",
      " 30  collection_status           73200 non-null   object \n",
      " 31  violation_address           496335 non-null  object \n",
      " 32  parcelno                    306227 non-null  object \n",
      " 33  oid                         496335 non-null  int64  \n",
      " 34  geom                        0 non-null       float64\n",
      " 35  fine_amount                 0 non-null       float64\n",
      "dtypes: float64(6), int64(4), object(26)\n",
      "memory usage: 136.3+ MB\n"
     ]
    }
   ],
   "source": [
    "df.info()"
   ]
  },
  {
   "cell_type": "code",
   "execution_count": 78,
   "metadata": {},
   "outputs": [
    {
     "data": {
      "text/plain": [
       "0         2005/01/13 00:00:00+00\n",
       "1         2005/01/14 00:00:00+00\n",
       "2         2005/01/14 00:00:00+00\n",
       "3         2005/01/14 00:00:00+00\n",
       "4         2005/01/14 00:00:00+00\n",
       "                   ...          \n",
       "496330    2021/02/12 00:00:00+00\n",
       "496331    2021/02/12 00:00:00+00\n",
       "496332    2021/02/12 00:00:00+00\n",
       "496333    2021/02/12 00:00:00+00\n",
       "496334    2021/02/12 00:00:00+00\n",
       "Name: violation_date, Length: 496335, dtype: object"
      ]
     },
     "execution_count": 78,
     "metadata": {},
     "output_type": "execute_result"
    }
   ],
   "source": [
    "df.violation_date"
   ]
  },
  {
   "cell_type": "code",
   "execution_count": null,
   "metadata": {},
   "outputs": [],
   "source": []
  }
 ],
 "metadata": {
  "kernelspec": {
   "display_name": "Python 3",
   "language": "python",
   "name": "python3"
  },
  "language_info": {
   "codemirror_mode": {
    "name": "ipython",
    "version": 3
   },
   "file_extension": ".py",
   "mimetype": "text/x-python",
   "name": "python",
   "nbconvert_exporter": "python",
   "pygments_lexer": "ipython3",
   "version": "3.7.6"
  }
 },
 "nbformat": 4,
 "nbformat_minor": 4
}
