{
 "cells": [
  {
   "cell_type": "markdown",
   "metadata": {},
   "source": [
    "## EDA with  Motor_City_Mapping,_Winter_2013-14_Certified_Results"
   ]
  },
  {
   "cell_type": "code",
   "execution_count": 195,
   "metadata": {},
   "outputs": [
    {
     "name": "stdout",
     "output_type": "stream",
     "text": [
      "The autoreload extension is already loaded. To reload it, use:\n",
      "  %reload_ext autoreload\n"
     ]
    }
   ],
   "source": [
    "import pandas as pd\n",
    "import datetime\n",
    "import numpy as np\n",
    "import matplotlib.pyplot as plt\n",
    "import seaborn as sns\n",
    "from geopy.distance import distance\n",
    "import re\n",
    "\n",
    "from cleaning_utils import * # import all existing functions from file cleaning.py\n",
    "\n",
    "%load_ext autoreload\n",
    "%autoreload 2\n",
    "\n",
    "\n",
    "pd.set_option('display.max_columns', 360)"
   ]
  },
  {
   "cell_type": "code",
   "execution_count": 196,
   "metadata": {},
   "outputs": [
    {
     "name": "stderr",
     "output_type": "stream",
     "text": [
      "/Users/ivan/opt/anaconda3/lib/python3.7/site-packages/IPython/core/interactiveshell.py:3063: DtypeWarning: Columns (4) have mixed types.Specify dtype option on import or set low_memory=False.\n",
      "  interactivity=interactivity, compiler=compiler, result=result)\n"
     ]
    }
   ],
   "source": [
    "mcm = pd.read_csv('../P3_data/Motor_City_Mapping,_Winter_2013-14_Certified_Results.csv')"
   ]
  },
  {
   "cell_type": "code",
   "execution_count": 197,
   "metadata": {},
   "outputs": [
    {
     "data": {
      "text/html": [
       "<div>\n",
       "<style scoped>\n",
       "    .dataframe tbody tr th:only-of-type {\n",
       "        vertical-align: middle;\n",
       "    }\n",
       "\n",
       "    .dataframe tbody tr th {\n",
       "        vertical-align: top;\n",
       "    }\n",
       "\n",
       "    .dataframe thead th {\n",
       "        text-align: right;\n",
       "    }\n",
       "</style>\n",
       "<table border=\"1\" class=\"dataframe\">\n",
       "  <thead>\n",
       "    <tr style=\"text-align: right;\">\n",
       "      <th></th>\n",
       "      <th>OBJECTID</th>\n",
       "      <th>D3_SurveyParcelID</th>\n",
       "      <th>CityParcelID2013</th>\n",
       "      <th>AddCombo</th>\n",
       "      <th>Address_Number</th>\n",
       "      <th>Address_Direction</th>\n",
       "      <th>Street</th>\n",
       "      <th>Zip</th>\n",
       "      <th>PCount</th>\n",
       "      <th>Blext_ID</th>\n",
       "      <th>User_ID</th>\n",
       "      <th>Reviewer_ID</th>\n",
       "      <th>Time_Surveyed</th>\n",
       "      <th>Updated_At</th>\n",
       "      <th>Status</th>\n",
       "      <th>Photo_URL</th>\n",
       "      <th>Structure</th>\n",
       "      <th>Use_</th>\n",
       "      <th>Condition</th>\n",
       "      <th>Occupancy</th>\n",
       "      <th>Needs_Boarding</th>\n",
       "      <th>Fire</th>\n",
       "      <th>Dumping</th>\n",
       "      <th>Units</th>\n",
       "      <th>Improved</th>\n",
       "      <th>Maintained</th>\n",
       "      <th>PublicUse</th>\n",
       "      <th>Notes</th>\n",
       "      <th>GEOID10_Tract</th>\n",
       "      <th>NAMELSAD10_Tract</th>\n",
       "      <th>GEOID10_Block</th>\n",
       "      <th>NAME10_Block</th>\n",
       "      <th>GeoID10_BG</th>\n",
       "    </tr>\n",
       "  </thead>\n",
       "  <tbody>\n",
       "    <tr>\n",
       "      <th>0</th>\n",
       "      <td>1</td>\n",
       "      <td>01000004.001</td>\n",
       "      <td>01000004.001</td>\n",
       "      <td>201 RANDOLPH</td>\n",
       "      <td>201</td>\n",
       "      <td></td>\n",
       "      <td>RANDOLPH</td>\n",
       "      <td>48200</td>\n",
       "      <td>1</td>\n",
       "      <td>411094.0</td>\n",
       "      <td>2891.0</td>\n",
       "      <td>3284.0</td>\n",
       "      <td>2014/02/07 17:58:18+00</td>\n",
       "      <td>2014/08/27 15:31:15+00</td>\n",
       "      <td>1.0</td>\n",
       "      <td>https://wdwot.s3.amazonaws.com/blexts/000/411/...</td>\n",
       "      <td>yes</td>\n",
       "      <td>commercial</td>\n",
       "      <td>good</td>\n",
       "      <td>occupied</td>\n",
       "      <td>no</td>\n",
       "      <td>no</td>\n",
       "      <td>no</td>\n",
       "      <td>NaN</td>\n",
       "      <td>NaN</td>\n",
       "      <td>NaN</td>\n",
       "      <td>NaN</td>\n",
       "      <td>Parcel contains portion of Detroit-Windsor Tunnel</td>\n",
       "      <td>26163517200</td>\n",
       "      <td>Census Tract 5172</td>\n",
       "      <td>261635172001080</td>\n",
       "      <td>Block 1080</td>\n",
       "      <td>261635172001</td>\n",
       "    </tr>\n",
       "    <tr>\n",
       "      <th>1</th>\n",
       "      <td>2</td>\n",
       "      <td>01000004.002L</td>\n",
       "      <td>01000004.002L</td>\n",
       "      <td>159 RANDOLPH</td>\n",
       "      <td>159</td>\n",
       "      <td></td>\n",
       "      <td>RANDOLPH</td>\n",
       "      <td>48200</td>\n",
       "      <td>1</td>\n",
       "      <td>411082.0</td>\n",
       "      <td>2891.0</td>\n",
       "      <td>3284.0</td>\n",
       "      <td>2014/02/07 17:57:31+00</td>\n",
       "      <td>2014/02/10 18:16:20+00</td>\n",
       "      <td>1.0</td>\n",
       "      <td>https://wdwot.s3.amazonaws.com/blexts/000/411/...</td>\n",
       "      <td>yes</td>\n",
       "      <td>commercial</td>\n",
       "      <td>good</td>\n",
       "      <td>occupied</td>\n",
       "      <td>no</td>\n",
       "      <td>no</td>\n",
       "      <td>no</td>\n",
       "      <td>NaN</td>\n",
       "      <td>NaN</td>\n",
       "      <td>NaN</td>\n",
       "      <td>NaN</td>\n",
       "      <td>NaN</td>\n",
       "      <td>26163517200</td>\n",
       "      <td>Census Tract 5172</td>\n",
       "      <td>261635172001082</td>\n",
       "      <td>Block 1082</td>\n",
       "      <td>261635172001</td>\n",
       "    </tr>\n",
       "    <tr>\n",
       "      <th>2</th>\n",
       "      <td>3</td>\n",
       "      <td>01000005.002L</td>\n",
       "      <td>01000005.002L</td>\n",
       "      <td>160 E JEFFERSON</td>\n",
       "      <td>160</td>\n",
       "      <td>E</td>\n",
       "      <td>JEFFERSON</td>\n",
       "      <td></td>\n",
       "      <td>1</td>\n",
       "      <td>411127.0</td>\n",
       "      <td>2891.0</td>\n",
       "      <td>3284.0</td>\n",
       "      <td>2014/02/07 18:01:08+00</td>\n",
       "      <td>2014/02/10 18:15:49+00</td>\n",
       "      <td>1.0</td>\n",
       "      <td>https://wdwot.s3.amazonaws.com/blexts/000/411/...</td>\n",
       "      <td>yes</td>\n",
       "      <td>commercial</td>\n",
       "      <td>good</td>\n",
       "      <td>occupied</td>\n",
       "      <td>no</td>\n",
       "      <td>no</td>\n",
       "      <td>no</td>\n",
       "      <td>NaN</td>\n",
       "      <td>NaN</td>\n",
       "      <td>NaN</td>\n",
       "      <td>NaN</td>\n",
       "      <td>NaN</td>\n",
       "      <td>26163517200</td>\n",
       "      <td>Census Tract 5172</td>\n",
       "      <td>261635172001088</td>\n",
       "      <td>Block 1088</td>\n",
       "      <td>261635172001</td>\n",
       "    </tr>\n",
       "  </tbody>\n",
       "</table>\n",
       "</div>"
      ],
      "text/plain": [
       "   OBJECTID D3_SurveyParcelID CityParcelID2013         AddCombo  \\\n",
       "0         1      01000004.001     01000004.001     201 RANDOLPH   \n",
       "1         2     01000004.002L    01000004.002L     159 RANDOLPH   \n",
       "2         3     01000005.002L    01000005.002L  160 E JEFFERSON   \n",
       "\n",
       "  Address_Number Address_Direction     Street    Zip  PCount  Blext_ID  \\\n",
       "0            201                     RANDOLPH  48200       1  411094.0   \n",
       "1            159                     RANDOLPH  48200       1  411082.0   \n",
       "2            160                 E  JEFFERSON              1  411127.0   \n",
       "\n",
       "   User_ID  Reviewer_ID           Time_Surveyed              Updated_At  \\\n",
       "0   2891.0       3284.0  2014/02/07 17:58:18+00  2014/08/27 15:31:15+00   \n",
       "1   2891.0       3284.0  2014/02/07 17:57:31+00  2014/02/10 18:16:20+00   \n",
       "2   2891.0       3284.0  2014/02/07 18:01:08+00  2014/02/10 18:15:49+00   \n",
       "\n",
       "   Status                                          Photo_URL Structure  \\\n",
       "0     1.0  https://wdwot.s3.amazonaws.com/blexts/000/411/...       yes   \n",
       "1     1.0  https://wdwot.s3.amazonaws.com/blexts/000/411/...       yes   \n",
       "2     1.0  https://wdwot.s3.amazonaws.com/blexts/000/411/...       yes   \n",
       "\n",
       "         Use_ Condition Occupancy Needs_Boarding Fire Dumping Units Improved  \\\n",
       "0  commercial      good  occupied             no   no      no   NaN      NaN   \n",
       "1  commercial      good  occupied             no   no      no   NaN      NaN   \n",
       "2  commercial      good  occupied             no   no      no   NaN      NaN   \n",
       "\n",
       "  Maintained PublicUse                                              Notes  \\\n",
       "0        NaN       NaN  Parcel contains portion of Detroit-Windsor Tunnel   \n",
       "1        NaN       NaN                                                NaN   \n",
       "2        NaN       NaN                                                NaN   \n",
       "\n",
       "   GEOID10_Tract   NAMELSAD10_Tract    GEOID10_Block NAME10_Block  \\\n",
       "0    26163517200  Census Tract 5172  261635172001080   Block 1080   \n",
       "1    26163517200  Census Tract 5172  261635172001082   Block 1082   \n",
       "2    26163517200  Census Tract 5172  261635172001088   Block 1088   \n",
       "\n",
       "     GeoID10_BG  \n",
       "0  261635172001  \n",
       "1  261635172001  \n",
       "2  261635172001  "
      ]
     },
     "execution_count": 197,
     "metadata": {},
     "output_type": "execute_result"
    }
   ],
   "source": [
    "mcm.head(3)"
   ]
  },
  {
   "cell_type": "code",
   "execution_count": 198,
   "metadata": {},
   "outputs": [
    {
     "data": {
      "text/plain": [
       "['OBJECTID',\n",
       " 'D3_SurveyParcelID',\n",
       " 'CityParcelID2013',\n",
       " 'AddCombo',\n",
       " 'Address_Number',\n",
       " 'Address_Direction',\n",
       " 'Street',\n",
       " 'Zip',\n",
       " 'PCount',\n",
       " 'Blext_ID',\n",
       " 'User_ID',\n",
       " 'Reviewer_ID',\n",
       " 'Time_Surveyed',\n",
       " 'Updated_At',\n",
       " 'Status',\n",
       " 'Photo_URL',\n",
       " 'Structure',\n",
       " 'Use_',\n",
       " 'Condition',\n",
       " 'Occupancy',\n",
       " 'Needs_Boarding',\n",
       " 'Fire',\n",
       " 'Dumping',\n",
       " 'Units',\n",
       " 'Improved',\n",
       " 'Maintained',\n",
       " 'PublicUse',\n",
       " 'Notes',\n",
       " 'GEOID10_Tract',\n",
       " 'NAMELSAD10_Tract',\n",
       " 'GEOID10_Block',\n",
       " 'NAME10_Block',\n",
       " 'GeoID10_BG']"
      ]
     },
     "execution_count": 198,
     "metadata": {},
     "output_type": "execute_result"
    }
   ],
   "source": [
    "list(mcm.columns)"
   ]
  },
  {
   "cell_type": "code",
   "execution_count": 201,
   "metadata": {},
   "outputs": [],
   "source": [
    "# Selecting not important features to drop from DF\n",
    "\n",
    "columns_to_drop = ['OBJECTID',\n",
    "                 'PublicUse',\n",
    "                 'D3_SurveyParcelID',\n",
    "                 'Use_',\n",
    "                 'Address_Number',\n",
    "                 'Address_Direction',\n",
    "                 'Street',\n",
    "                 'Zip',\n",
    "                 'PCount',\n",
    "                 'Blext_ID',\n",
    "                 'User_ID',\n",
    "                 'Reviewer_ID',\n",
    "                 'Time_Surveyed',\n",
    "                 'Updated_At',\n",
    "                 'Status',\n",
    "                 'Photo_URL',\n",
    "                 'Notes',\n",
    "                 'GEOID10_Tract',\n",
    "                 'NAMELSAD10_Tract',\n",
    "                 'GEOID10_Block',\n",
    "                 'NAME10_Block',\n",
    "                 'GeoID10_BG']"
   ]
  },
  {
   "cell_type": "code",
   "execution_count": 202,
   "metadata": {},
   "outputs": [],
   "source": [
    "mcm = mcm.drop(columns=columns_to_drop)"
   ]
  },
  {
   "cell_type": "code",
   "execution_count": 203,
   "metadata": {},
   "outputs": [],
   "source": [
    "mcm.rename({'CityParcelID2013': 'parcel_id'}, axis=1, inplace=True)"
   ]
  },
  {
   "cell_type": "code",
   "execution_count": 204,
   "metadata": {},
   "outputs": [],
   "source": [
    "mcm['parcel_id'] = mcm.apply(parse_parcel,axis=1)"
   ]
  },
  {
   "cell_type": "code",
   "execution_count": 205,
   "metadata": {},
   "outputs": [],
   "source": [
    "mcm = mcm.dropna(subset= [ 'Condition', 'Occupancy', 'Needs_Boarding', 'Fire', 'Dumping', 'Maintained'], how='all')"
   ]
  },
  {
   "cell_type": "code",
   "execution_count": 206,
   "metadata": {},
   "outputs": [],
   "source": [
    "count_id = pd.DataFrame(mcm.groupby('parcel_id')['parcel_id'].count())"
   ]
  },
  {
   "cell_type": "code",
   "execution_count": 207,
   "metadata": {},
   "outputs": [],
   "source": [
    "count_id = count_id.rename({'parcel_id':'parcel_count'}, axis=1)"
   ]
  },
  {
   "cell_type": "code",
   "execution_count": 208,
   "metadata": {},
   "outputs": [],
   "source": [
    "count_id = count_id.reset_index()"
   ]
  },
  {
   "cell_type": "code",
   "execution_count": 209,
   "metadata": {},
   "outputs": [],
   "source": [
    "mcm = pd.merge(mcm, count_id, left_on='parcel_id', right_on='parcel_id')"
   ]
  },
  {
   "cell_type": "code",
   "execution_count": 210,
   "metadata": {},
   "outputs": [],
   "source": [
    "mcm = mcm[mcm.parcel_count ==1].drop('parcel_count', axis =1)"
   ]
  },
  {
   "cell_type": "code",
   "execution_count": null,
   "metadata": {},
   "outputs": [],
   "source": []
  },
  {
   "cell_type": "code",
   "execution_count": 211,
   "metadata": {},
   "outputs": [],
   "source": [
    "mcm.Dumping.fillna('no', inplace = True)\n",
    "mcm.Units.fillna('4+ units', inplace = True)\n",
    "mcm.Fire.fillna('no', inplace = True)\n",
    "mcm.Occupancy.fillna('yes', inplace = True)\n",
    "mcm.Improved.fillna('not_defined', inplace = True)"
   ]
  },
  {
   "cell_type": "code",
   "execution_count": 227,
   "metadata": {},
   "outputs": [
    {
     "name": "stdout",
     "output_type": "stream",
     "text": [
      "<class 'pandas.core.frame.DataFrame'>\n",
      "Int64Index: 247393 entries, 2 to 373211\n",
      "Data columns (total 11 columns):\n",
      " #   Column          Non-Null Count   Dtype \n",
      "---  ------          --------------   ----- \n",
      " 0   parcel_id       247393 non-null  int64 \n",
      " 1   AddCombo        247393 non-null  object\n",
      " 2   Structure       247392 non-null  object\n",
      " 3   Condition       247393 non-null  object\n",
      " 4   Occupancy       247393 non-null  object\n",
      " 5   Needs_Boarding  247393 non-null  object\n",
      " 6   Fire            247393 non-null  object\n",
      " 7   Dumping         247393 non-null  object\n",
      " 8   Units           247393 non-null  object\n",
      " 9   Improved        247393 non-null  object\n",
      " 10  Maintained      247393 non-null  object\n",
      "dtypes: int64(1), object(10)\n",
      "memory usage: 22.6+ MB\n"
     ]
    }
   ],
   "source": [
    "mcm.info()"
   ]
  },
  {
   "cell_type": "code",
   "execution_count": 226,
   "metadata": {},
   "outputs": [],
   "source": [
    "mcm.dropna(subset=['Condition'], inplace=True)"
   ]
  },
  {
   "cell_type": "code",
   "execution_count": 222,
   "metadata": {},
   "outputs": [],
   "source": [
    "mcm.Maintained.fillna('unknown', inplace= True)"
   ]
  },
  {
   "cell_type": "code",
   "execution_count": 219,
   "metadata": {},
   "outputs": [],
   "source": [
    "mcm.Needs_Boarding.fillna('no', inplace=True)"
   ]
  },
  {
   "cell_type": "code",
   "execution_count": 228,
   "metadata": {},
   "outputs": [],
   "source": [
    "mcm.to_csv(r'data/MCM.csv', index = False)"
   ]
  },
  {
   "cell_type": "code",
   "execution_count": null,
   "metadata": {},
   "outputs": [],
   "source": []
  }
 ],
 "metadata": {
  "kernelspec": {
   "display_name": "Python 3",
   "language": "python",
   "name": "python3"
  },
  "language_info": {
   "codemirror_mode": {
    "name": "ipython",
    "version": 3
   },
   "file_extension": ".py",
   "mimetype": "text/x-python",
   "name": "python",
   "nbconvert_exporter": "python",
   "pygments_lexer": "ipython3",
   "version": "3.7.6"
  }
 },
 "nbformat": 4,
 "nbformat_minor": 4
}
