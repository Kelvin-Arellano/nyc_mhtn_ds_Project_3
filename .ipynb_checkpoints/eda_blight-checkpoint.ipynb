{
 "cells": [
  {
   "cell_type": "code",
   "execution_count": 159,
   "metadata": {},
   "outputs": [
    {
     "name": "stdout",
     "output_type": "stream",
     "text": [
      "The autoreload extension is already loaded. To reload it, use:\n",
      "  %reload_ext autoreload\n"
     ]
    }
   ],
   "source": [
    "import pandas as pd\n",
    "import datetime\n",
    "import numpy as np\n",
    "import matplotlib.pyplot as plt\n",
    "import seaborn as sns\n",
    "\n",
    "\n",
    "from cleaning_utils import * # import all existing functions from file cleaning.py\n",
    "\n",
    "%load_ext autoreload\n",
    "%autoreload 2\n",
    "\n",
    "\n",
    "pd.set_option('display.max_columns', 360)"
   ]
  },
  {
   "cell_type": "markdown",
   "metadata": {},
   "source": [
    "## Loading Blight Data"
   ]
  },
  {
   "cell_type": "code",
   "execution_count": 131,
   "metadata": {},
   "outputs": [
    {
     "name": "stderr",
     "output_type": "stream",
     "text": [
      "/Users/ivan/opt/anaconda3/lib/python3.7/site-packages/IPython/core/interactiveshell.py:3063: DtypeWarning: Columns (9,11,15,16,17,30) have mixed types.Specify dtype option on import or set low_memory=False.\n",
      "  interactivity=interactivity, compiler=compiler, result=result)\n"
     ]
    }
   ],
   "source": [
    "blight = pd.read_csv('../P3_data/Blight_Violations.csv')"
   ]
  },
  {
   "cell_type": "code",
   "execution_count": 132,
   "metadata": {},
   "outputs": [
    {
     "data": {
      "text/html": [
       "<div>\n",
       "<style scoped>\n",
       "    .dataframe tbody tr th:only-of-type {\n",
       "        vertical-align: middle;\n",
       "    }\n",
       "\n",
       "    .dataframe tbody tr th {\n",
       "        vertical-align: top;\n",
       "    }\n",
       "\n",
       "    .dataframe thead th {\n",
       "        text-align: right;\n",
       "    }\n",
       "</style>\n",
       "<table border=\"1\" class=\"dataframe\">\n",
       "  <thead>\n",
       "    <tr style=\"text-align: right;\">\n",
       "      <th></th>\n",
       "      <th>X</th>\n",
       "      <th>Y</th>\n",
       "      <th>ticket_id</th>\n",
       "      <th>ticket_number</th>\n",
       "      <th>agency_name</th>\n",
       "      <th>inspector_name</th>\n",
       "      <th>violator_name</th>\n",
       "      <th>violation_street_number</th>\n",
       "      <th>violation_street_name</th>\n",
       "      <th>violation_zip_code</th>\n",
       "      <th>violator_id</th>\n",
       "      <th>mailing_address_str_number</th>\n",
       "      <th>mailing_address_str_name</th>\n",
       "      <th>city</th>\n",
       "      <th>state</th>\n",
       "      <th>zip_code</th>\n",
       "      <th>non_us_str_code</th>\n",
       "      <th>country</th>\n",
       "      <th>violation_date</th>\n",
       "      <th>ticket_issued_time</th>\n",
       "      <th>hearing_date</th>\n",
       "      <th>hearing_time</th>\n",
       "      <th>judgment_date</th>\n",
       "      <th>violation_code</th>\n",
       "      <th>violation_description</th>\n",
       "      <th>disposition</th>\n",
       "      <th>clean_up_cost</th>\n",
       "      <th>payment_amount</th>\n",
       "      <th>payment_date</th>\n",
       "      <th>payment_status</th>\n",
       "      <th>collection_status</th>\n",
       "      <th>violation_address</th>\n",
       "      <th>parcelno</th>\n",
       "      <th>oid</th>\n",
       "      <th>geom</th>\n",
       "      <th>fine_amount</th>\n",
       "    </tr>\n",
       "  </thead>\n",
       "  <tbody>\n",
       "    <tr>\n",
       "      <th>0</th>\n",
       "      <td>-83.072573</td>\n",
       "      <td>42.383350</td>\n",
       "      <td>18645</td>\n",
       "      <td>05001700DAH</td>\n",
       "      <td>Buildings, Safety Engineering &amp; Env Department</td>\n",
       "      <td>Orbie Gailes</td>\n",
       "      <td>Dean  Byrd</td>\n",
       "      <td>601</td>\n",
       "      <td>KING</td>\n",
       "      <td>NaN</td>\n",
       "      <td>1614</td>\n",
       "      <td>599</td>\n",
       "      <td>King</td>\n",
       "      <td>Det</td>\n",
       "      <td>MI</td>\n",
       "      <td>48202</td>\n",
       "      <td>NaN</td>\n",
       "      <td>NaN</td>\n",
       "      <td>2005/01/13 00:00:00+00</td>\n",
       "      <td>1900/01/01 14:00:00</td>\n",
       "      <td>2005/02/07 00:00:00+00</td>\n",
       "      <td>09:00:00</td>\n",
       "      <td>2005/02/07 00:00:00+00</td>\n",
       "      <td>9-1-36(a)</td>\n",
       "      <td>Failure of owner to obtain certificate of comp...</td>\n",
       "      <td>Responsible by Default</td>\n",
       "      <td>NaN</td>\n",
       "      <td>NaN</td>\n",
       "      <td>1970/01/01 00:00:00+00</td>\n",
       "      <td>NaN</td>\n",
       "      <td>NaN</td>\n",
       "      <td>601 KING</td>\n",
       "      <td>03002390.</td>\n",
       "      <td>18645</td>\n",
       "      <td>NaN</td>\n",
       "      <td>NaN</td>\n",
       "    </tr>\n",
       "    <tr>\n",
       "      <th>1</th>\n",
       "      <td>-83.072479</td>\n",
       "      <td>42.383394</td>\n",
       "      <td>18646</td>\n",
       "      <td>05001701DAH</td>\n",
       "      <td>Buildings, Safety Engineering &amp; Env Department</td>\n",
       "      <td>Orbie Gailes</td>\n",
       "      <td>Cynthia Roberts</td>\n",
       "      <td>607</td>\n",
       "      <td>KING</td>\n",
       "      <td>NaN</td>\n",
       "      <td>1615</td>\n",
       "      <td>18604</td>\n",
       "      <td>Appoline</td>\n",
       "      <td>Det</td>\n",
       "      <td>MI</td>\n",
       "      <td>48235</td>\n",
       "      <td>NaN</td>\n",
       "      <td>NaN</td>\n",
       "      <td>2005/01/14 00:00:00+00</td>\n",
       "      <td>1900/01/01 00:45:00</td>\n",
       "      <td>2005/02/14 00:00:00+00</td>\n",
       "      <td>09:00:00</td>\n",
       "      <td>2019/09/16 10:26:00+00</td>\n",
       "      <td>9-1-36(a)</td>\n",
       "      <td>Failure of owner to obtain certificate of comp...</td>\n",
       "      <td>Not responsible by City Dismissal</td>\n",
       "      <td>NaN</td>\n",
       "      <td>NaN</td>\n",
       "      <td>1970/01/01 00:00:00+00</td>\n",
       "      <td>NO PAYMENT DUE</td>\n",
       "      <td>NaN</td>\n",
       "      <td>607 KING</td>\n",
       "      <td>03002391.</td>\n",
       "      <td>18646</td>\n",
       "      <td>NaN</td>\n",
       "      <td>NaN</td>\n",
       "    </tr>\n",
       "    <tr>\n",
       "      <th>2</th>\n",
       "      <td>-83.115061</td>\n",
       "      <td>42.359916</td>\n",
       "      <td>18648</td>\n",
       "      <td>05001703DAH</td>\n",
       "      <td>Buildings, Safety Engineering &amp; Env Department</td>\n",
       "      <td>Orbie Gailes</td>\n",
       "      <td>Dannny Barnes</td>\n",
       "      <td>4066</td>\n",
       "      <td>COLUMBUS</td>\n",
       "      <td>NaN</td>\n",
       "      <td>1617</td>\n",
       "      <td>4066</td>\n",
       "      <td>Columbus</td>\n",
       "      <td>Det</td>\n",
       "      <td>MI</td>\n",
       "      <td>48204</td>\n",
       "      <td>NaN</td>\n",
       "      <td>NaN</td>\n",
       "      <td>2005/01/14 00:00:00+00</td>\n",
       "      <td>1900/01/01 14:00:00</td>\n",
       "      <td>2005/02/14 00:00:00+00</td>\n",
       "      <td>09:00:00</td>\n",
       "      <td>2005/02/14 00:00:00+00</td>\n",
       "      <td>9-1-36(a)</td>\n",
       "      <td>Failure of owner to obtain certificate of comp...</td>\n",
       "      <td>Not responsible by Dismissal</td>\n",
       "      <td>NaN</td>\n",
       "      <td>NaN</td>\n",
       "      <td>1970/01/01 00:00:00+00</td>\n",
       "      <td>NO PAYMENT DUE</td>\n",
       "      <td>NaN</td>\n",
       "      <td>4066 COLUMBUS</td>\n",
       "      <td>14002572.</td>\n",
       "      <td>18648</td>\n",
       "      <td>NaN</td>\n",
       "      <td>NaN</td>\n",
       "    </tr>\n",
       "  </tbody>\n",
       "</table>\n",
       "</div>"
      ],
      "text/plain": [
       "           X          Y  ticket_id ticket_number  \\\n",
       "0 -83.072573  42.383350      18645   05001700DAH   \n",
       "1 -83.072479  42.383394      18646   05001701DAH   \n",
       "2 -83.115061  42.359916      18648   05001703DAH   \n",
       "\n",
       "                                      agency_name inspector_name  \\\n",
       "0  Buildings, Safety Engineering & Env Department   Orbie Gailes   \n",
       "1  Buildings, Safety Engineering & Env Department   Orbie Gailes   \n",
       "2  Buildings, Safety Engineering & Env Department   Orbie Gailes   \n",
       "\n",
       "     violator_name  violation_street_number violation_street_name  \\\n",
       "0       Dean  Byrd                      601      KING               \n",
       "1  Cynthia Roberts                      607      KING               \n",
       "2    Dannny Barnes                     4066      COLUMBUS           \n",
       "\n",
       "  violation_zip_code  violator_id mailing_address_str_number  \\\n",
       "0                NaN         1614                        599   \n",
       "1                NaN         1615                      18604   \n",
       "2                NaN         1617                       4066   \n",
       "\n",
       "  mailing_address_str_name city state zip_code non_us_str_code country  \\\n",
       "0                     King  Det    MI    48202             NaN     NaN   \n",
       "1                 Appoline  Det    MI    48235             NaN     NaN   \n",
       "2                 Columbus  Det    MI    48204             NaN     NaN   \n",
       "\n",
       "           violation_date   ticket_issued_time            hearing_date  \\\n",
       "0  2005/01/13 00:00:00+00  1900/01/01 14:00:00  2005/02/07 00:00:00+00   \n",
       "1  2005/01/14 00:00:00+00  1900/01/01 00:45:00  2005/02/14 00:00:00+00   \n",
       "2  2005/01/14 00:00:00+00  1900/01/01 14:00:00  2005/02/14 00:00:00+00   \n",
       "\n",
       "  hearing_time           judgment_date violation_code  \\\n",
       "0     09:00:00  2005/02/07 00:00:00+00      9-1-36(a)   \n",
       "1     09:00:00  2019/09/16 10:26:00+00      9-1-36(a)   \n",
       "2     09:00:00  2005/02/14 00:00:00+00      9-1-36(a)   \n",
       "\n",
       "                               violation_description  \\\n",
       "0  Failure of owner to obtain certificate of comp...   \n",
       "1  Failure of owner to obtain certificate of comp...   \n",
       "2  Failure of owner to obtain certificate of comp...   \n",
       "\n",
       "                         disposition  clean_up_cost  payment_amount  \\\n",
       "0             Responsible by Default            NaN             NaN   \n",
       "1  Not responsible by City Dismissal            NaN             NaN   \n",
       "2       Not responsible by Dismissal            NaN             NaN   \n",
       "\n",
       "             payment_date  payment_status collection_status  \\\n",
       "0  1970/01/01 00:00:00+00             NaN               NaN   \n",
       "1  1970/01/01 00:00:00+00  NO PAYMENT DUE               NaN   \n",
       "2  1970/01/01 00:00:00+00  NO PAYMENT DUE               NaN   \n",
       "\n",
       "       violation_address   parcelno    oid  geom  fine_amount  \n",
       "0   601 KING              03002390.  18645   NaN          NaN  \n",
       "1   607 KING              03002391.  18646   NaN          NaN  \n",
       "2  4066 COLUMBUS          14002572.  18648   NaN          NaN  "
      ]
     },
     "execution_count": 132,
     "metadata": {},
     "output_type": "execute_result"
    }
   ],
   "source": [
    "blight.head(3)"
   ]
  },
  {
   "cell_type": "code",
   "execution_count": 133,
   "metadata": {},
   "outputs": [
    {
     "data": {
      "text/plain": [
       "(496335, 36)"
      ]
     },
     "execution_count": 133,
     "metadata": {},
     "output_type": "execute_result"
    }
   ],
   "source": [
    "blight.shape"
   ]
  },
  {
   "cell_type": "code",
   "execution_count": 134,
   "metadata": {},
   "outputs": [
    {
     "data": {
      "text/plain": [
       "NO PAYMENT DUE             210004\n",
       "PAID IN FULL                97642\n",
       "PARTIAL PAYMENT APPLIED      9080\n",
       "NO PAYMENT APPLIED              2\n",
       "Name: payment_status, dtype: int64"
      ]
     },
     "execution_count": 134,
     "metadata": {},
     "output_type": "execute_result"
    }
   ],
   "source": [
    "blight.payment_status.value_counts()"
   ]
  },
  {
   "cell_type": "code",
   "execution_count": 135,
   "metadata": {},
   "outputs": [],
   "source": [
    "blight = blight[blight.payment_status == 'PAID IN FULL']"
   ]
  },
  {
   "cell_type": "code",
   "execution_count": 139,
   "metadata": {},
   "outputs": [
    {
     "data": {
      "text/plain": [
       "['X',\n",
       " 'Y',\n",
       " 'ticket_id',\n",
       " 'ticket_number',\n",
       " 'agency_name',\n",
       " 'inspector_name',\n",
       " 'violator_name',\n",
       " 'violation_street_number',\n",
       " 'violation_street_name',\n",
       " 'violation_zip_code',\n",
       " 'violator_id',\n",
       " 'mailing_address_str_number',\n",
       " 'mailing_address_str_name',\n",
       " 'city',\n",
       " 'state',\n",
       " 'zip_code',\n",
       " 'non_us_str_code',\n",
       " 'country',\n",
       " 'violation_date',\n",
       " 'ticket_issued_time',\n",
       " 'hearing_date',\n",
       " 'hearing_time',\n",
       " 'judgment_date',\n",
       " 'violation_code',\n",
       " 'violation_description',\n",
       " 'disposition',\n",
       " 'clean_up_cost',\n",
       " 'payment_amount',\n",
       " 'payment_date',\n",
       " 'payment_status',\n",
       " 'collection_status',\n",
       " 'violation_address',\n",
       " 'parcelno',\n",
       " 'oid',\n",
       " 'geom',\n",
       " 'fine_amount']"
      ]
     },
     "execution_count": 139,
     "metadata": {},
     "output_type": "execute_result"
    }
   ],
   "source": [
    "list(blight.columns)"
   ]
  },
  {
   "cell_type": "code",
   "execution_count": 140,
   "metadata": {},
   "outputs": [],
   "source": [
    "# Selecting not important features to drop from DF\n",
    "\n",
    "columns_to_drop = [\n",
    "                 \n",
    "                 'ticket_number',\n",
    "                 'agency_name',\n",
    "                 'inspector_name',\n",
    "                 'violator_name',\n",
    "                \n",
    "                 'violator_id',\n",
    "                 'mailing_address_str_number',\n",
    "                 'mailing_address_str_name',\n",
    "                 'city',\n",
    "                 'state',\n",
    "                 'zip_code',\n",
    "                 'non_us_str_code',\n",
    "                 'country',\n",
    "                 \n",
    "                 'ticket_issued_time',\n",
    "                 'hearing_date',\n",
    "                 'hearing_time',\n",
    "                 \n",
    "                 'violation_code',\n",
    "                 'violation_description',\n",
    "                 'disposition',\n",
    "                 'clean_up_cost',\n",
    "                 'payment_amount',\n",
    "                 \n",
    "                 \n",
    "                 'collection_status',\n",
    "                 'violation_address',\n",
    "                 \n",
    "                 'oid',\n",
    "                 'geom',\n",
    "                 'fine_amount']"
   ]
  },
  {
   "cell_type": "code",
   "execution_count": 141,
   "metadata": {},
   "outputs": [],
   "source": [
    "blight = blight.drop(columns=columns_to_drop)"
   ]
  },
  {
   "cell_type": "code",
   "execution_count": 142,
   "metadata": {},
   "outputs": [
    {
     "data": {
      "text/plain": [
       "Index(['X', 'Y', 'ticket_id', 'violation_street_number',\n",
       "       'violation_street_name', 'violation_zip_code', 'violation_date',\n",
       "       'judgment_date', 'payment_date', 'payment_status', 'parcelno'],\n",
       "      dtype='object')"
      ]
     },
     "execution_count": 142,
     "metadata": {},
     "output_type": "execute_result"
    }
   ],
   "source": [
    "blight.columns"
   ]
  },
  {
   "cell_type": "code",
   "execution_count": 143,
   "metadata": {},
   "outputs": [
    {
     "data": {
      "text/plain": [
       "(97642, 11)"
      ]
     },
     "execution_count": 143,
     "metadata": {},
     "output_type": "execute_result"
    }
   ],
   "source": [
    "blight.shape"
   ]
  },
  {
   "cell_type": "markdown",
   "metadata": {},
   "source": [
    "### Defining Target Variable Compliance"
   ]
  },
  {
   "cell_type": "code",
   "execution_count": 144,
   "metadata": {},
   "outputs": [
    {
     "data": {
      "text/html": [
       "<div>\n",
       "<style scoped>\n",
       "    .dataframe tbody tr th:only-of-type {\n",
       "        vertical-align: middle;\n",
       "    }\n",
       "\n",
       "    .dataframe tbody tr th {\n",
       "        vertical-align: top;\n",
       "    }\n",
       "\n",
       "    .dataframe thead th {\n",
       "        text-align: right;\n",
       "    }\n",
       "</style>\n",
       "<table border=\"1\" class=\"dataframe\">\n",
       "  <thead>\n",
       "    <tr style=\"text-align: right;\">\n",
       "      <th></th>\n",
       "      <th>X</th>\n",
       "      <th>Y</th>\n",
       "      <th>ticket_id</th>\n",
       "      <th>violation_street_number</th>\n",
       "      <th>violation_street_name</th>\n",
       "      <th>violation_zip_code</th>\n",
       "      <th>violation_date</th>\n",
       "      <th>judgment_date</th>\n",
       "      <th>payment_date</th>\n",
       "      <th>payment_status</th>\n",
       "      <th>parcelno</th>\n",
       "    </tr>\n",
       "  </thead>\n",
       "  <tbody>\n",
       "    <tr>\n",
       "      <th>7</th>\n",
       "      <td>-83.019172</td>\n",
       "      <td>42.339196</td>\n",
       "      <td>18653</td>\n",
       "      <td>2900</td>\n",
       "      <td>JEFFERSON</td>\n",
       "      <td>NaN</td>\n",
       "      <td>2005/01/14 00:00:00+00</td>\n",
       "      <td>2005/02/23 00:00:00+00</td>\n",
       "      <td>2005/02/22 08:43:00+00</td>\n",
       "      <td>PAID IN FULL</td>\n",
       "      <td>11000088.014</td>\n",
       "    </tr>\n",
       "    <tr>\n",
       "      <th>11</th>\n",
       "      <td>-82.942097</td>\n",
       "      <td>42.388525</td>\n",
       "      <td>18657</td>\n",
       "      <td>15439</td>\n",
       "      <td>MACK</td>\n",
       "      <td>NaN</td>\n",
       "      <td>2005/01/14 00:00:00+00</td>\n",
       "      <td>2005/02/18 00:00:00+00</td>\n",
       "      <td>2005/03/09 13:33:00+00</td>\n",
       "      <td>PAID IN FULL</td>\n",
       "      <td>21001420.</td>\n",
       "    </tr>\n",
       "    <tr>\n",
       "      <th>12</th>\n",
       "      <td>-82.946176</td>\n",
       "      <td>42.371778</td>\n",
       "      <td>18658</td>\n",
       "      <td>14214</td>\n",
       "      <td>JEFFERSON</td>\n",
       "      <td>NaN</td>\n",
       "      <td>2005/01/14 00:00:00+00</td>\n",
       "      <td>2005/02/04 00:00:00+00</td>\n",
       "      <td>2005/02/04 10:19:00+00</td>\n",
       "      <td>PAID IN FULL</td>\n",
       "      <td>21000354.</td>\n",
       "    </tr>\n",
       "    <tr>\n",
       "      <th>15</th>\n",
       "      <td>-83.045750</td>\n",
       "      <td>42.335121</td>\n",
       "      <td>18661</td>\n",
       "      <td>1310</td>\n",
       "      <td>BROADWAY</td>\n",
       "      <td>NaN</td>\n",
       "      <td>2005/01/14 00:00:00+00</td>\n",
       "      <td>2005/02/18 00:00:00+00</td>\n",
       "      <td>2007/06/12 00:00:00+00</td>\n",
       "      <td>PAID IN FULL</td>\n",
       "      <td>01004004.</td>\n",
       "    </tr>\n",
       "    <tr>\n",
       "      <th>18</th>\n",
       "      <td>-83.044467</td>\n",
       "      <td>42.335210</td>\n",
       "      <td>18664</td>\n",
       "      <td>343</td>\n",
       "      <td>MACOMB</td>\n",
       "      <td>NaN</td>\n",
       "      <td>2005/01/14 00:00:00+00</td>\n",
       "      <td>2005/03/23 00:00:00+00</td>\n",
       "      <td>2007/05/31 00:00:00+00</td>\n",
       "      <td>PAID IN FULL</td>\n",
       "      <td>01000207.</td>\n",
       "    </tr>\n",
       "  </tbody>\n",
       "</table>\n",
       "</div>"
      ],
      "text/plain": [
       "            X          Y  ticket_id  violation_street_number  \\\n",
       "7  -83.019172  42.339196      18653                     2900   \n",
       "11 -82.942097  42.388525      18657                    15439   \n",
       "12 -82.946176  42.371778      18658                    14214   \n",
       "15 -83.045750  42.335121      18661                     1310   \n",
       "18 -83.044467  42.335210      18664                      343   \n",
       "\n",
       "   violation_street_name violation_zip_code          violation_date  \\\n",
       "7       JEFFERSON                       NaN  2005/01/14 00:00:00+00   \n",
       "11      MACK                            NaN  2005/01/14 00:00:00+00   \n",
       "12      JEFFERSON                       NaN  2005/01/14 00:00:00+00   \n",
       "15      BROADWAY                        NaN  2005/01/14 00:00:00+00   \n",
       "18      MACOMB                          NaN  2005/01/14 00:00:00+00   \n",
       "\n",
       "             judgment_date            payment_date payment_status  \\\n",
       "7   2005/02/23 00:00:00+00  2005/02/22 08:43:00+00   PAID IN FULL   \n",
       "11  2005/02/18 00:00:00+00  2005/03/09 13:33:00+00   PAID IN FULL   \n",
       "12  2005/02/04 00:00:00+00  2005/02/04 10:19:00+00   PAID IN FULL   \n",
       "15  2005/02/18 00:00:00+00  2007/06/12 00:00:00+00   PAID IN FULL   \n",
       "18  2005/03/23 00:00:00+00  2007/05/31 00:00:00+00   PAID IN FULL   \n",
       "\n",
       "        parcelno  \n",
       "7   11000088.014  \n",
       "11     21001420.  \n",
       "12     21000354.  \n",
       "15     01004004.  \n",
       "18     01000207.  "
      ]
     },
     "execution_count": 144,
     "metadata": {},
     "output_type": "execute_result"
    }
   ],
   "source": [
    "blight.head()"
   ]
  },
  {
   "cell_type": "code",
   "execution_count": 145,
   "metadata": {},
   "outputs": [],
   "source": [
    "# Format judgment_date , payment_date columns and violation_date\n",
    "\n",
    "blight['judgment_date'] = blight['judgment_date'].map(lambda x : pd.to_datetime(x, format = '%Y/%m/%d'))\n",
    "blight['payment_date'] = blight['payment_date'].map(lambda x : pd.to_datetime(x, format = '%Y/%m/%d'))\n",
    "blight['violation_date'] = blight['violation_date'].map(lambda x : pd.to_datetime(x, format = '%Y/%m/%d'))\n"
   ]
  },
  {
   "cell_type": "code",
   "execution_count": 129,
   "metadata": {},
   "outputs": [
    {
     "data": {
      "text/html": [
       "<div>\n",
       "<style scoped>\n",
       "    .dataframe tbody tr th:only-of-type {\n",
       "        vertical-align: middle;\n",
       "    }\n",
       "\n",
       "    .dataframe tbody tr th {\n",
       "        vertical-align: top;\n",
       "    }\n",
       "\n",
       "    .dataframe thead th {\n",
       "        text-align: right;\n",
       "    }\n",
       "</style>\n",
       "<table border=\"1\" class=\"dataframe\">\n",
       "  <thead>\n",
       "    <tr style=\"text-align: right;\">\n",
       "      <th></th>\n",
       "      <th>X</th>\n",
       "      <th>Y</th>\n",
       "      <th>ticket_id</th>\n",
       "      <th>violation_street_number</th>\n",
       "      <th>violation_street_name</th>\n",
       "      <th>violation_zip_code</th>\n",
       "      <th>violation_date</th>\n",
       "      <th>judgment_date</th>\n",
       "      <th>payment_date</th>\n",
       "      <th>payment_status</th>\n",
       "      <th>parcelno</th>\n",
       "    </tr>\n",
       "  </thead>\n",
       "  <tbody>\n",
       "    <tr>\n",
       "      <th>7</th>\n",
       "      <td>-83.019172</td>\n",
       "      <td>42.339196</td>\n",
       "      <td>18653</td>\n",
       "      <td>2900</td>\n",
       "      <td>JEFFERSON</td>\n",
       "      <td>NaN</td>\n",
       "      <td>2005-01-14 00:00:00+00:00</td>\n",
       "      <td>2005-02-23 00:00:00+00:00</td>\n",
       "      <td>2005-02-22 08:43:00+00:00</td>\n",
       "      <td>PAID IN FULL</td>\n",
       "      <td>11000088.014</td>\n",
       "    </tr>\n",
       "    <tr>\n",
       "      <th>11</th>\n",
       "      <td>-82.942097</td>\n",
       "      <td>42.388525</td>\n",
       "      <td>18657</td>\n",
       "      <td>15439</td>\n",
       "      <td>MACK</td>\n",
       "      <td>NaN</td>\n",
       "      <td>2005-01-14 00:00:00+00:00</td>\n",
       "      <td>2005-02-18 00:00:00+00:00</td>\n",
       "      <td>2005-03-09 13:33:00+00:00</td>\n",
       "      <td>PAID IN FULL</td>\n",
       "      <td>21001420.</td>\n",
       "    </tr>\n",
       "    <tr>\n",
       "      <th>12</th>\n",
       "      <td>-82.946176</td>\n",
       "      <td>42.371778</td>\n",
       "      <td>18658</td>\n",
       "      <td>14214</td>\n",
       "      <td>JEFFERSON</td>\n",
       "      <td>NaN</td>\n",
       "      <td>2005-01-14 00:00:00+00:00</td>\n",
       "      <td>2005-02-04 00:00:00+00:00</td>\n",
       "      <td>2005-02-04 10:19:00+00:00</td>\n",
       "      <td>PAID IN FULL</td>\n",
       "      <td>21000354.</td>\n",
       "    </tr>\n",
       "    <tr>\n",
       "      <th>15</th>\n",
       "      <td>-83.045750</td>\n",
       "      <td>42.335121</td>\n",
       "      <td>18661</td>\n",
       "      <td>1310</td>\n",
       "      <td>BROADWAY</td>\n",
       "      <td>NaN</td>\n",
       "      <td>2005-01-14 00:00:00+00:00</td>\n",
       "      <td>2005-02-18 00:00:00+00:00</td>\n",
       "      <td>2007-06-12 00:00:00+00:00</td>\n",
       "      <td>PAID IN FULL</td>\n",
       "      <td>01004004.</td>\n",
       "    </tr>\n",
       "    <tr>\n",
       "      <th>18</th>\n",
       "      <td>-83.044467</td>\n",
       "      <td>42.335210</td>\n",
       "      <td>18664</td>\n",
       "      <td>343</td>\n",
       "      <td>MACOMB</td>\n",
       "      <td>NaN</td>\n",
       "      <td>2005-01-14 00:00:00+00:00</td>\n",
       "      <td>2005-03-23 00:00:00+00:00</td>\n",
       "      <td>2007-05-31 00:00:00+00:00</td>\n",
       "      <td>PAID IN FULL</td>\n",
       "      <td>01000207.</td>\n",
       "    </tr>\n",
       "  </tbody>\n",
       "</table>\n",
       "</div>"
      ],
      "text/plain": [
       "            X          Y  ticket_id  violation_street_number  \\\n",
       "7  -83.019172  42.339196      18653                     2900   \n",
       "11 -82.942097  42.388525      18657                    15439   \n",
       "12 -82.946176  42.371778      18658                    14214   \n",
       "15 -83.045750  42.335121      18661                     1310   \n",
       "18 -83.044467  42.335210      18664                      343   \n",
       "\n",
       "   violation_street_name violation_zip_code            violation_date  \\\n",
       "7       JEFFERSON                       NaN 2005-01-14 00:00:00+00:00   \n",
       "11      MACK                            NaN 2005-01-14 00:00:00+00:00   \n",
       "12      JEFFERSON                       NaN 2005-01-14 00:00:00+00:00   \n",
       "15      BROADWAY                        NaN 2005-01-14 00:00:00+00:00   \n",
       "18      MACOMB                          NaN 2005-01-14 00:00:00+00:00   \n",
       "\n",
       "               judgment_date              payment_date payment_status  \\\n",
       "7  2005-02-23 00:00:00+00:00 2005-02-22 08:43:00+00:00   PAID IN FULL   \n",
       "11 2005-02-18 00:00:00+00:00 2005-03-09 13:33:00+00:00   PAID IN FULL   \n",
       "12 2005-02-04 00:00:00+00:00 2005-02-04 10:19:00+00:00   PAID IN FULL   \n",
       "15 2005-02-18 00:00:00+00:00 2007-06-12 00:00:00+00:00   PAID IN FULL   \n",
       "18 2005-03-23 00:00:00+00:00 2007-05-31 00:00:00+00:00   PAID IN FULL   \n",
       "\n",
       "        parcelno  \n",
       "7   11000088.014  \n",
       "11     21001420.  \n",
       "12     21000354.  \n",
       "15     01004004.  \n",
       "18     01000207.  "
      ]
     },
     "execution_count": 129,
     "metadata": {},
     "output_type": "execute_result"
    }
   ],
   "source": [
    "blight.head()"
   ]
  },
  {
   "cell_type": "code",
   "execution_count": 147,
   "metadata": {},
   "outputs": [],
   "source": [
    "# Create ne column compliance - target variable\n",
    "\n",
    "blight['compliance'] = blight.apply(compliance, axis=1)"
   ]
  },
  {
   "cell_type": "code",
   "execution_count": 151,
   "metadata": {},
   "outputs": [
    {
     "data": {
      "text/plain": [
       "0    75409\n",
       "1    22233\n",
       "Name: compliance, dtype: int64"
      ]
     },
     "execution_count": 151,
     "metadata": {},
     "output_type": "execute_result"
    }
   ],
   "source": [
    "blight.compliance.value_counts()"
   ]
  },
  {
   "cell_type": "code",
   "execution_count": 154,
   "metadata": {},
   "outputs": [
    {
     "data": {
      "text/plain": [
       "0    0.772301\n",
       "1    0.227699\n",
       "Name: compliance, dtype: float64"
      ]
     },
     "execution_count": 154,
     "metadata": {},
     "output_type": "execute_result"
    }
   ],
   "source": [
    "blight.compliance.value_counts(normalize= True)"
   ]
  },
  {
   "cell_type": "code",
   "execution_count": 163,
   "metadata": {},
   "outputs": [
    {
     "data": {
      "image/png": "[encoded data removed]",
      "text/plain": [
       "<Figure size 720x360 with 1 Axes>"
      ]
     },
     "metadata": {},
     "output_type": "display_data"
    }
   ],
   "source": [
    "# Compliance Count\n",
    "\n",
    "# Target Variable Countplot\n",
    "sns.set_style('darkgrid')\n",
    "plt.figure(figsize = (10,5))\n",
    "sns.countplot(blight['compliance'], alpha =.80, palette= ['grey','lightgreen'])\n",
    "plt.title('Compliant vs Non-Compliant', size = 18)\n",
    "plt.ylabel('# Of Observations', size =15)\n",
    "plt.xlabel(' Compliance', size =15)\n",
    "plt.show()"
   ]
  },
  {
   "cell_type": "code",
   "execution_count": null,
   "metadata": {},
   "outputs": [],
   "source": []
  }
 ],
 "metadata": {
  "kernelspec": {
   "display_name": "Python 3",
   "language": "python",
   "name": "python3"
  },
  "language_info": {
   "codemirror_mode": {
    "name": "ipython",
    "version": 3
   },
   "file_extension": ".py",
   "mimetype": "text/x-python",
   "name": "python",
   "nbconvert_exporter": "python",
   "pygments_lexer": "ipython3",
   "version": "3.7.6"
  }
 },
 "nbformat": 4,
 "nbformat_minor": 4
}
