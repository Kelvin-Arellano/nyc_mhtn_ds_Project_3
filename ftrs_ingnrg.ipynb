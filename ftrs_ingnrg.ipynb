{
 "cells": [
  {
   "cell_type": "code",
   "execution_count": 397,
   "metadata": {},
   "outputs": [
    {
     "name": "stdout",
     "output_type": "stream",
     "text": [
      "The autoreload extension is already loaded. To reload it, use:\n",
      "  %reload_ext autoreload\n"
     ]
    }
   ],
   "source": [
    "import pandas as pd\n",
    "import datetime\n",
    "import numpy as np\n",
    "import matplotlib.pyplot as plt\n",
    "import seaborn as sns\n",
    "from geopy.distance import distance\n",
    "import re\n",
    "\n",
    "from cleaning_utils import * # import all existing functions from file cleaning.py\n",
    "\n",
    "%load_ext autoreload\n",
    "%autoreload 2\n",
    "\n",
    "\n",
    "pd.set_option('display.max_columns', 360)"
   ]
  },
  {
   "cell_type": "markdown",
   "metadata": {},
   "source": [
    "---\n",
    "\n",
    "\n",
    "\n",
    "## Loading Blight Data"
   ]
  },
  {
   "cell_type": "code",
   "execution_count": 398,
   "metadata": {},
   "outputs": [
    {
     "name": "stderr",
     "output_type": "stream",
     "text": [
      "/Users/ivan/opt/anaconda3/lib/python3.7/site-packages/IPython/core/interactiveshell.py:3063: DtypeWarning: Columns (9,11,15,16,17,30) have mixed types.Specify dtype option on import or set low_memory=False.\n",
      "  interactivity=interactivity, compiler=compiler, result=result)\n"
     ]
    }
   ],
   "source": [
    "blight = pd.read_csv('../P3_data/Blight_Violations.csv')"
   ]
  },
  {
   "cell_type": "code",
   "execution_count": 399,
   "metadata": {},
   "outputs": [
    {
     "data": {
      "text/html": [
       "<div>\n",
       "<style scoped>\n",
       "    .dataframe tbody tr th:only-of-type {\n",
       "        vertical-align: middle;\n",
       "    }\n",
       "\n",
       "    .dataframe tbody tr th {\n",
       "        vertical-align: top;\n",
       "    }\n",
       "\n",
       "    .dataframe thead th {\n",
       "        text-align: right;\n",
       "    }\n",
       "</style>\n",
       "<table border=\"1\" class=\"dataframe\">\n",
       "  <thead>\n",
       "    <tr style=\"text-align: right;\">\n",
       "      <th></th>\n",
       "      <th>X</th>\n",
       "      <th>Y</th>\n",
       "      <th>ticket_id</th>\n",
       "      <th>ticket_number</th>\n",
       "      <th>agency_name</th>\n",
       "      <th>inspector_name</th>\n",
       "      <th>violator_name</th>\n",
       "      <th>violation_street_number</th>\n",
       "      <th>violation_street_name</th>\n",
       "      <th>violation_zip_code</th>\n",
       "      <th>violator_id</th>\n",
       "      <th>mailing_address_str_number</th>\n",
       "      <th>mailing_address_str_name</th>\n",
       "      <th>city</th>\n",
       "      <th>state</th>\n",
       "      <th>zip_code</th>\n",
       "      <th>non_us_str_code</th>\n",
       "      <th>country</th>\n",
       "      <th>violation_date</th>\n",
       "      <th>ticket_issued_time</th>\n",
       "      <th>hearing_date</th>\n",
       "      <th>hearing_time</th>\n",
       "      <th>judgment_date</th>\n",
       "      <th>violation_code</th>\n",
       "      <th>violation_description</th>\n",
       "      <th>disposition</th>\n",
       "      <th>clean_up_cost</th>\n",
       "      <th>payment_amount</th>\n",
       "      <th>payment_date</th>\n",
       "      <th>payment_status</th>\n",
       "      <th>collection_status</th>\n",
       "      <th>violation_address</th>\n",
       "      <th>parcelno</th>\n",
       "      <th>oid</th>\n",
       "      <th>geom</th>\n",
       "      <th>fine_amount</th>\n",
       "    </tr>\n",
       "  </thead>\n",
       "  <tbody>\n",
       "    <tr>\n",
       "      <th>0</th>\n",
       "      <td>-83.072573</td>\n",
       "      <td>42.383350</td>\n",
       "      <td>18645</td>\n",
       "      <td>05001700DAH</td>\n",
       "      <td>Buildings, Safety Engineering &amp; Env Department</td>\n",
       "      <td>Orbie Gailes</td>\n",
       "      <td>Dean  Byrd</td>\n",
       "      <td>601</td>\n",
       "      <td>KING</td>\n",
       "      <td>NaN</td>\n",
       "      <td>1614</td>\n",
       "      <td>599</td>\n",
       "      <td>King</td>\n",
       "      <td>Det</td>\n",
       "      <td>MI</td>\n",
       "      <td>48202</td>\n",
       "      <td>NaN</td>\n",
       "      <td>NaN</td>\n",
       "      <td>2005/01/13 00:00:00+00</td>\n",
       "      <td>1900/01/01 14:00:00</td>\n",
       "      <td>2005/02/07 00:00:00+00</td>\n",
       "      <td>09:00:00</td>\n",
       "      <td>2005/02/07 00:00:00+00</td>\n",
       "      <td>9-1-36(a)</td>\n",
       "      <td>Failure of owner to obtain certificate of comp...</td>\n",
       "      <td>Responsible by Default</td>\n",
       "      <td>NaN</td>\n",
       "      <td>NaN</td>\n",
       "      <td>1970/01/01 00:00:00+00</td>\n",
       "      <td>NaN</td>\n",
       "      <td>NaN</td>\n",
       "      <td>601 KING</td>\n",
       "      <td>03002390.</td>\n",
       "      <td>18645</td>\n",
       "      <td>NaN</td>\n",
       "      <td>NaN</td>\n",
       "    </tr>\n",
       "    <tr>\n",
       "      <th>1</th>\n",
       "      <td>-83.072479</td>\n",
       "      <td>42.383394</td>\n",
       "      <td>18646</td>\n",
       "      <td>05001701DAH</td>\n",
       "      <td>Buildings, Safety Engineering &amp; Env Department</td>\n",
       "      <td>Orbie Gailes</td>\n",
       "      <td>Cynthia Roberts</td>\n",
       "      <td>607</td>\n",
       "      <td>KING</td>\n",
       "      <td>NaN</td>\n",
       "      <td>1615</td>\n",
       "      <td>18604</td>\n",
       "      <td>Appoline</td>\n",
       "      <td>Det</td>\n",
       "      <td>MI</td>\n",
       "      <td>48235</td>\n",
       "      <td>NaN</td>\n",
       "      <td>NaN</td>\n",
       "      <td>2005/01/14 00:00:00+00</td>\n",
       "      <td>1900/01/01 00:45:00</td>\n",
       "      <td>2005/02/14 00:00:00+00</td>\n",
       "      <td>09:00:00</td>\n",
       "      <td>2019/09/16 10:26:00+00</td>\n",
       "      <td>9-1-36(a)</td>\n",
       "      <td>Failure of owner to obtain certificate of comp...</td>\n",
       "      <td>Not responsible by City Dismissal</td>\n",
       "      <td>NaN</td>\n",
       "      <td>NaN</td>\n",
       "      <td>1970/01/01 00:00:00+00</td>\n",
       "      <td>NO PAYMENT DUE</td>\n",
       "      <td>NaN</td>\n",
       "      <td>607 KING</td>\n",
       "      <td>03002391.</td>\n",
       "      <td>18646</td>\n",
       "      <td>NaN</td>\n",
       "      <td>NaN</td>\n",
       "    </tr>\n",
       "    <tr>\n",
       "      <th>2</th>\n",
       "      <td>-83.115061</td>\n",
       "      <td>42.359916</td>\n",
       "      <td>18648</td>\n",
       "      <td>05001703DAH</td>\n",
       "      <td>Buildings, Safety Engineering &amp; Env Department</td>\n",
       "      <td>Orbie Gailes</td>\n",
       "      <td>Dannny Barnes</td>\n",
       "      <td>4066</td>\n",
       "      <td>COLUMBUS</td>\n",
       "      <td>NaN</td>\n",
       "      <td>1617</td>\n",
       "      <td>4066</td>\n",
       "      <td>Columbus</td>\n",
       "      <td>Det</td>\n",
       "      <td>MI</td>\n",
       "      <td>48204</td>\n",
       "      <td>NaN</td>\n",
       "      <td>NaN</td>\n",
       "      <td>2005/01/14 00:00:00+00</td>\n",
       "      <td>1900/01/01 14:00:00</td>\n",
       "      <td>2005/02/14 00:00:00+00</td>\n",
       "      <td>09:00:00</td>\n",
       "      <td>2005/02/14 00:00:00+00</td>\n",
       "      <td>9-1-36(a)</td>\n",
       "      <td>Failure of owner to obtain certificate of comp...</td>\n",
       "      <td>Not responsible by Dismissal</td>\n",
       "      <td>NaN</td>\n",
       "      <td>NaN</td>\n",
       "      <td>1970/01/01 00:00:00+00</td>\n",
       "      <td>NO PAYMENT DUE</td>\n",
       "      <td>NaN</td>\n",
       "      <td>4066 COLUMBUS</td>\n",
       "      <td>14002572.</td>\n",
       "      <td>18648</td>\n",
       "      <td>NaN</td>\n",
       "      <td>NaN</td>\n",
       "    </tr>\n",
       "  </tbody>\n",
       "</table>\n",
       "</div>"
      ],
      "text/plain": [
       "           X          Y  ticket_id ticket_number  \\\n",
       "0 -83.072573  42.383350      18645   05001700DAH   \n",
       "1 -83.072479  42.383394      18646   05001701DAH   \n",
       "2 -83.115061  42.359916      18648   05001703DAH   \n",
       "\n",
       "                                      agency_name inspector_name  \\\n",
       "0  Buildings, Safety Engineering & Env Department   Orbie Gailes   \n",
       "1  Buildings, Safety Engineering & Env Department   Orbie Gailes   \n",
       "2  Buildings, Safety Engineering & Env Department   Orbie Gailes   \n",
       "\n",
       "     violator_name  violation_street_number violation_street_name  \\\n",
       "0       Dean  Byrd                      601      KING               \n",
       "1  Cynthia Roberts                      607      KING               \n",
       "2    Dannny Barnes                     4066      COLUMBUS           \n",
       "\n",
       "  violation_zip_code  violator_id mailing_address_str_number  \\\n",
       "0                NaN         1614                        599   \n",
       "1                NaN         1615                      18604   \n",
       "2                NaN         1617                       4066   \n",
       "\n",
       "  mailing_address_str_name city state zip_code non_us_str_code country  \\\n",
       "0                     King  Det    MI    48202             NaN     NaN   \n",
       "1                 Appoline  Det    MI    48235             NaN     NaN   \n",
       "2                 Columbus  Det    MI    48204             NaN     NaN   \n",
       "\n",
       "           violation_date   ticket_issued_time            hearing_date  \\\n",
       "0  2005/01/13 00:00:00+00  1900/01/01 14:00:00  2005/02/07 00:00:00+00   \n",
       "1  2005/01/14 00:00:00+00  1900/01/01 00:45:00  2005/02/14 00:00:00+00   \n",
       "2  2005/01/14 00:00:00+00  1900/01/01 14:00:00  2005/02/14 00:00:00+00   \n",
       "\n",
       "  hearing_time           judgment_date violation_code  \\\n",
       "0     09:00:00  2005/02/07 00:00:00+00      9-1-36(a)   \n",
       "1     09:00:00  2019/09/16 10:26:00+00      9-1-36(a)   \n",
       "2     09:00:00  2005/02/14 00:00:00+00      9-1-36(a)   \n",
       "\n",
       "                               violation_description  \\\n",
       "0  Failure of owner to obtain certificate of comp...   \n",
       "1  Failure of owner to obtain certificate of comp...   \n",
       "2  Failure of owner to obtain certificate of comp...   \n",
       "\n",
       "                         disposition  clean_up_cost  payment_amount  \\\n",
       "0             Responsible by Default            NaN             NaN   \n",
       "1  Not responsible by City Dismissal            NaN             NaN   \n",
       "2       Not responsible by Dismissal            NaN             NaN   \n",
       "\n",
       "             payment_date  payment_status collection_status  \\\n",
       "0  1970/01/01 00:00:00+00             NaN               NaN   \n",
       "1  1970/01/01 00:00:00+00  NO PAYMENT DUE               NaN   \n",
       "2  1970/01/01 00:00:00+00  NO PAYMENT DUE               NaN   \n",
       "\n",
       "       violation_address   parcelno    oid  geom  fine_amount  \n",
       "0   601 KING              03002390.  18645   NaN          NaN  \n",
       "1   607 KING              03002391.  18646   NaN          NaN  \n",
       "2  4066 COLUMBUS          14002572.  18648   NaN          NaN  "
      ]
     },
     "execution_count": 399,
     "metadata": {},
     "output_type": "execute_result"
    }
   ],
   "source": [
    "blight.head(3)"
   ]
  },
  {
   "cell_type": "code",
   "execution_count": 400,
   "metadata": {},
   "outputs": [
    {
     "data": {
      "text/plain": [
       "(496335, 36)"
      ]
     },
     "execution_count": 400,
     "metadata": {},
     "output_type": "execute_result"
    }
   ],
   "source": [
    "blight.shape"
   ]
  },
  {
   "cell_type": "code",
   "execution_count": 401,
   "metadata": {},
   "outputs": [
    {
     "data": {
      "text/plain": [
       "NO PAYMENT DUE             210004\n",
       "PAID IN FULL                97642\n",
       "PARTIAL PAYMENT APPLIED      9080\n",
       "NO PAYMENT APPLIED              2\n",
       "Name: payment_status, dtype: int64"
      ]
     },
     "execution_count": 401,
     "metadata": {},
     "output_type": "execute_result"
    }
   ],
   "source": [
    "blight.payment_status.value_counts()"
   ]
  },
  {
   "cell_type": "code",
   "execution_count": 402,
   "metadata": {},
   "outputs": [],
   "source": [
    "blight = blight[blight.payment_status == 'PAID IN FULL']"
   ]
  },
  {
   "cell_type": "code",
   "execution_count": 403,
   "metadata": {},
   "outputs": [
    {
     "data": {
      "text/plain": [
       "Index(['X', 'Y', 'ticket_id', 'ticket_number', 'agency_name', 'inspector_name',\n",
       "       'violator_name', 'violation_street_number', 'violation_street_name',\n",
       "       'violation_zip_code', 'violator_id', 'mailing_address_str_number',\n",
       "       'mailing_address_str_name', 'city', 'state', 'zip_code',\n",
       "       'non_us_str_code', 'country', 'violation_date', 'ticket_issued_time',\n",
       "       'hearing_date', 'hearing_time', 'judgment_date', 'violation_code',\n",
       "       'violation_description', 'disposition', 'clean_up_cost',\n",
       "       'payment_amount', 'payment_date', 'payment_status', 'collection_status',\n",
       "       'violation_address', 'parcelno', 'oid', 'geom', 'fine_amount'],\n",
       "      dtype='object')"
      ]
     },
     "execution_count": 403,
     "metadata": {},
     "output_type": "execute_result"
    }
   ],
   "source": [
    "blight.columns"
   ]
  },
  {
   "cell_type": "code",
   "execution_count": 404,
   "metadata": {},
   "outputs": [],
   "source": [
    "# Selecting not important features to drop from DF\n",
    "columns_to_drop = [\n",
    "                 'ticket_number',\n",
    "                 'agency_name',\n",
    "                 'inspector_name',\n",
    "                 'violator_name',\n",
    "                 'violator_id',\n",
    "                 'mailing_address_str_number',\n",
    "                 'mailing_address_str_name',\n",
    "                 'city',\n",
    "                 'state',\n",
    "                 'zip_code',\n",
    "                 'non_us_str_code',\n",
    "                 'country',\n",
    "                 'ticket_issued_time',\n",
    "                 'hearing_date',\n",
    "                 'hearing_time',\n",
    "                 'violation_code',\n",
    "                 'violation_description',\n",
    "                 'disposition',\n",
    "                 'clean_up_cost',\n",
    "                 'payment_amount',\n",
    "                 'collection_status',\n",
    "                 'violation_address',\n",
    "                 'oid',\n",
    "                 'geom',\n",
    "                 'fine_amount']"
   ]
  },
  {
   "cell_type": "code",
   "execution_count": 405,
   "metadata": {},
   "outputs": [],
   "source": [
    "blight = blight.drop(columns=columns_to_drop)"
   ]
  },
  {
   "cell_type": "code",
   "execution_count": 406,
   "metadata": {},
   "outputs": [
    {
     "data": {
      "text/plain": [
       "(97642, 11)"
      ]
     },
     "execution_count": 406,
     "metadata": {},
     "output_type": "execute_result"
    }
   ],
   "source": [
    "blight.shape"
   ]
  },
  {
   "cell_type": "markdown",
   "metadata": {},
   "source": [
    "-----\n",
    "\n",
    "\n",
    "\n",
    "\n",
    "\n",
    "\n",
    "## Defining Target Variable Compliance"
   ]
  },
  {
   "cell_type": "code",
   "execution_count": 407,
   "metadata": {},
   "outputs": [
    {
     "data": {
      "text/html": [
       "<div>\n",
       "<style scoped>\n",
       "    .dataframe tbody tr th:only-of-type {\n",
       "        vertical-align: middle;\n",
       "    }\n",
       "\n",
       "    .dataframe tbody tr th {\n",
       "        vertical-align: top;\n",
       "    }\n",
       "\n",
       "    .dataframe thead th {\n",
       "        text-align: right;\n",
       "    }\n",
       "</style>\n",
       "<table border=\"1\" class=\"dataframe\">\n",
       "  <thead>\n",
       "    <tr style=\"text-align: right;\">\n",
       "      <th></th>\n",
       "      <th>X</th>\n",
       "      <th>Y</th>\n",
       "      <th>ticket_id</th>\n",
       "      <th>violation_street_number</th>\n",
       "      <th>violation_street_name</th>\n",
       "      <th>violation_zip_code</th>\n",
       "      <th>violation_date</th>\n",
       "      <th>judgment_date</th>\n",
       "      <th>payment_date</th>\n",
       "      <th>payment_status</th>\n",
       "      <th>parcelno</th>\n",
       "    </tr>\n",
       "  </thead>\n",
       "  <tbody>\n",
       "    <tr>\n",
       "      <th>7</th>\n",
       "      <td>-83.019172</td>\n",
       "      <td>42.339196</td>\n",
       "      <td>18653</td>\n",
       "      <td>2900</td>\n",
       "      <td>JEFFERSON</td>\n",
       "      <td>NaN</td>\n",
       "      <td>2005/01/14 00:00:00+00</td>\n",
       "      <td>2005/02/23 00:00:00+00</td>\n",
       "      <td>2005/02/22 08:43:00+00</td>\n",
       "      <td>PAID IN FULL</td>\n",
       "      <td>11000088.014</td>\n",
       "    </tr>\n",
       "    <tr>\n",
       "      <th>11</th>\n",
       "      <td>-82.942097</td>\n",
       "      <td>42.388525</td>\n",
       "      <td>18657</td>\n",
       "      <td>15439</td>\n",
       "      <td>MACK</td>\n",
       "      <td>NaN</td>\n",
       "      <td>2005/01/14 00:00:00+00</td>\n",
       "      <td>2005/02/18 00:00:00+00</td>\n",
       "      <td>2005/03/09 13:33:00+00</td>\n",
       "      <td>PAID IN FULL</td>\n",
       "      <td>21001420.</td>\n",
       "    </tr>\n",
       "    <tr>\n",
       "      <th>12</th>\n",
       "      <td>-82.946176</td>\n",
       "      <td>42.371778</td>\n",
       "      <td>18658</td>\n",
       "      <td>14214</td>\n",
       "      <td>JEFFERSON</td>\n",
       "      <td>NaN</td>\n",
       "      <td>2005/01/14 00:00:00+00</td>\n",
       "      <td>2005/02/04 00:00:00+00</td>\n",
       "      <td>2005/02/04 10:19:00+00</td>\n",
       "      <td>PAID IN FULL</td>\n",
       "      <td>21000354.</td>\n",
       "    </tr>\n",
       "    <tr>\n",
       "      <th>15</th>\n",
       "      <td>-83.045750</td>\n",
       "      <td>42.335121</td>\n",
       "      <td>18661</td>\n",
       "      <td>1310</td>\n",
       "      <td>BROADWAY</td>\n",
       "      <td>NaN</td>\n",
       "      <td>2005/01/14 00:00:00+00</td>\n",
       "      <td>2005/02/18 00:00:00+00</td>\n",
       "      <td>2007/06/12 00:00:00+00</td>\n",
       "      <td>PAID IN FULL</td>\n",
       "      <td>01004004.</td>\n",
       "    </tr>\n",
       "    <tr>\n",
       "      <th>18</th>\n",
       "      <td>-83.044467</td>\n",
       "      <td>42.335210</td>\n",
       "      <td>18664</td>\n",
       "      <td>343</td>\n",
       "      <td>MACOMB</td>\n",
       "      <td>NaN</td>\n",
       "      <td>2005/01/14 00:00:00+00</td>\n",
       "      <td>2005/03/23 00:00:00+00</td>\n",
       "      <td>2007/05/31 00:00:00+00</td>\n",
       "      <td>PAID IN FULL</td>\n",
       "      <td>01000207.</td>\n",
       "    </tr>\n",
       "  </tbody>\n",
       "</table>\n",
       "</div>"
      ],
      "text/plain": [
       "            X          Y  ticket_id  violation_street_number  \\\n",
       "7  -83.019172  42.339196      18653                     2900   \n",
       "11 -82.942097  42.388525      18657                    15439   \n",
       "12 -82.946176  42.371778      18658                    14214   \n",
       "15 -83.045750  42.335121      18661                     1310   \n",
       "18 -83.044467  42.335210      18664                      343   \n",
       "\n",
       "   violation_street_name violation_zip_code          violation_date  \\\n",
       "7       JEFFERSON                       NaN  2005/01/14 00:00:00+00   \n",
       "11      MACK                            NaN  2005/01/14 00:00:00+00   \n",
       "12      JEFFERSON                       NaN  2005/01/14 00:00:00+00   \n",
       "15      BROADWAY                        NaN  2005/01/14 00:00:00+00   \n",
       "18      MACOMB                          NaN  2005/01/14 00:00:00+00   \n",
       "\n",
       "             judgment_date            payment_date payment_status  \\\n",
       "7   2005/02/23 00:00:00+00  2005/02/22 08:43:00+00   PAID IN FULL   \n",
       "11  2005/02/18 00:00:00+00  2005/03/09 13:33:00+00   PAID IN FULL   \n",
       "12  2005/02/04 00:00:00+00  2005/02/04 10:19:00+00   PAID IN FULL   \n",
       "15  2005/02/18 00:00:00+00  2007/06/12 00:00:00+00   PAID IN FULL   \n",
       "18  2005/03/23 00:00:00+00  2007/05/31 00:00:00+00   PAID IN FULL   \n",
       "\n",
       "        parcelno  \n",
       "7   11000088.014  \n",
       "11     21001420.  \n",
       "12     21000354.  \n",
       "15     01004004.  \n",
       "18     01000207.  "
      ]
     },
     "execution_count": 407,
     "metadata": {},
     "output_type": "execute_result"
    }
   ],
   "source": [
    "blight.head()"
   ]
  },
  {
   "cell_type": "code",
   "execution_count": 408,
   "metadata": {},
   "outputs": [],
   "source": [
    "blight.violation_date = pd.to_datetime(blight['violation_date']).dt.date\n",
    "blight.judgment_date = pd.to_datetime(blight['judgment_date']).dt.date\n",
    "blight.payment_date = pd.to_datetime(blight['payment_date']).dt.date"
   ]
  },
  {
   "cell_type": "code",
   "execution_count": 409,
   "metadata": {},
   "outputs": [],
   "source": [
    "blight.rename({'Y':'lat', 'X':'lon', 'parcelno': 'parcel_id'}, axis=1, inplace=True)\n",
    "blight = blight.dropna(subset=['parcel_id'])\n",
    "blight['parcel_id'] = blight.apply(parse_parcel,axis=1)"
   ]
  },
  {
   "cell_type": "code",
   "execution_count": 410,
   "metadata": {},
   "outputs": [],
   "source": [
    "# Create new column compliance - target variable\n",
    "blight['compliance'] = blight.apply(compliance, axis=1)"
   ]
  },
  {
   "cell_type": "code",
   "execution_count": 411,
   "metadata": {},
   "outputs": [
    {
     "data": {
      "text/plain": [
       "0    0.667435\n",
       "1    0.332565\n",
       "Name: compliance, dtype: float64"
      ]
     },
     "execution_count": 411,
     "metadata": {},
     "output_type": "execute_result"
    }
   ],
   "source": [
    "blight.compliance.value_counts(normalize= True)"
   ]
  },
  {
   "cell_type": "code",
   "execution_count": 412,
   "metadata": {},
   "outputs": [
    {
     "data": {
      "image/png": "[encoded data removed]",
      "text/plain": [
       "<Figure size 720x360 with 1 Axes>"
      ]
     },
     "metadata": {},
     "output_type": "display_data"
    }
   ],
   "source": [
    "# Target Variable Countplot\n",
    "sns.set_style('darkgrid')\n",
    "plt.figure(figsize = (10,5))\n",
    "sns.countplot(blight['compliance'], alpha =.80, palette= ['grey','lightgreen'])\n",
    "plt.title('Compliant vs Non-Compliant', size = 18)\n",
    "plt.ylabel('# Of Observations', size =15)\n",
    "plt.xlabel(' Compliance', size =15)\n",
    "plt.show()"
   ]
  },
  {
   "cell_type": "code",
   "execution_count": 413,
   "metadata": {},
   "outputs": [],
   "source": [
    "# applying function coord_bligth\n",
    "blight['coordinates'] = blight.apply(coord_bligth,axis=1)"
   ]
  },
  {
   "cell_type": "code",
   "execution_count": 414,
   "metadata": {},
   "outputs": [],
   "source": [
    "blight.to_csv(r'data/Blight.csv', index = False)"
   ]
  },
  {
   "cell_type": "markdown",
   "metadata": {},
   "source": [
    "----\n",
    "\n",
    "\n",
    "\n",
    "\n",
    "## Exploring Crime in Neighborhoods with data Reported_Major_Crimes_2011_to_2014"
   ]
  },
  {
   "cell_type": "code",
   "execution_count": 415,
   "metadata": {},
   "outputs": [],
   "source": [
    "crimes = pd.read_csv('../P3_data/Reported_Major_Crimes_2011_to_2014.csv')"
   ]
  },
  {
   "cell_type": "code",
   "execution_count": 416,
   "metadata": {},
   "outputs": [
    {
     "data": {
      "text/html": [
       "<div>\n",
       "<style scoped>\n",
       "    .dataframe tbody tr th:only-of-type {\n",
       "        vertical-align: middle;\n",
       "    }\n",
       "\n",
       "    .dataframe tbody tr th {\n",
       "        vertical-align: top;\n",
       "    }\n",
       "\n",
       "    .dataframe thead th {\n",
       "        text-align: right;\n",
       "    }\n",
       "</style>\n",
       "<table border=\"1\" class=\"dataframe\">\n",
       "  <thead>\n",
       "    <tr style=\"text-align: right;\">\n",
       "      <th></th>\n",
       "      <th>ROWNUM</th>\n",
       "      <th>CATEGORY</th>\n",
       "      <th>OFFENSEDESCRIPTION</th>\n",
       "      <th>STATEOFFENSEFILECLASS</th>\n",
       "      <th>INCIDENTDATE</th>\n",
       "      <th>HOUR</th>\n",
       "      <th>SCA</th>\n",
       "      <th>PRECINCT</th>\n",
       "      <th>NEIGHBORHOOD</th>\n",
       "      <th>CENSUSTRACT</th>\n",
       "      <th>LOCATION</th>\n",
       "      <th>ObjectId</th>\n",
       "    </tr>\n",
       "  </thead>\n",
       "  <tbody>\n",
       "    <tr>\n",
       "      <th>0</th>\n",
       "      <td>1311873</td>\n",
       "      <td>STOLEN VEHICLE</td>\n",
       "      <td>VEHICLE THEFT</td>\n",
       "      <td>24001</td>\n",
       "      <td>2011/01/02 00:00:00+00</td>\n",
       "      <td>0</td>\n",
       "      <td>1103.0</td>\n",
       "      <td>11.0</td>\n",
       "      <td>PERSHING</td>\n",
       "      <td>5066.0</td>\n",
       "      <td>00 EUREKA/E LANTZ\\n(42.4382, -83.0579)</td>\n",
       "      <td>1</td>\n",
       "    </tr>\n",
       "    <tr>\n",
       "      <th>1</th>\n",
       "      <td>1311874</td>\n",
       "      <td>AGGRAVATED ASSAULT</td>\n",
       "      <td>AGG/FEL ASSAULT - NON-FAMILY - OTHER WEAPON</td>\n",
       "      <td>13002</td>\n",
       "      <td>2011/01/02 00:00:00+00</td>\n",
       "      <td>11</td>\n",
       "      <td>709.0</td>\n",
       "      <td>7.0</td>\n",
       "      <td>LAFAYETTE PARK</td>\n",
       "      <td>5166.0</td>\n",
       "      <td>E.LAFAYETTE01800\\n(42.3394, -83.0295)</td>\n",
       "      <td>2</td>\n",
       "    </tr>\n",
       "    <tr>\n",
       "      <th>2</th>\n",
       "      <td>1311878</td>\n",
       "      <td>LARCENY</td>\n",
       "      <td>LARCENY - FROM BUILDING (INCLUDES LIBRARY, OFF...</td>\n",
       "      <td>23003</td>\n",
       "      <td>2011/01/02 00:00:00+00</td>\n",
       "      <td>11</td>\n",
       "      <td>1105.0</td>\n",
       "      <td>11.0</td>\n",
       "      <td>OUTER DRIVE VAN DYKE</td>\n",
       "      <td>5051.0</td>\n",
       "      <td>VANDYKE19900\\n(42.4415, -83.0238)</td>\n",
       "      <td>3</td>\n",
       "    </tr>\n",
       "    <tr>\n",
       "      <th>3</th>\n",
       "      <td>1311879</td>\n",
       "      <td>LARCENY</td>\n",
       "      <td>LARCENY (OTHER)</td>\n",
       "      <td>23007</td>\n",
       "      <td>2011/01/01 00:00:00+00</td>\n",
       "      <td>20</td>\n",
       "      <td>706.0</td>\n",
       "      <td>7.0</td>\n",
       "      <td>CHENE</td>\n",
       "      <td>5188.0</td>\n",
       "      <td>JOS CAMPAU04100\\n(42.3606, -83.0339)</td>\n",
       "      <td>4</td>\n",
       "    </tr>\n",
       "    <tr>\n",
       "      <th>4</th>\n",
       "      <td>1311883</td>\n",
       "      <td>STOLEN VEHICLE</td>\n",
       "      <td>VEHICLE THEFT</td>\n",
       "      <td>24001</td>\n",
       "      <td>2011/01/02 00:00:00+00</td>\n",
       "      <td>3</td>\n",
       "      <td>612.0</td>\n",
       "      <td>6.0</td>\n",
       "      <td>WARRENDALE</td>\n",
       "      <td>5457.0</td>\n",
       "      <td>PIEDMONT06000\\n(42.3328, -83.228)</td>\n",
       "      <td>5</td>\n",
       "    </tr>\n",
       "  </tbody>\n",
       "</table>\n",
       "</div>"
      ],
      "text/plain": [
       "    ROWNUM            CATEGORY  \\\n",
       "0  1311873      STOLEN VEHICLE   \n",
       "1  1311874  AGGRAVATED ASSAULT   \n",
       "2  1311878             LARCENY   \n",
       "3  1311879             LARCENY   \n",
       "4  1311883      STOLEN VEHICLE   \n",
       "\n",
       "                                  OFFENSEDESCRIPTION  STATEOFFENSEFILECLASS  \\\n",
       "0                                      VEHICLE THEFT                  24001   \n",
       "1        AGG/FEL ASSAULT - NON-FAMILY - OTHER WEAPON                  13002   \n",
       "2  LARCENY - FROM BUILDING (INCLUDES LIBRARY, OFF...                  23003   \n",
       "3                                    LARCENY (OTHER)                  23007   \n",
       "4                                      VEHICLE THEFT                  24001   \n",
       "\n",
       "             INCIDENTDATE  HOUR     SCA  PRECINCT          NEIGHBORHOOD  \\\n",
       "0  2011/01/02 00:00:00+00     0  1103.0      11.0              PERSHING   \n",
       "1  2011/01/02 00:00:00+00    11   709.0       7.0        LAFAYETTE PARK   \n",
       "2  2011/01/02 00:00:00+00    11  1105.0      11.0  OUTER DRIVE VAN DYKE   \n",
       "3  2011/01/01 00:00:00+00    20   706.0       7.0                 CHENE   \n",
       "4  2011/01/02 00:00:00+00     3   612.0       6.0            WARRENDALE   \n",
       "\n",
       "   CENSUSTRACT                                LOCATION  ObjectId  \n",
       "0       5066.0  00 EUREKA/E LANTZ\\n(42.4382, -83.0579)         1  \n",
       "1       5166.0   E.LAFAYETTE01800\\n(42.3394, -83.0295)         2  \n",
       "2       5051.0       VANDYKE19900\\n(42.4415, -83.0238)         3  \n",
       "3       5188.0    JOS CAMPAU04100\\n(42.3606, -83.0339)         4  \n",
       "4       5457.0       PIEDMONT06000\\n(42.3328, -83.228)         5  "
      ]
     },
     "execution_count": 416,
     "metadata": {},
     "output_type": "execute_result"
    }
   ],
   "source": [
    "crimes.head()"
   ]
  },
  {
   "cell_type": "code",
   "execution_count": 417,
   "metadata": {},
   "outputs": [],
   "source": [
    "crimes = crimes[['LOCATION','CATEGORY','INCIDENTDATE']]"
   ]
  },
  {
   "cell_type": "code",
   "execution_count": 418,
   "metadata": {},
   "outputs": [],
   "source": [
    "# Using functions extract_lat_crime and extract_long_crime\n",
    "crimes['lat'] = crimes.LOCATION.map(extract_lat_crime)\n",
    "crimes['lon'] = crimes.LOCATION.map(extract_long_crime)"
   ]
  },
  {
   "cell_type": "code",
   "execution_count": 419,
   "metadata": {},
   "outputs": [
    {
     "data": {
      "text/plain": [
       "count    234978.000000\n",
       "mean       1833.966961\n",
       "std       42288.290069\n",
       "min          39.744700\n",
       "25%          42.356000\n",
       "50%          42.391800\n",
       "75%          42.421300\n",
       "max      999999.000100\n",
       "Name: lat, dtype: float64"
      ]
     },
     "execution_count": 419,
     "metadata": {},
     "output_type": "execute_result"
    }
   ],
   "source": [
    "crimes['lat'].describe()"
   ]
  },
  {
   "cell_type": "code",
   "execution_count": 420,
   "metadata": {},
   "outputs": [
    {
     "data": {
      "text/plain": [
       "count    234978.000000\n",
       "mean       1708.699648\n",
       "std       42293.597149\n",
       "min         -84.912300\n",
       "25%         -83.188300\n",
       "50%         -83.111700\n",
       "75%         -83.027100\n",
       "max      999999.000100\n",
       "Name: lon, dtype: float64"
      ]
     },
     "execution_count": 420,
     "metadata": {},
     "output_type": "execute_result"
    }
   ],
   "source": [
    "crimes['lon'].describe()"
   ]
  },
  {
   "cell_type": "code",
   "execution_count": 421,
   "metadata": {},
   "outputs": [],
   "source": [
    "crimes =  crimes[ (crimes['lat'] < 45) | (crimes['lon'] < 85) ]\n",
    "crimes['coordinates'] = crimes.apply(coord_bligth, axis=1)\n",
    "crimes.INCIDENTDATE = pd.to_datetime(crimes['INCIDENTDATE']).dt.date"
   ]
  },
  {
   "cell_type": "code",
   "execution_count": 422,
   "metadata": {},
   "outputs": [],
   "source": [
    "crimes.to_csv(r'data/Crimes.csv', index = False)"
   ]
  },
  {
   "cell_type": "markdown",
   "metadata": {},
   "source": [
    "-----\n",
    "\n",
    "\n",
    "\n",
    "\n",
    "\n",
    "## Exploring Motor City Mapping"
   ]
  },
  {
   "cell_type": "code",
   "execution_count": 423,
   "metadata": {},
   "outputs": [
    {
     "name": "stderr",
     "output_type": "stream",
     "text": [
      "/Users/ivan/opt/anaconda3/lib/python3.7/site-packages/IPython/core/interactiveshell.py:3063: DtypeWarning: Columns (4) have mixed types.Specify dtype option on import or set low_memory=False.\n",
      "  interactivity=interactivity, compiler=compiler, result=result)\n"
     ]
    }
   ],
   "source": [
    "mcm = pd.read_csv('../P3_data/Motor_City_Mapping,_Winter_2013-14_Certified_Results.csv')"
   ]
  },
  {
   "cell_type": "code",
   "execution_count": 424,
   "metadata": {},
   "outputs": [
    {
     "data": {
      "text/html": [
       "<div>\n",
       "<style scoped>\n",
       "    .dataframe tbody tr th:only-of-type {\n",
       "        vertical-align: middle;\n",
       "    }\n",
       "\n",
       "    .dataframe tbody tr th {\n",
       "        vertical-align: top;\n",
       "    }\n",
       "\n",
       "    .dataframe thead th {\n",
       "        text-align: right;\n",
       "    }\n",
       "</style>\n",
       "<table border=\"1\" class=\"dataframe\">\n",
       "  <thead>\n",
       "    <tr style=\"text-align: right;\">\n",
       "      <th></th>\n",
       "      <th>OBJECTID</th>\n",
       "      <th>D3_SurveyParcelID</th>\n",
       "      <th>CityParcelID2013</th>\n",
       "      <th>AddCombo</th>\n",
       "      <th>Address_Number</th>\n",
       "      <th>Address_Direction</th>\n",
       "      <th>Street</th>\n",
       "      <th>Zip</th>\n",
       "      <th>PCount</th>\n",
       "      <th>Blext_ID</th>\n",
       "      <th>User_ID</th>\n",
       "      <th>Reviewer_ID</th>\n",
       "      <th>Time_Surveyed</th>\n",
       "      <th>Updated_At</th>\n",
       "      <th>Status</th>\n",
       "      <th>Photo_URL</th>\n",
       "      <th>Structure</th>\n",
       "      <th>Use_</th>\n",
       "      <th>Condition</th>\n",
       "      <th>Occupancy</th>\n",
       "      <th>Needs_Boarding</th>\n",
       "      <th>Fire</th>\n",
       "      <th>Dumping</th>\n",
       "      <th>Units</th>\n",
       "      <th>Improved</th>\n",
       "      <th>Maintained</th>\n",
       "      <th>PublicUse</th>\n",
       "      <th>Notes</th>\n",
       "      <th>GEOID10_Tract</th>\n",
       "      <th>NAMELSAD10_Tract</th>\n",
       "      <th>GEOID10_Block</th>\n",
       "      <th>NAME10_Block</th>\n",
       "      <th>GeoID10_BG</th>\n",
       "    </tr>\n",
       "  </thead>\n",
       "  <tbody>\n",
       "    <tr>\n",
       "      <th>0</th>\n",
       "      <td>1</td>\n",
       "      <td>01000004.001</td>\n",
       "      <td>01000004.001</td>\n",
       "      <td>201 RANDOLPH</td>\n",
       "      <td>201</td>\n",
       "      <td></td>\n",
       "      <td>RANDOLPH</td>\n",
       "      <td>48200</td>\n",
       "      <td>1</td>\n",
       "      <td>411094.0</td>\n",
       "      <td>2891.0</td>\n",
       "      <td>3284.0</td>\n",
       "      <td>2014/02/07 17:58:18+00</td>\n",
       "      <td>2014/08/27 15:31:15+00</td>\n",
       "      <td>1.0</td>\n",
       "      <td>https://wdwot.s3.amazonaws.com/blexts/000/411/...</td>\n",
       "      <td>yes</td>\n",
       "      <td>commercial</td>\n",
       "      <td>good</td>\n",
       "      <td>occupied</td>\n",
       "      <td>no</td>\n",
       "      <td>no</td>\n",
       "      <td>no</td>\n",
       "      <td>NaN</td>\n",
       "      <td>NaN</td>\n",
       "      <td>NaN</td>\n",
       "      <td>NaN</td>\n",
       "      <td>Parcel contains portion of Detroit-Windsor Tunnel</td>\n",
       "      <td>26163517200</td>\n",
       "      <td>Census Tract 5172</td>\n",
       "      <td>261635172001080</td>\n",
       "      <td>Block 1080</td>\n",
       "      <td>261635172001</td>\n",
       "    </tr>\n",
       "    <tr>\n",
       "      <th>1</th>\n",
       "      <td>2</td>\n",
       "      <td>01000004.002L</td>\n",
       "      <td>01000004.002L</td>\n",
       "      <td>159 RANDOLPH</td>\n",
       "      <td>159</td>\n",
       "      <td></td>\n",
       "      <td>RANDOLPH</td>\n",
       "      <td>48200</td>\n",
       "      <td>1</td>\n",
       "      <td>411082.0</td>\n",
       "      <td>2891.0</td>\n",
       "      <td>3284.0</td>\n",
       "      <td>2014/02/07 17:57:31+00</td>\n",
       "      <td>2014/02/10 18:16:20+00</td>\n",
       "      <td>1.0</td>\n",
       "      <td>https://wdwot.s3.amazonaws.com/blexts/000/411/...</td>\n",
       "      <td>yes</td>\n",
       "      <td>commercial</td>\n",
       "      <td>good</td>\n",
       "      <td>occupied</td>\n",
       "      <td>no</td>\n",
       "      <td>no</td>\n",
       "      <td>no</td>\n",
       "      <td>NaN</td>\n",
       "      <td>NaN</td>\n",
       "      <td>NaN</td>\n",
       "      <td>NaN</td>\n",
       "      <td>NaN</td>\n",
       "      <td>26163517200</td>\n",
       "      <td>Census Tract 5172</td>\n",
       "      <td>261635172001082</td>\n",
       "      <td>Block 1082</td>\n",
       "      <td>261635172001</td>\n",
       "    </tr>\n",
       "    <tr>\n",
       "      <th>2</th>\n",
       "      <td>3</td>\n",
       "      <td>01000005.002L</td>\n",
       "      <td>01000005.002L</td>\n",
       "      <td>160 E JEFFERSON</td>\n",
       "      <td>160</td>\n",
       "      <td>E</td>\n",
       "      <td>JEFFERSON</td>\n",
       "      <td></td>\n",
       "      <td>1</td>\n",
       "      <td>411127.0</td>\n",
       "      <td>2891.0</td>\n",
       "      <td>3284.0</td>\n",
       "      <td>2014/02/07 18:01:08+00</td>\n",
       "      <td>2014/02/10 18:15:49+00</td>\n",
       "      <td>1.0</td>\n",
       "      <td>https://wdwot.s3.amazonaws.com/blexts/000/411/...</td>\n",
       "      <td>yes</td>\n",
       "      <td>commercial</td>\n",
       "      <td>good</td>\n",
       "      <td>occupied</td>\n",
       "      <td>no</td>\n",
       "      <td>no</td>\n",
       "      <td>no</td>\n",
       "      <td>NaN</td>\n",
       "      <td>NaN</td>\n",
       "      <td>NaN</td>\n",
       "      <td>NaN</td>\n",
       "      <td>NaN</td>\n",
       "      <td>26163517200</td>\n",
       "      <td>Census Tract 5172</td>\n",
       "      <td>261635172001088</td>\n",
       "      <td>Block 1088</td>\n",
       "      <td>261635172001</td>\n",
       "    </tr>\n",
       "  </tbody>\n",
       "</table>\n",
       "</div>"
      ],
      "text/plain": [
       "   OBJECTID D3_SurveyParcelID CityParcelID2013         AddCombo  \\\n",
       "0         1      01000004.001     01000004.001     201 RANDOLPH   \n",
       "1         2     01000004.002L    01000004.002L     159 RANDOLPH   \n",
       "2         3     01000005.002L    01000005.002L  160 E JEFFERSON   \n",
       "\n",
       "  Address_Number Address_Direction     Street    Zip  PCount  Blext_ID  \\\n",
       "0            201                     RANDOLPH  48200       1  411094.0   \n",
       "1            159                     RANDOLPH  48200       1  411082.0   \n",
       "2            160                 E  JEFFERSON              1  411127.0   \n",
       "\n",
       "   User_ID  Reviewer_ID           Time_Surveyed              Updated_At  \\\n",
       "0   2891.0       3284.0  2014/02/07 17:58:18+00  2014/08/27 15:31:15+00   \n",
       "1   2891.0       3284.0  2014/02/07 17:57:31+00  2014/02/10 18:16:20+00   \n",
       "2   2891.0       3284.0  2014/02/07 18:01:08+00  2014/02/10 18:15:49+00   \n",
       "\n",
       "   Status                                          Photo_URL Structure  \\\n",
       "0     1.0  https://wdwot.s3.amazonaws.com/blexts/000/411/...       yes   \n",
       "1     1.0  https://wdwot.s3.amazonaws.com/blexts/000/411/...       yes   \n",
       "2     1.0  https://wdwot.s3.amazonaws.com/blexts/000/411/...       yes   \n",
       "\n",
       "         Use_ Condition Occupancy Needs_Boarding Fire Dumping Units Improved  \\\n",
       "0  commercial      good  occupied             no   no      no   NaN      NaN   \n",
       "1  commercial      good  occupied             no   no      no   NaN      NaN   \n",
       "2  commercial      good  occupied             no   no      no   NaN      NaN   \n",
       "\n",
       "  Maintained PublicUse                                              Notes  \\\n",
       "0        NaN       NaN  Parcel contains portion of Detroit-Windsor Tunnel   \n",
       "1        NaN       NaN                                                NaN   \n",
       "2        NaN       NaN                                                NaN   \n",
       "\n",
       "   GEOID10_Tract   NAMELSAD10_Tract    GEOID10_Block NAME10_Block  \\\n",
       "0    26163517200  Census Tract 5172  261635172001080   Block 1080   \n",
       "1    26163517200  Census Tract 5172  261635172001082   Block 1082   \n",
       "2    26163517200  Census Tract 5172  261635172001088   Block 1088   \n",
       "\n",
       "     GeoID10_BG  \n",
       "0  261635172001  \n",
       "1  261635172001  \n",
       "2  261635172001  "
      ]
     },
     "execution_count": 424,
     "metadata": {},
     "output_type": "execute_result"
    }
   ],
   "source": [
    "mcm.head(3)"
   ]
  },
  {
   "cell_type": "code",
   "execution_count": 425,
   "metadata": {},
   "outputs": [
    {
     "data": {
      "text/plain": [
       "Index(['OBJECTID', 'D3_SurveyParcelID', 'CityParcelID2013', 'AddCombo',\n",
       "       'Address_Number', 'Address_Direction', 'Street', 'Zip', 'PCount',\n",
       "       'Blext_ID', 'User_ID', 'Reviewer_ID', 'Time_Surveyed', 'Updated_At',\n",
       "       'Status', 'Photo_URL', 'Structure', 'Use_', 'Condition', 'Occupancy',\n",
       "       'Needs_Boarding', 'Fire', 'Dumping', 'Units', 'Improved', 'Maintained',\n",
       "       'PublicUse', 'Notes', 'GEOID10_Tract', 'NAMELSAD10_Tract',\n",
       "       'GEOID10_Block', 'NAME10_Block', 'GeoID10_BG'],\n",
       "      dtype='object')"
      ]
     },
     "execution_count": 425,
     "metadata": {},
     "output_type": "execute_result"
    }
   ],
   "source": [
    "mcm.columns"
   ]
  },
  {
   "cell_type": "code",
   "execution_count": 426,
   "metadata": {},
   "outputs": [],
   "source": [
    "# Selecting not important features to drop from DF\n",
    "columns_to_drop = ['OBJECTID',\n",
    "                 'PublicUse',\n",
    "                 'D3_SurveyParcelID',\n",
    "                 'Use_',\n",
    "                 'Address_Number',\n",
    "                 'Address_Direction',\n",
    "                 'Street',\n",
    "                 'Zip',\n",
    "                 'PCount',\n",
    "                 'Blext_ID',\n",
    "                 'User_ID',\n",
    "                 'Reviewer_ID',\n",
    "                 'Time_Surveyed',\n",
    "                 'Updated_At',\n",
    "                 'Status',\n",
    "                 'Photo_URL',\n",
    "                 'Notes',\n",
    "                 'GEOID10_Tract',\n",
    "                 'NAMELSAD10_Tract',\n",
    "                 'GEOID10_Block',\n",
    "                 'NAME10_Block',\n",
    "                 'GeoID10_BG',\n",
    "                  'Occupancy']"
   ]
  },
  {
   "cell_type": "code",
   "execution_count": null,
   "metadata": {},
   "outputs": [],
   "source": [
    "\n",
    "mcm = mcm.drop(columns=columns_to_drop, axis=1)\n",
    "mcm.rename({'CityParcelID2013': 'parcel_id'}, axis=1, inplace=True)\n",
    "mcm['parcel_id'] = mcm.apply(parse_parcel,axis=1)\n",
    "mcm = mcm.dropna(subset= [ 'Condition', 'Needs_Boarding', 'Fire', 'Dumping', 'Maintained'], how='all')\n"
   ]
  },
  {
   "cell_type": "code",
   "execution_count": null,
   "metadata": {},
   "outputs": [],
   "source": [
    "\n",
    "count_id = pd.DataFrame(mcm.groupby('parcel_id')['parcel_id'].count())\n",
    "count_id = count_id.rename({'parcel_id':'parcel_count'}, axis=1)\n",
    "count_id = count_id.reset_index()\n"
   ]
  },
  {
   "cell_type": "code",
   "execution_count": null,
   "metadata": {},
   "outputs": [],
   "source": [
    "\n",
    "mcm = pd.merge(mcm, count_id, left_on='parcel_id', right_on='parcel_id')\n",
    "mcm = mcm[mcm.parcel_count ==1].drop('parcel_count', axis =1)\n"
   ]
  },
  {
   "cell_type": "code",
   "execution_count": null,
   "metadata": {},
   "outputs": [],
   "source": [
    "mcm.info()"
   ]
  },
  {
   "cell_type": "code",
   "execution_count": null,
   "metadata": {},
   "outputs": [],
   "source": [
    "mcm.Dumping.fillna('no', inplace = True)\n",
    "mcm.Units.fillna('4+ units', inplace = True)\n",
    "mcm.Fire.fillna('no', inplace = True)\n",
    "mcm.Improved.fillna('not_defined', inplace = True)"
   ]
  },
  {
   "cell_type": "code",
   "execution_count": null,
   "metadata": {},
   "outputs": [],
   "source": [
    "mcm.dropna(subset=['Condition'], inplace=True)\n",
    "mcm.Maintained.fillna('unknown', inplace= True)\n",
    "mcm.Needs_Boarding.fillna('no', inplace=True)"
   ]
  },
  {
   "cell_type": "code",
   "execution_count": null,
   "metadata": {},
   "outputs": [],
   "source": [
    "mcm.info()"
   ]
  },
  {
   "cell_type": "code",
   "execution_count": null,
   "metadata": {},
   "outputs": [],
   "source": [
    "mcm.to_csv(r'data/MCM.csv', index = False)"
   ]
  }
 ],
 "metadata": {
  "kernelspec": {
   "display_name": "Python 3",
   "language": "python",
   "name": "python3"
  },
  "language_info": {
   "codemirror_mode": {
    "name": "ipython",
    "version": 3
   },
   "file_extension": ".py",
   "mimetype": "text/x-python",
   "name": "python",
   "nbconvert_exporter": "python",
   "pygments_lexer": "ipython3",
   "version": "3.7.6"
  }
 },
 "nbformat": 4,
 "nbformat_minor": 4
}
