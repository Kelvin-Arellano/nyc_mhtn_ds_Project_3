{
 "cells": [
  {
   "cell_type": "code",
   "execution_count": 19,
   "metadata": {
    "ExecuteTime": {
     "end_time": "2021-02-16T22:00:10.312652Z",
     "start_time": "2021-02-16T22:00:10.243793Z"
    }
   },
   "outputs": [
    {
     "name": "stdout",
     "output_type": "stream",
     "text": [
      "The autoreload extension is already loaded. To reload it, use:\n",
      "  %reload_ext autoreload\n"
     ]
    }
   ],
   "source": [
    "import pandas as pd\n",
    "import datetime\n",
    "import numpy as np\n",
    "import matplotlib.pyplot as plt\n",
    "import seaborn as sns\n",
    "from geopy.distance import distance\n",
    "import re\n",
    "\n",
    "from ingeniring_utils import * # import all existing functions from file cleaning.py\n",
    "\n",
    "%load_ext autoreload\n",
    "%autoreload 2\n",
    "\n",
    "\n",
    "pd.set_option('display.max_columns', 360)"
   ]
  },
  {
   "cell_type": "markdown",
   "metadata": {},
   "source": [
    "---\n",
    "\n",
    "\n",
    "\n",
    "## Loading Info Data Set"
   ]
  },
  {
   "cell_type": "code",
   "execution_count": 20,
   "metadata": {
    "ExecuteTime": {
     "end_time": "2021-02-16T22:00:18.593120Z",
     "start_time": "2021-02-16T22:00:10.685358Z"
    }
   },
   "outputs": [],
   "source": [
    "info = pd.read_csv('../data/Blight_Violations.csv',low_memory=False)"
   ]
  },
  {
   "cell_type": "code",
   "execution_count": 21,
   "metadata": {
    "ExecuteTime": {
     "end_time": "2021-02-16T22:00:18.763082Z",
     "start_time": "2021-02-16T22:00:18.597654Z"
    }
   },
   "outputs": [
    {
     "data": {
      "text/html": [
       "<div>\n",
       "<style scoped>\n",
       "    .dataframe tbody tr th:only-of-type {\n",
       "        vertical-align: middle;\n",
       "    }\n",
       "\n",
       "    .dataframe tbody tr th {\n",
       "        vertical-align: top;\n",
       "    }\n",
       "\n",
       "    .dataframe thead th {\n",
       "        text-align: right;\n",
       "    }\n",
       "</style>\n",
       "<table border=\"1\" class=\"dataframe\">\n",
       "  <thead>\n",
       "    <tr style=\"text-align: right;\">\n",
       "      <th></th>\n",
       "      <th>X</th>\n",
       "      <th>Y</th>\n",
       "      <th>ticket_id</th>\n",
       "      <th>ticket_number</th>\n",
       "      <th>agency_name</th>\n",
       "      <th>inspector_name</th>\n",
       "      <th>violator_name</th>\n",
       "      <th>violation_street_number</th>\n",
       "      <th>violation_street_name</th>\n",
       "      <th>violation_zip_code</th>\n",
       "      <th>violator_id</th>\n",
       "      <th>mailing_address_str_number</th>\n",
       "      <th>mailing_address_str_name</th>\n",
       "      <th>city</th>\n",
       "      <th>state</th>\n",
       "      <th>zip_code</th>\n",
       "      <th>non_us_str_code</th>\n",
       "      <th>country</th>\n",
       "      <th>violation_date</th>\n",
       "      <th>ticket_issued_time</th>\n",
       "      <th>hearing_date</th>\n",
       "      <th>hearing_time</th>\n",
       "      <th>judgment_date</th>\n",
       "      <th>violation_code</th>\n",
       "      <th>violation_description</th>\n",
       "      <th>disposition</th>\n",
       "      <th>clean_up_cost</th>\n",
       "      <th>payment_amount</th>\n",
       "      <th>payment_date</th>\n",
       "      <th>payment_status</th>\n",
       "      <th>collection_status</th>\n",
       "      <th>violation_address</th>\n",
       "      <th>parcelno</th>\n",
       "      <th>oid</th>\n",
       "      <th>geom</th>\n",
       "      <th>fine_amount</th>\n",
       "    </tr>\n",
       "  </thead>\n",
       "  <tbody>\n",
       "    <tr>\n",
       "      <th>0</th>\n",
       "      <td>-83.072573</td>\n",
       "      <td>42.383350</td>\n",
       "      <td>18645</td>\n",
       "      <td>05001700DAH</td>\n",
       "      <td>Buildings, Safety Engineering &amp; Env Department</td>\n",
       "      <td>Orbie Gailes</td>\n",
       "      <td>Dean  Byrd</td>\n",
       "      <td>601</td>\n",
       "      <td>KING</td>\n",
       "      <td>NaN</td>\n",
       "      <td>1614</td>\n",
       "      <td>599</td>\n",
       "      <td>King</td>\n",
       "      <td>Det</td>\n",
       "      <td>MI</td>\n",
       "      <td>48202</td>\n",
       "      <td>NaN</td>\n",
       "      <td>NaN</td>\n",
       "      <td>2005/01/13 00:00:00+00</td>\n",
       "      <td>1900/01/01 14:00:00</td>\n",
       "      <td>2005/02/07 00:00:00+00</td>\n",
       "      <td>09:00:00</td>\n",
       "      <td>2005/02/07 00:00:00+00</td>\n",
       "      <td>9-1-36(a)</td>\n",
       "      <td>Failure of owner to obtain certificate of comp...</td>\n",
       "      <td>Responsible by Default</td>\n",
       "      <td>NaN</td>\n",
       "      <td>NaN</td>\n",
       "      <td>1970/01/01 00:00:00+00</td>\n",
       "      <td>NaN</td>\n",
       "      <td>NaN</td>\n",
       "      <td>601 KING</td>\n",
       "      <td>03002390.</td>\n",
       "      <td>18645</td>\n",
       "      <td>NaN</td>\n",
       "      <td>NaN</td>\n",
       "    </tr>\n",
       "    <tr>\n",
       "      <th>1</th>\n",
       "      <td>-83.072479</td>\n",
       "      <td>42.383394</td>\n",
       "      <td>18646</td>\n",
       "      <td>05001701DAH</td>\n",
       "      <td>Buildings, Safety Engineering &amp; Env Department</td>\n",
       "      <td>Orbie Gailes</td>\n",
       "      <td>Cynthia Roberts</td>\n",
       "      <td>607</td>\n",
       "      <td>KING</td>\n",
       "      <td>NaN</td>\n",
       "      <td>1615</td>\n",
       "      <td>18604</td>\n",
       "      <td>Appoline</td>\n",
       "      <td>Det</td>\n",
       "      <td>MI</td>\n",
       "      <td>48235</td>\n",
       "      <td>NaN</td>\n",
       "      <td>NaN</td>\n",
       "      <td>2005/01/14 00:00:00+00</td>\n",
       "      <td>1900/01/01 00:45:00</td>\n",
       "      <td>2005/02/14 00:00:00+00</td>\n",
       "      <td>09:00:00</td>\n",
       "      <td>2019/09/16 10:26:00+00</td>\n",
       "      <td>9-1-36(a)</td>\n",
       "      <td>Failure of owner to obtain certificate of comp...</td>\n",
       "      <td>Not responsible by City Dismissal</td>\n",
       "      <td>NaN</td>\n",
       "      <td>NaN</td>\n",
       "      <td>1970/01/01 00:00:00+00</td>\n",
       "      <td>NO PAYMENT DUE</td>\n",
       "      <td>NaN</td>\n",
       "      <td>607 KING</td>\n",
       "      <td>03002391.</td>\n",
       "      <td>18646</td>\n",
       "      <td>NaN</td>\n",
       "      <td>NaN</td>\n",
       "    </tr>\n",
       "    <tr>\n",
       "      <th>2</th>\n",
       "      <td>-83.115061</td>\n",
       "      <td>42.359916</td>\n",
       "      <td>18648</td>\n",
       "      <td>05001703DAH</td>\n",
       "      <td>Buildings, Safety Engineering &amp; Env Department</td>\n",
       "      <td>Orbie Gailes</td>\n",
       "      <td>Dannny Barnes</td>\n",
       "      <td>4066</td>\n",
       "      <td>COLUMBUS</td>\n",
       "      <td>NaN</td>\n",
       "      <td>1617</td>\n",
       "      <td>4066</td>\n",
       "      <td>Columbus</td>\n",
       "      <td>Det</td>\n",
       "      <td>MI</td>\n",
       "      <td>48204</td>\n",
       "      <td>NaN</td>\n",
       "      <td>NaN</td>\n",
       "      <td>2005/01/14 00:00:00+00</td>\n",
       "      <td>1900/01/01 14:00:00</td>\n",
       "      <td>2005/02/14 00:00:00+00</td>\n",
       "      <td>09:00:00</td>\n",
       "      <td>2005/02/14 00:00:00+00</td>\n",
       "      <td>9-1-36(a)</td>\n",
       "      <td>Failure of owner to obtain certificate of comp...</td>\n",
       "      <td>Not responsible by Dismissal</td>\n",
       "      <td>NaN</td>\n",
       "      <td>NaN</td>\n",
       "      <td>1970/01/01 00:00:00+00</td>\n",
       "      <td>NO PAYMENT DUE</td>\n",
       "      <td>NaN</td>\n",
       "      <td>4066 COLUMBUS</td>\n",
       "      <td>14002572.</td>\n",
       "      <td>18648</td>\n",
       "      <td>NaN</td>\n",
       "      <td>NaN</td>\n",
       "    </tr>\n",
       "  </tbody>\n",
       "</table>\n",
       "</div>"
      ],
      "text/plain": [
       "           X          Y  ticket_id ticket_number  \\\n",
       "0 -83.072573  42.383350      18645   05001700DAH   \n",
       "1 -83.072479  42.383394      18646   05001701DAH   \n",
       "2 -83.115061  42.359916      18648   05001703DAH   \n",
       "\n",
       "                                      agency_name inspector_name  \\\n",
       "0  Buildings, Safety Engineering & Env Department   Orbie Gailes   \n",
       "1  Buildings, Safety Engineering & Env Department   Orbie Gailes   \n",
       "2  Buildings, Safety Engineering & Env Department   Orbie Gailes   \n",
       "\n",
       "     violator_name  violation_street_number violation_street_name  \\\n",
       "0       Dean  Byrd                      601      KING               \n",
       "1  Cynthia Roberts                      607      KING               \n",
       "2    Dannny Barnes                     4066      COLUMBUS           \n",
       "\n",
       "  violation_zip_code  violator_id mailing_address_str_number  \\\n",
       "0                NaN         1614                        599   \n",
       "1                NaN         1615                      18604   \n",
       "2                NaN         1617                       4066   \n",
       "\n",
       "  mailing_address_str_name city state zip_code non_us_str_code country  \\\n",
       "0                     King  Det    MI    48202             NaN     NaN   \n",
       "1                 Appoline  Det    MI    48235             NaN     NaN   \n",
       "2                 Columbus  Det    MI    48204             NaN     NaN   \n",
       "\n",
       "           violation_date   ticket_issued_time            hearing_date  \\\n",
       "0  2005/01/13 00:00:00+00  1900/01/01 14:00:00  2005/02/07 00:00:00+00   \n",
       "1  2005/01/14 00:00:00+00  1900/01/01 00:45:00  2005/02/14 00:00:00+00   \n",
       "2  2005/01/14 00:00:00+00  1900/01/01 14:00:00  2005/02/14 00:00:00+00   \n",
       "\n",
       "  hearing_time           judgment_date violation_code  \\\n",
       "0     09:00:00  2005/02/07 00:00:00+00      9-1-36(a)   \n",
       "1     09:00:00  2019/09/16 10:26:00+00      9-1-36(a)   \n",
       "2     09:00:00  2005/02/14 00:00:00+00      9-1-36(a)   \n",
       "\n",
       "                               violation_description  \\\n",
       "0  Failure of owner to obtain certificate of comp...   \n",
       "1  Failure of owner to obtain certificate of comp...   \n",
       "2  Failure of owner to obtain certificate of comp...   \n",
       "\n",
       "                         disposition  clean_up_cost  payment_amount  \\\n",
       "0             Responsible by Default            NaN             NaN   \n",
       "1  Not responsible by City Dismissal            NaN             NaN   \n",
       "2       Not responsible by Dismissal            NaN             NaN   \n",
       "\n",
       "             payment_date  payment_status collection_status  \\\n",
       "0  1970/01/01 00:00:00+00             NaN               NaN   \n",
       "1  1970/01/01 00:00:00+00  NO PAYMENT DUE               NaN   \n",
       "2  1970/01/01 00:00:00+00  NO PAYMENT DUE               NaN   \n",
       "\n",
       "       violation_address   parcelno    oid  geom  fine_amount  \n",
       "0   601 KING              03002390.  18645   NaN          NaN  \n",
       "1   607 KING              03002391.  18646   NaN          NaN  \n",
       "2  4066 COLUMBUS          14002572.  18648   NaN          NaN  "
      ]
     },
     "execution_count": 21,
     "metadata": {},
     "output_type": "execute_result"
    }
   ],
   "source": [
    "info.head(3)"
   ]
  },
  {
   "cell_type": "code",
   "execution_count": 22,
   "metadata": {
    "ExecuteTime": {
     "end_time": "2021-02-16T22:00:18.831073Z",
     "start_time": "2021-02-16T22:00:18.767758Z"
    }
   },
   "outputs": [
    {
     "data": {
      "text/plain": [
       "Index(['X', 'Y', 'ticket_id', 'ticket_number', 'agency_name', 'inspector_name',\n",
       "       'violator_name', 'violation_street_number', 'violation_street_name',\n",
       "       'violation_zip_code', 'violator_id', 'mailing_address_str_number',\n",
       "       'mailing_address_str_name', 'city', 'state', 'zip_code',\n",
       "       'non_us_str_code', 'country', 'violation_date', 'ticket_issued_time',\n",
       "       'hearing_date', 'hearing_time', 'judgment_date', 'violation_code',\n",
       "       'violation_description', 'disposition', 'clean_up_cost',\n",
       "       'payment_amount', 'payment_date', 'payment_status', 'collection_status',\n",
       "       'violation_address', 'parcelno', 'oid', 'geom', 'fine_amount'],\n",
       "      dtype='object')"
      ]
     },
     "execution_count": 22,
     "metadata": {},
     "output_type": "execute_result"
    }
   ],
   "source": [
    "info.columns"
   ]
  },
  {
   "cell_type": "code",
   "execution_count": 23,
   "metadata": {
    "ExecuteTime": {
     "end_time": "2021-02-16T22:00:18.909652Z",
     "start_time": "2021-02-16T22:00:18.839987Z"
    }
   },
   "outputs": [],
   "source": [
    "columns_to_drop = ['ticket_number', 'agency_name', 'inspector_name',\n",
    "       'violator_name', 'violation_street_number', 'violation_street_name',\n",
    "       'violation_zip_code', 'violator_id', 'mailing_address_str_number',\n",
    "       'mailing_address_str_name', 'city', 'state', 'zip_code',\n",
    "       'non_us_str_code', 'country', 'violation_date', 'ticket_issued_time',\n",
    "       'hearing_date', 'hearing_time', 'judgment_date', 'violation_code',\n",
    "       'violation_description', 'disposition', 'clean_up_cost',\n",
    "       'payment_amount', 'payment_date', 'payment_status', 'collection_status',\n",
    "       'violation_address', 'oid', 'geom', 'fine_amount']"
   ]
  },
  {
   "cell_type": "code",
   "execution_count": 24,
   "metadata": {
    "ExecuteTime": {
     "end_time": "2021-02-16T22:00:19.086985Z",
     "start_time": "2021-02-16T22:00:18.924220Z"
    }
   },
   "outputs": [],
   "source": [
    "info = info.drop(columns=columns_to_drop)"
   ]
  },
  {
   "cell_type": "code",
   "execution_count": 25,
   "metadata": {
    "ExecuteTime": {
     "end_time": "2021-02-16T22:00:19.394517Z",
     "start_time": "2021-02-16T22:00:19.094152Z"
    }
   },
   "outputs": [],
   "source": [
    "info.rename({'Y':'lat', 'X':'lon', 'parcelno': 'parcel_id'}, axis=1, inplace=True)\n",
    "info = info.dropna(subset=['parcel_id'])"
   ]
  },
  {
   "cell_type": "code",
   "execution_count": 26,
   "metadata": {
    "ExecuteTime": {
     "end_time": "2021-02-16T22:00:29.318066Z",
     "start_time": "2021-02-16T22:00:19.398060Z"
    }
   },
   "outputs": [],
   "source": [
    "info['parcel_id'] = info.apply(parse_parcel,axis=1)"
   ]
  },
  {
   "cell_type": "code",
   "execution_count": 27,
   "metadata": {
    "ExecuteTime": {
     "end_time": "2021-02-16T22:00:29.435780Z",
     "start_time": "2021-02-16T22:00:29.325453Z"
    }
   },
   "outputs": [
    {
     "name": "stdout",
     "output_type": "stream",
     "text": [
      "<class 'pandas.core.frame.DataFrame'>\n",
      "Int64Index: 306227 entries, 0 to 496334\n",
      "Data columns (total 4 columns):\n",
      "lon          306227 non-null float64\n",
      "lat          306227 non-null float64\n",
      "ticket_id    306227 non-null int64\n",
      "parcel_id    306227 non-null int64\n",
      "dtypes: float64(2), int64(2)\n",
      "memory usage: 11.7 MB\n"
     ]
    }
   ],
   "source": [
    "info.info()"
   ]
  },
  {
   "cell_type": "code",
   "execution_count": 28,
   "metadata": {
    "ExecuteTime": {
     "end_time": "2021-02-16T22:00:29.541228Z",
     "start_time": "2021-02-16T22:00:29.445895Z"
    },
    "scrolled": true
   },
   "outputs": [
    {
     "data": {
      "text/html": [
       "<div>\n",
       "<style scoped>\n",
       "    .dataframe tbody tr th:only-of-type {\n",
       "        vertical-align: middle;\n",
       "    }\n",
       "\n",
       "    .dataframe tbody tr th {\n",
       "        vertical-align: top;\n",
       "    }\n",
       "\n",
       "    .dataframe thead th {\n",
       "        text-align: right;\n",
       "    }\n",
       "</style>\n",
       "<table border=\"1\" class=\"dataframe\">\n",
       "  <thead>\n",
       "    <tr style=\"text-align: right;\">\n",
       "      <th></th>\n",
       "      <th>lon</th>\n",
       "      <th>lat</th>\n",
       "      <th>ticket_id</th>\n",
       "      <th>parcel_id</th>\n",
       "    </tr>\n",
       "  </thead>\n",
       "  <tbody>\n",
       "    <tr>\n",
       "      <th>0</th>\n",
       "      <td>-83.072573</td>\n",
       "      <td>42.383350</td>\n",
       "      <td>18645</td>\n",
       "      <td>3002390</td>\n",
       "    </tr>\n",
       "    <tr>\n",
       "      <th>1</th>\n",
       "      <td>-83.072479</td>\n",
       "      <td>42.383394</td>\n",
       "      <td>18646</td>\n",
       "      <td>3002391</td>\n",
       "    </tr>\n",
       "    <tr>\n",
       "      <th>2</th>\n",
       "      <td>-83.115061</td>\n",
       "      <td>42.359916</td>\n",
       "      <td>18648</td>\n",
       "      <td>14002572</td>\n",
       "    </tr>\n",
       "    <tr>\n",
       "      <th>3</th>\n",
       "      <td>-83.128041</td>\n",
       "      <td>42.393448</td>\n",
       "      <td>18649</td>\n",
       "      <td>12004708</td>\n",
       "    </tr>\n",
       "    <tr>\n",
       "      <th>6</th>\n",
       "      <td>-83.036142</td>\n",
       "      <td>42.374078</td>\n",
       "      <td>18652</td>\n",
       "      <td>13003490</td>\n",
       "    </tr>\n",
       "  </tbody>\n",
       "</table>\n",
       "</div>"
      ],
      "text/plain": [
       "         lon        lat  ticket_id  parcel_id\n",
       "0 -83.072573  42.383350      18645    3002390\n",
       "1 -83.072479  42.383394      18646    3002391\n",
       "2 -83.115061  42.359916      18648   14002572\n",
       "3 -83.128041  42.393448      18649   12004708\n",
       "6 -83.036142  42.374078      18652   13003490"
      ]
     },
     "execution_count": 28,
     "metadata": {},
     "output_type": "execute_result"
    }
   ],
   "source": [
    "info.head()"
   ]
  },
  {
   "cell_type": "markdown",
   "metadata": {},
   "source": [
    "-----\n",
    "\n",
    "\n",
    "\n",
    "\n",
    "\n",
    "## Loading Blight Dataset"
   ]
  },
  {
   "cell_type": "code",
   "execution_count": 29,
   "metadata": {
    "ExecuteTime": {
     "end_time": "2021-02-16T22:00:32.687489Z",
     "start_time": "2021-02-16T22:00:29.554870Z"
    }
   },
   "outputs": [],
   "source": [
    "blight = pd.read_csv('../data/Blight.csv', encoding='cp1252', low_memory=False)"
   ]
  },
  {
   "cell_type": "code",
   "execution_count": 30,
   "metadata": {
    "ExecuteTime": {
     "end_time": "2021-02-16T22:00:32.762592Z",
     "start_time": "2021-02-16T22:00:32.689990Z"
    }
   },
   "outputs": [
    {
     "data": {
      "text/plain": [
       "(250306, 34)"
      ]
     },
     "execution_count": 30,
     "metadata": {},
     "output_type": "execute_result"
    }
   ],
   "source": [
    "blight.shape"
   ]
  },
  {
   "cell_type": "code",
   "execution_count": 31,
   "metadata": {
    "ExecuteTime": {
     "end_time": "2021-02-16T22:00:32.861651Z",
     "start_time": "2021-02-16T22:00:32.766464Z"
    }
   },
   "outputs": [
    {
     "data": {
      "text/html": [
       "<div>\n",
       "<style scoped>\n",
       "    .dataframe tbody tr th:only-of-type {\n",
       "        vertical-align: middle;\n",
       "    }\n",
       "\n",
       "    .dataframe tbody tr th {\n",
       "        vertical-align: top;\n",
       "    }\n",
       "\n",
       "    .dataframe thead th {\n",
       "        text-align: right;\n",
       "    }\n",
       "</style>\n",
       "<table border=\"1\" class=\"dataframe\">\n",
       "  <thead>\n",
       "    <tr style=\"text-align: right;\">\n",
       "      <th></th>\n",
       "      <th>ticket_id</th>\n",
       "      <th>agency_name</th>\n",
       "      <th>inspector_name</th>\n",
       "      <th>violator_name</th>\n",
       "      <th>violation_street_number</th>\n",
       "      <th>violation_street_name</th>\n",
       "      <th>violation_zip_code</th>\n",
       "      <th>mailing_address_str_number</th>\n",
       "      <th>mailing_address_str_name</th>\n",
       "      <th>city</th>\n",
       "      <th>state</th>\n",
       "      <th>zip_code</th>\n",
       "      <th>non_us_str_code</th>\n",
       "      <th>country</th>\n",
       "      <th>ticket_issued_date</th>\n",
       "      <th>hearing_date</th>\n",
       "      <th>violation_code</th>\n",
       "      <th>violation_description</th>\n",
       "      <th>disposition</th>\n",
       "      <th>fine_amount</th>\n",
       "      <th>admin_fee</th>\n",
       "      <th>state_fee</th>\n",
       "      <th>late_fee</th>\n",
       "      <th>discount_amount</th>\n",
       "      <th>clean_up_cost</th>\n",
       "      <th>judgment_amount</th>\n",
       "      <th>payment_amount</th>\n",
       "      <th>balance_due</th>\n",
       "      <th>payment_date</th>\n",
       "      <th>payment_status</th>\n",
       "      <th>collection_status</th>\n",
       "      <th>grafitti_status</th>\n",
       "      <th>compliance_detail</th>\n",
       "      <th>compliance</th>\n",
       "    </tr>\n",
       "  </thead>\n",
       "  <tbody>\n",
       "    <tr>\n",
       "      <th>0</th>\n",
       "      <td>22056</td>\n",
       "      <td>Buildings, Safety Engineering &amp; Env Department</td>\n",
       "      <td>Sims, Martinzie</td>\n",
       "      <td>INVESTMENT INC., MIDWEST MORTGAGE</td>\n",
       "      <td>2900.0</td>\n",
       "      <td>TYLER</td>\n",
       "      <td>NaN</td>\n",
       "      <td>3.0</td>\n",
       "      <td>S. WICKER</td>\n",
       "      <td>CHICAGO</td>\n",
       "      <td>IL</td>\n",
       "      <td>60606</td>\n",
       "      <td>NaN</td>\n",
       "      <td>USA</td>\n",
       "      <td>2004-03-16 11:40:00</td>\n",
       "      <td>2005-03-21 10:30:00</td>\n",
       "      <td>9-1-36(a)</td>\n",
       "      <td>Failure of owner to obtain certificate of comp...</td>\n",
       "      <td>Responsible by Default</td>\n",
       "      <td>250.0</td>\n",
       "      <td>20.0</td>\n",
       "      <td>10.0</td>\n",
       "      <td>25.0</td>\n",
       "      <td>0.0</td>\n",
       "      <td>0.0</td>\n",
       "      <td>305.0</td>\n",
       "      <td>0.0</td>\n",
       "      <td>305.0</td>\n",
       "      <td>NaN</td>\n",
       "      <td>NO PAYMENT APPLIED</td>\n",
       "      <td>NaN</td>\n",
       "      <td>NaN</td>\n",
       "      <td>non-compliant by no payment</td>\n",
       "      <td>0.0</td>\n",
       "    </tr>\n",
       "    <tr>\n",
       "      <th>1</th>\n",
       "      <td>27586</td>\n",
       "      <td>Buildings, Safety Engineering &amp; Env Department</td>\n",
       "      <td>Williams, Darrin</td>\n",
       "      <td>Michigan, Covenant House</td>\n",
       "      <td>4311.0</td>\n",
       "      <td>CENTRAL</td>\n",
       "      <td>NaN</td>\n",
       "      <td>2959.0</td>\n",
       "      <td>Martin Luther King</td>\n",
       "      <td>Detroit</td>\n",
       "      <td>MI</td>\n",
       "      <td>48208</td>\n",
       "      <td>NaN</td>\n",
       "      <td>USA</td>\n",
       "      <td>2004-04-23 12:30:00</td>\n",
       "      <td>2005-05-06 13:30:00</td>\n",
       "      <td>61-63.0600</td>\n",
       "      <td>Failed To Secure Permit For Lawful Use Of Buil...</td>\n",
       "      <td>Responsible by Determination</td>\n",
       "      <td>750.0</td>\n",
       "      <td>20.0</td>\n",
       "      <td>10.0</td>\n",
       "      <td>75.0</td>\n",
       "      <td>0.0</td>\n",
       "      <td>0.0</td>\n",
       "      <td>855.0</td>\n",
       "      <td>780.0</td>\n",
       "      <td>75.0</td>\n",
       "      <td>2005-06-02 00:00:00</td>\n",
       "      <td>PAID IN FULL</td>\n",
       "      <td>NaN</td>\n",
       "      <td>NaN</td>\n",
       "      <td>compliant by late payment within 1 month</td>\n",
       "      <td>1.0</td>\n",
       "    </tr>\n",
       "    <tr>\n",
       "      <th>2</th>\n",
       "      <td>22062</td>\n",
       "      <td>Buildings, Safety Engineering &amp; Env Department</td>\n",
       "      <td>Sims, Martinzie</td>\n",
       "      <td>SANDERS, DERRON</td>\n",
       "      <td>1449.0</td>\n",
       "      <td>LONGFELLOW</td>\n",
       "      <td>NaN</td>\n",
       "      <td>23658.0</td>\n",
       "      <td>P.O. BOX</td>\n",
       "      <td>DETROIT</td>\n",
       "      <td>MI</td>\n",
       "      <td>48223</td>\n",
       "      <td>NaN</td>\n",
       "      <td>USA</td>\n",
       "      <td>2004-04-26 13:40:00</td>\n",
       "      <td>2005-03-29 10:30:00</td>\n",
       "      <td>9-1-36(a)</td>\n",
       "      <td>Failure of owner to obtain certificate of comp...</td>\n",
       "      <td>Not responsible by Dismissal</td>\n",
       "      <td>250.0</td>\n",
       "      <td>0.0</td>\n",
       "      <td>0.0</td>\n",
       "      <td>0.0</td>\n",
       "      <td>0.0</td>\n",
       "      <td>0.0</td>\n",
       "      <td>0.0</td>\n",
       "      <td>0.0</td>\n",
       "      <td>0.0</td>\n",
       "      <td>NaN</td>\n",
       "      <td>NO PAYMENT APPLIED</td>\n",
       "      <td>NaN</td>\n",
       "      <td>NaN</td>\n",
       "      <td>not responsible by disposition</td>\n",
       "      <td>NaN</td>\n",
       "    </tr>\n",
       "  </tbody>\n",
       "</table>\n",
       "</div>"
      ],
      "text/plain": [
       "   ticket_id                                     agency_name  \\\n",
       "0      22056  Buildings, Safety Engineering & Env Department   \n",
       "1      27586  Buildings, Safety Engineering & Env Department   \n",
       "2      22062  Buildings, Safety Engineering & Env Department   \n",
       "\n",
       "     inspector_name                      violator_name  \\\n",
       "0   Sims, Martinzie  INVESTMENT INC., MIDWEST MORTGAGE   \n",
       "1  Williams, Darrin           Michigan, Covenant House   \n",
       "2   Sims, Martinzie                    SANDERS, DERRON   \n",
       "\n",
       "   violation_street_number violation_street_name  violation_zip_code  \\\n",
       "0                   2900.0                 TYLER                 NaN   \n",
       "1                   4311.0               CENTRAL                 NaN   \n",
       "2                   1449.0            LONGFELLOW                 NaN   \n",
       "\n",
       "   mailing_address_str_number mailing_address_str_name     city state  \\\n",
       "0                         3.0                S. WICKER  CHICAGO    IL   \n",
       "1                      2959.0       Martin Luther King  Detroit    MI   \n",
       "2                     23658.0                 P.O. BOX  DETROIT    MI   \n",
       "\n",
       "  zip_code non_us_str_code country   ticket_issued_date         hearing_date  \\\n",
       "0    60606             NaN     USA  2004-03-16 11:40:00  2005-03-21 10:30:00   \n",
       "1    48208             NaN     USA  2004-04-23 12:30:00  2005-05-06 13:30:00   \n",
       "2    48223             NaN     USA  2004-04-26 13:40:00  2005-03-29 10:30:00   \n",
       "\n",
       "  violation_code                              violation_description  \\\n",
       "0      9-1-36(a)  Failure of owner to obtain certificate of comp...   \n",
       "1     61-63.0600  Failed To Secure Permit For Lawful Use Of Buil...   \n",
       "2      9-1-36(a)  Failure of owner to obtain certificate of comp...   \n",
       "\n",
       "                    disposition  fine_amount  admin_fee  state_fee  late_fee  \\\n",
       "0        Responsible by Default        250.0       20.0       10.0      25.0   \n",
       "1  Responsible by Determination        750.0       20.0       10.0      75.0   \n",
       "2  Not responsible by Dismissal        250.0        0.0        0.0       0.0   \n",
       "\n",
       "   discount_amount  clean_up_cost  judgment_amount  payment_amount  \\\n",
       "0              0.0            0.0            305.0             0.0   \n",
       "1              0.0            0.0            855.0           780.0   \n",
       "2              0.0            0.0              0.0             0.0   \n",
       "\n",
       "   balance_due         payment_date      payment_status collection_status  \\\n",
       "0        305.0                  NaN  NO PAYMENT APPLIED               NaN   \n",
       "1         75.0  2005-06-02 00:00:00        PAID IN FULL               NaN   \n",
       "2          0.0                  NaN  NO PAYMENT APPLIED               NaN   \n",
       "\n",
       "  grafitti_status                         compliance_detail  compliance  \n",
       "0             NaN               non-compliant by no payment         0.0  \n",
       "1             NaN  compliant by late payment within 1 month         1.0  \n",
       "2             NaN            not responsible by disposition         NaN  "
      ]
     },
     "execution_count": 31,
     "metadata": {},
     "output_type": "execute_result"
    }
   ],
   "source": [
    "blight.head(3)"
   ]
  },
  {
   "cell_type": "code",
   "execution_count": 32,
   "metadata": {
    "ExecuteTime": {
     "end_time": "2021-02-16T22:00:32.904037Z",
     "start_time": "2021-02-16T22:00:32.864672Z"
    }
   },
   "outputs": [
    {
     "data": {
      "text/plain": [
       "Index(['ticket_id', 'agency_name', 'inspector_name', 'violator_name',\n",
       "       'violation_street_number', 'violation_street_name',\n",
       "       'violation_zip_code', 'mailing_address_str_number',\n",
       "       'mailing_address_str_name', 'city', 'state', 'zip_code',\n",
       "       'non_us_str_code', 'country', 'ticket_issued_date', 'hearing_date',\n",
       "       'violation_code', 'violation_description', 'disposition', 'fine_amount',\n",
       "       'admin_fee', 'state_fee', 'late_fee', 'discount_amount',\n",
       "       'clean_up_cost', 'judgment_amount', 'payment_amount', 'balance_due',\n",
       "       'payment_date', 'payment_status', 'collection_status',\n",
       "       'grafitti_status', 'compliance_detail', 'compliance'],\n",
       "      dtype='object')"
      ]
     },
     "execution_count": 32,
     "metadata": {},
     "output_type": "execute_result"
    }
   ],
   "source": [
    "blight.columns"
   ]
  },
  {
   "cell_type": "code",
   "execution_count": 33,
   "metadata": {
    "ExecuteTime": {
     "end_time": "2021-02-16T22:00:32.993529Z",
     "start_time": "2021-02-16T22:00:32.907918Z"
    }
   },
   "outputs": [],
   "source": [
    "list_to_remove_blight = ['inspector_name', 'violator_name',\n",
    "       'violation_street_number', 'violation_street_name',\n",
    "       'violation_zip_code', 'mailing_address_str_number',\n",
    "       'mailing_address_str_name', 'city', 'state', 'zip_code',\n",
    "       'non_us_str_code', 'country', 'ticket_issued_date', 'hearing_date',\n",
    "       'violation_code', 'violation_description', 'payment_amount', 'clean_up_cost',\n",
    "       'payment_status', 'fine_amount', 'admin_fee', 'state_fee', 'late_fee',                    \n",
    "       'grafitti_status', 'collection_status', 'payment_date', 'payment_status', 'compliance_detail', 'balance_due']"
   ]
  },
  {
   "cell_type": "code",
   "execution_count": 34,
   "metadata": {
    "ExecuteTime": {
     "end_time": "2021-02-16T22:00:33.127967Z",
     "start_time": "2021-02-16T22:00:33.002438Z"
    }
   },
   "outputs": [],
   "source": [
    "blight = blight.drop(columns=list_to_remove_blight, axis=1)"
   ]
  },
  {
   "cell_type": "code",
   "execution_count": 35,
   "metadata": {
    "ExecuteTime": {
     "end_time": "2021-02-16T22:00:33.213576Z",
     "start_time": "2021-02-16T22:00:33.132141Z"
    }
   },
   "outputs": [],
   "source": [
    "blight = blight.dropna(subset=['compliance'])"
   ]
  },
  {
   "cell_type": "code",
   "execution_count": 36,
   "metadata": {
    "ExecuteTime": {
     "end_time": "2021-02-16T22:00:33.303229Z",
     "start_time": "2021-02-16T22:00:33.216758Z"
    }
   },
   "outputs": [
    {
     "name": "stdout",
     "output_type": "stream",
     "text": [
      "<class 'pandas.core.frame.DataFrame'>\n",
      "Int64Index: 159880 entries, 0 to 250293\n",
      "Data columns (total 6 columns):\n",
      "ticket_id          159880 non-null int64\n",
      "agency_name        159880 non-null object\n",
      "disposition        159880 non-null object\n",
      "discount_amount    159880 non-null float64\n",
      "judgment_amount    159880 non-null float64\n",
      "compliance         159880 non-null float64\n",
      "dtypes: float64(3), int64(1), object(2)\n",
      "memory usage: 8.5+ MB\n"
     ]
    }
   ],
   "source": [
    "blight.info()"
   ]
  },
  {
   "cell_type": "code",
   "execution_count": 37,
   "metadata": {
    "ExecuteTime": {
     "end_time": "2021-02-16T22:00:33.522560Z",
     "start_time": "2021-02-16T22:00:33.309614Z"
    }
   },
   "outputs": [],
   "source": [
    "blight_info = pd.merge(blight, info, left_on='ticket_id', right_on='ticket_id', how= 'left')"
   ]
  },
  {
   "cell_type": "code",
   "execution_count": 38,
   "metadata": {
    "ExecuteTime": {
     "end_time": "2021-02-16T22:00:33.619143Z",
     "start_time": "2021-02-16T22:00:33.528924Z"
    }
   },
   "outputs": [
    {
     "name": "stdout",
     "output_type": "stream",
     "text": [
      "<class 'pandas.core.frame.DataFrame'>\n",
      "Int64Index: 159880 entries, 0 to 159879\n",
      "Data columns (total 9 columns):\n",
      "ticket_id          159880 non-null int64\n",
      "agency_name        159880 non-null object\n",
      "disposition        159880 non-null object\n",
      "discount_amount    159880 non-null float64\n",
      "judgment_amount    159880 non-null float64\n",
      "compliance         159880 non-null float64\n",
      "lon                97398 non-null float64\n",
      "lat                97398 non-null float64\n",
      "parcel_id          97398 non-null float64\n",
      "dtypes: float64(6), int64(1), object(2)\n",
      "memory usage: 12.2+ MB\n"
     ]
    }
   ],
   "source": [
    "blight_info.info()"
   ]
  },
  {
   "cell_type": "code",
   "execution_count": 39,
   "metadata": {
    "ExecuteTime": {
     "end_time": "2021-02-16T22:00:33.728013Z",
     "start_time": "2021-02-16T22:00:33.627331Z"
    }
   },
   "outputs": [],
   "source": [
    "blight_info =  blight_info.dropna(subset=['parcel_id'])"
   ]
  },
  {
   "cell_type": "code",
   "execution_count": 40,
   "metadata": {
    "ExecuteTime": {
     "end_time": "2021-02-16T22:00:33.808566Z",
     "start_time": "2021-02-16T22:00:33.731761Z"
    }
   },
   "outputs": [],
   "source": [
    "blight_info.parcel_id = blight_info.parcel_id.astype(int, copy = False )"
   ]
  },
  {
   "cell_type": "markdown",
   "metadata": {},
   "source": [
    "-----\n",
    "\n",
    "\n",
    "\n",
    "\n",
    "\n",
    "## Exploring Motor City Mapping"
   ]
  },
  {
   "cell_type": "code",
   "execution_count": 41,
   "metadata": {
    "ExecuteTime": {
     "end_time": "2021-02-16T22:00:49.590630Z",
     "start_time": "2021-02-16T22:00:44.769341Z"
    }
   },
   "outputs": [],
   "source": [
    "mcm = pd.read_csv('../data/Motor_City_Mapping,_Winter_2013-14_Certified_Results.csv', low_memory=False)"
   ]
  },
  {
   "cell_type": "code",
   "execution_count": 42,
   "metadata": {
    "ExecuteTime": {
     "end_time": "2021-02-16T22:00:49.739764Z",
     "start_time": "2021-02-16T22:00:49.595596Z"
    }
   },
   "outputs": [
    {
     "data": {
      "text/html": [
       "<div>\n",
       "<style scoped>\n",
       "    .dataframe tbody tr th:only-of-type {\n",
       "        vertical-align: middle;\n",
       "    }\n",
       "\n",
       "    .dataframe tbody tr th {\n",
       "        vertical-align: top;\n",
       "    }\n",
       "\n",
       "    .dataframe thead th {\n",
       "        text-align: right;\n",
       "    }\n",
       "</style>\n",
       "<table border=\"1\" class=\"dataframe\">\n",
       "  <thead>\n",
       "    <tr style=\"text-align: right;\">\n",
       "      <th></th>\n",
       "      <th>OBJECTID</th>\n",
       "      <th>D3_SurveyParcelID</th>\n",
       "      <th>CityParcelID2013</th>\n",
       "      <th>AddCombo</th>\n",
       "      <th>Address_Number</th>\n",
       "      <th>Address_Direction</th>\n",
       "      <th>Street</th>\n",
       "      <th>Zip</th>\n",
       "      <th>PCount</th>\n",
       "      <th>Blext_ID</th>\n",
       "      <th>User_ID</th>\n",
       "      <th>Reviewer_ID</th>\n",
       "      <th>Time_Surveyed</th>\n",
       "      <th>Updated_At</th>\n",
       "      <th>Status</th>\n",
       "      <th>Photo_URL</th>\n",
       "      <th>Structure</th>\n",
       "      <th>Use_</th>\n",
       "      <th>Condition</th>\n",
       "      <th>Occupancy</th>\n",
       "      <th>Needs_Boarding</th>\n",
       "      <th>Fire</th>\n",
       "      <th>Dumping</th>\n",
       "      <th>Units</th>\n",
       "      <th>Improved</th>\n",
       "      <th>Maintained</th>\n",
       "      <th>PublicUse</th>\n",
       "      <th>Notes</th>\n",
       "      <th>GEOID10_Tract</th>\n",
       "      <th>NAMELSAD10_Tract</th>\n",
       "      <th>GEOID10_Block</th>\n",
       "      <th>NAME10_Block</th>\n",
       "      <th>GeoID10_BG</th>\n",
       "    </tr>\n",
       "  </thead>\n",
       "  <tbody>\n",
       "    <tr>\n",
       "      <th>0</th>\n",
       "      <td>1</td>\n",
       "      <td>01000004.001</td>\n",
       "      <td>01000004.001</td>\n",
       "      <td>201 RANDOLPH</td>\n",
       "      <td>201</td>\n",
       "      <td></td>\n",
       "      <td>RANDOLPH</td>\n",
       "      <td>48200</td>\n",
       "      <td>1</td>\n",
       "      <td>411094.0</td>\n",
       "      <td>2891.0</td>\n",
       "      <td>3284.0</td>\n",
       "      <td>2014/02/07 17:58:18+00</td>\n",
       "      <td>2014/08/27 15:31:15+00</td>\n",
       "      <td>1.0</td>\n",
       "      <td>https://wdwot.s3.amazonaws.com/blexts/000/411/...</td>\n",
       "      <td>yes</td>\n",
       "      <td>commercial</td>\n",
       "      <td>good</td>\n",
       "      <td>occupied</td>\n",
       "      <td>no</td>\n",
       "      <td>no</td>\n",
       "      <td>no</td>\n",
       "      <td>NaN</td>\n",
       "      <td>NaN</td>\n",
       "      <td>NaN</td>\n",
       "      <td>NaN</td>\n",
       "      <td>Parcel contains portion of Detroit-Windsor Tunnel</td>\n",
       "      <td>26163517200</td>\n",
       "      <td>Census Tract 5172</td>\n",
       "      <td>261635172001080</td>\n",
       "      <td>Block 1080</td>\n",
       "      <td>261635172001</td>\n",
       "    </tr>\n",
       "    <tr>\n",
       "      <th>1</th>\n",
       "      <td>2</td>\n",
       "      <td>01000004.002L</td>\n",
       "      <td>01000004.002L</td>\n",
       "      <td>159 RANDOLPH</td>\n",
       "      <td>159</td>\n",
       "      <td></td>\n",
       "      <td>RANDOLPH</td>\n",
       "      <td>48200</td>\n",
       "      <td>1</td>\n",
       "      <td>411082.0</td>\n",
       "      <td>2891.0</td>\n",
       "      <td>3284.0</td>\n",
       "      <td>2014/02/07 17:57:31+00</td>\n",
       "      <td>2014/02/10 18:16:20+00</td>\n",
       "      <td>1.0</td>\n",
       "      <td>https://wdwot.s3.amazonaws.com/blexts/000/411/...</td>\n",
       "      <td>yes</td>\n",
       "      <td>commercial</td>\n",
       "      <td>good</td>\n",
       "      <td>occupied</td>\n",
       "      <td>no</td>\n",
       "      <td>no</td>\n",
       "      <td>no</td>\n",
       "      <td>NaN</td>\n",
       "      <td>NaN</td>\n",
       "      <td>NaN</td>\n",
       "      <td>NaN</td>\n",
       "      <td>NaN</td>\n",
       "      <td>26163517200</td>\n",
       "      <td>Census Tract 5172</td>\n",
       "      <td>261635172001082</td>\n",
       "      <td>Block 1082</td>\n",
       "      <td>261635172001</td>\n",
       "    </tr>\n",
       "    <tr>\n",
       "      <th>2</th>\n",
       "      <td>3</td>\n",
       "      <td>01000005.002L</td>\n",
       "      <td>01000005.002L</td>\n",
       "      <td>160 E JEFFERSON</td>\n",
       "      <td>160</td>\n",
       "      <td>E</td>\n",
       "      <td>JEFFERSON</td>\n",
       "      <td></td>\n",
       "      <td>1</td>\n",
       "      <td>411127.0</td>\n",
       "      <td>2891.0</td>\n",
       "      <td>3284.0</td>\n",
       "      <td>2014/02/07 18:01:08+00</td>\n",
       "      <td>2014/02/10 18:15:49+00</td>\n",
       "      <td>1.0</td>\n",
       "      <td>https://wdwot.s3.amazonaws.com/blexts/000/411/...</td>\n",
       "      <td>yes</td>\n",
       "      <td>commercial</td>\n",
       "      <td>good</td>\n",
       "      <td>occupied</td>\n",
       "      <td>no</td>\n",
       "      <td>no</td>\n",
       "      <td>no</td>\n",
       "      <td>NaN</td>\n",
       "      <td>NaN</td>\n",
       "      <td>NaN</td>\n",
       "      <td>NaN</td>\n",
       "      <td>NaN</td>\n",
       "      <td>26163517200</td>\n",
       "      <td>Census Tract 5172</td>\n",
       "      <td>261635172001088</td>\n",
       "      <td>Block 1088</td>\n",
       "      <td>261635172001</td>\n",
       "    </tr>\n",
       "  </tbody>\n",
       "</table>\n",
       "</div>"
      ],
      "text/plain": [
       "   OBJECTID D3_SurveyParcelID CityParcelID2013         AddCombo  \\\n",
       "0         1      01000004.001     01000004.001     201 RANDOLPH   \n",
       "1         2     01000004.002L    01000004.002L     159 RANDOLPH   \n",
       "2         3     01000005.002L    01000005.002L  160 E JEFFERSON   \n",
       "\n",
       "  Address_Number Address_Direction     Street    Zip  PCount  Blext_ID  \\\n",
       "0            201                     RANDOLPH  48200       1  411094.0   \n",
       "1            159                     RANDOLPH  48200       1  411082.0   \n",
       "2            160                 E  JEFFERSON              1  411127.0   \n",
       "\n",
       "   User_ID  Reviewer_ID           Time_Surveyed              Updated_At  \\\n",
       "0   2891.0       3284.0  2014/02/07 17:58:18+00  2014/08/27 15:31:15+00   \n",
       "1   2891.0       3284.0  2014/02/07 17:57:31+00  2014/02/10 18:16:20+00   \n",
       "2   2891.0       3284.0  2014/02/07 18:01:08+00  2014/02/10 18:15:49+00   \n",
       "\n",
       "   Status                                          Photo_URL Structure  \\\n",
       "0     1.0  https://wdwot.s3.amazonaws.com/blexts/000/411/...       yes   \n",
       "1     1.0  https://wdwot.s3.amazonaws.com/blexts/000/411/...       yes   \n",
       "2     1.0  https://wdwot.s3.amazonaws.com/blexts/000/411/...       yes   \n",
       "\n",
       "         Use_ Condition Occupancy Needs_Boarding Fire Dumping Units Improved  \\\n",
       "0  commercial      good  occupied             no   no      no   NaN      NaN   \n",
       "1  commercial      good  occupied             no   no      no   NaN      NaN   \n",
       "2  commercial      good  occupied             no   no      no   NaN      NaN   \n",
       "\n",
       "  Maintained PublicUse                                              Notes  \\\n",
       "0        NaN       NaN  Parcel contains portion of Detroit-Windsor Tunnel   \n",
       "1        NaN       NaN                                                NaN   \n",
       "2        NaN       NaN                                                NaN   \n",
       "\n",
       "   GEOID10_Tract   NAMELSAD10_Tract    GEOID10_Block NAME10_Block  \\\n",
       "0    26163517200  Census Tract 5172  261635172001080   Block 1080   \n",
       "1    26163517200  Census Tract 5172  261635172001082   Block 1082   \n",
       "2    26163517200  Census Tract 5172  261635172001088   Block 1088   \n",
       "\n",
       "     GeoID10_BG  \n",
       "0  261635172001  \n",
       "1  261635172001  \n",
       "2  261635172001  "
      ]
     },
     "execution_count": 42,
     "metadata": {},
     "output_type": "execute_result"
    }
   ],
   "source": [
    "mcm.head(3)"
   ]
  },
  {
   "cell_type": "code",
   "execution_count": 43,
   "metadata": {
    "ExecuteTime": {
     "end_time": "2021-02-16T22:00:49.791489Z",
     "start_time": "2021-02-16T22:00:49.744972Z"
    }
   },
   "outputs": [
    {
     "data": {
      "text/plain": [
       "Index(['OBJECTID', 'D3_SurveyParcelID', 'CityParcelID2013', 'AddCombo',\n",
       "       'Address_Number', 'Address_Direction', 'Street', 'Zip', 'PCount',\n",
       "       'Blext_ID', 'User_ID', 'Reviewer_ID', 'Time_Surveyed', 'Updated_At',\n",
       "       'Status', 'Photo_URL', 'Structure', 'Use_', 'Condition', 'Occupancy',\n",
       "       'Needs_Boarding', 'Fire', 'Dumping', 'Units', 'Improved', 'Maintained',\n",
       "       'PublicUse', 'Notes', 'GEOID10_Tract', 'NAMELSAD10_Tract',\n",
       "       'GEOID10_Block', 'NAME10_Block', 'GeoID10_BG'],\n",
       "      dtype='object')"
      ]
     },
     "execution_count": 43,
     "metadata": {},
     "output_type": "execute_result"
    }
   ],
   "source": [
    "mcm.columns"
   ]
  },
  {
   "cell_type": "code",
   "execution_count": 44,
   "metadata": {
    "ExecuteTime": {
     "end_time": "2021-02-16T22:00:49.895947Z",
     "start_time": "2021-02-16T22:00:49.795818Z"
    }
   },
   "outputs": [],
   "source": [
    "# Selecting not important features to drop from DF\n",
    "columns_to_drop = ['OBJECTID',\n",
    "                 'PublicUse',\n",
    "                 'D3_SurveyParcelID',\n",
    "                 'PublicUse',\n",
    "                 'Address_Number',\n",
    "                 'Address_Direction',\n",
    "                 'Street',\n",
    "                 'Zip',\n",
    "                 'PCount',\n",
    "                 'Blext_ID',\n",
    "                 'User_ID',\n",
    "                 'Reviewer_ID',\n",
    "                 'Time_Surveyed',\n",
    "                 'Updated_At',\n",
    "                 'Status',\n",
    "                 'Photo_URL',\n",
    "                 'Notes',\n",
    "                 'GEOID10_Tract',\n",
    "                 'NAMELSAD10_Tract',\n",
    "                 'GEOID10_Block',\n",
    "                 'NAME10_Block',\n",
    "                 'GeoID10_BG',\n",
    "                 'Maintained',\n",
    "                 'Use_', 'Improved'  \n",
    "                  ]"
   ]
  },
  {
   "cell_type": "code",
   "execution_count": 45,
   "metadata": {
    "ExecuteTime": {
     "end_time": "2021-02-16T22:01:01.779676Z",
     "start_time": "2021-02-16T22:00:49.900445Z"
    }
   },
   "outputs": [],
   "source": [
    "mcm = mcm.drop(columns=columns_to_drop, axis=1)\n",
    "mcm.rename({'CityParcelID2013': 'parcel_id'}, axis=1, inplace=True)\n",
    "mcm['parcel_id'] = mcm.apply(parse_parcel,axis=1)\n",
    "mcm = mcm.dropna(subset= [ 'Condition', 'Occupancy', 'Needs_Boarding', 'Fire', 'Dumping' ], how='all')"
   ]
  },
  {
   "cell_type": "code",
   "execution_count": 46,
   "metadata": {
    "ExecuteTime": {
     "end_time": "2021-02-16T22:01:02.275644Z",
     "start_time": "2021-02-16T22:01:01.782741Z"
    }
   },
   "outputs": [],
   "source": [
    "count_id = pd.DataFrame(mcm.groupby('parcel_id')['parcel_id'].count())\n",
    "count_id = count_id.rename({'parcel_id':'parcel_count'}, axis=1).reset_index()\n",
    "\n",
    "mcm = pd.merge(mcm, count_id, left_on='parcel_id', right_on='parcel_id')\n",
    "mcm = mcm[mcm.parcel_count == 1].drop('parcel_count', axis =1)"
   ]
  },
  {
   "cell_type": "code",
   "execution_count": null,
   "metadata": {},
   "outputs": [],
   "source": []
  },
  {
   "cell_type": "code",
   "execution_count": 47,
   "metadata": {
    "ExecuteTime": {
     "end_time": "2021-02-16T22:01:02.526126Z",
     "start_time": "2021-02-16T22:01:02.279353Z"
    }
   },
   "outputs": [],
   "source": [
    "mcm.Dumping.fillna('no', inplace = True)\n",
    "mcm.Units.fillna('4+ units', inplace = True)\n",
    "mcm.Fire.fillna('no', inplace = True)\n",
    "\n",
    "mcm.dropna(subset=['Condition'], inplace=True)\n",
    "mcm.Needs_Boarding.fillna('no', inplace=True)"
   ]
  },
  {
   "cell_type": "code",
   "execution_count": 48,
   "metadata": {
    "ExecuteTime": {
     "end_time": "2021-02-16T22:01:02.677938Z",
     "start_time": "2021-02-16T22:01:02.538156Z"
    }
   },
   "outputs": [
    {
     "name": "stdout",
     "output_type": "stream",
     "text": [
      "<class 'pandas.core.frame.DataFrame'>\n",
      "Int64Index: 247393 entries, 2 to 373176\n",
      "Data columns (total 9 columns):\n",
      "parcel_id         247393 non-null int64\n",
      "AddCombo          247393 non-null object\n",
      "Structure         247392 non-null object\n",
      "Condition         247393 non-null object\n",
      "Occupancy         247217 non-null object\n",
      "Needs_Boarding    247393 non-null object\n",
      "Fire              247393 non-null object\n",
      "Dumping           247393 non-null object\n",
      "Units             247393 non-null object\n",
      "dtypes: int64(1), object(8)\n",
      "memory usage: 18.9+ MB\n"
     ]
    }
   ],
   "source": [
    "mcm.info()"
   ]
  },
  {
   "cell_type": "code",
   "execution_count": 49,
   "metadata": {
    "ExecuteTime": {
     "end_time": "2021-02-16T22:01:02.759523Z",
     "start_time": "2021-02-16T22:01:02.683442Z"
    }
   },
   "outputs": [
    {
     "data": {
      "text/html": [
       "<div>\n",
       "<style scoped>\n",
       "    .dataframe tbody tr th:only-of-type {\n",
       "        vertical-align: middle;\n",
       "    }\n",
       "\n",
       "    .dataframe tbody tr th {\n",
       "        vertical-align: top;\n",
       "    }\n",
       "\n",
       "    .dataframe thead th {\n",
       "        text-align: right;\n",
       "    }\n",
       "</style>\n",
       "<table border=\"1\" class=\"dataframe\">\n",
       "  <thead>\n",
       "    <tr style=\"text-align: right;\">\n",
       "      <th></th>\n",
       "      <th>parcel_id</th>\n",
       "      <th>AddCombo</th>\n",
       "      <th>Structure</th>\n",
       "      <th>Condition</th>\n",
       "      <th>Occupancy</th>\n",
       "      <th>Needs_Boarding</th>\n",
       "      <th>Fire</th>\n",
       "      <th>Dumping</th>\n",
       "      <th>Units</th>\n",
       "    </tr>\n",
       "  </thead>\n",
       "  <tbody>\n",
       "    <tr>\n",
       "      <th>2</th>\n",
       "      <td>1000005</td>\n",
       "      <td>160 E JEFFERSON</td>\n",
       "      <td>yes</td>\n",
       "      <td>good</td>\n",
       "      <td>occupied</td>\n",
       "      <td>no</td>\n",
       "      <td>no</td>\n",
       "      <td>no</td>\n",
       "      <td>4+ units</td>\n",
       "    </tr>\n",
       "    <tr>\n",
       "      <th>3</th>\n",
       "      <td>1000007</td>\n",
       "      <td>110 E JEFFERSON</td>\n",
       "      <td>yes</td>\n",
       "      <td>good</td>\n",
       "      <td>occupied</td>\n",
       "      <td>no</td>\n",
       "      <td>no</td>\n",
       "      <td>no</td>\n",
       "      <td>4+ units</td>\n",
       "    </tr>\n",
       "    <tr>\n",
       "      <th>49</th>\n",
       "      <td>1004178</td>\n",
       "      <td>3100 WOODWARD AVENUE 14</td>\n",
       "      <td>yes</td>\n",
       "      <td>good</td>\n",
       "      <td>occupied</td>\n",
       "      <td>no</td>\n",
       "      <td>no</td>\n",
       "      <td>no</td>\n",
       "      <td>4+ units</td>\n",
       "    </tr>\n",
       "    <tr>\n",
       "      <th>60</th>\n",
       "      <td>1004189</td>\n",
       "      <td>3670 WOODWARD AVENUE 28/3</td>\n",
       "      <td>yes</td>\n",
       "      <td>good</td>\n",
       "      <td>occupied</td>\n",
       "      <td>no</td>\n",
       "      <td>no</td>\n",
       "      <td>no</td>\n",
       "      <td>4+ units</td>\n",
       "    </tr>\n",
       "    <tr>\n",
       "      <th>111</th>\n",
       "      <td>1001799</td>\n",
       "      <td>285 PIQUETTE</td>\n",
       "      <td>yes</td>\n",
       "      <td>good</td>\n",
       "      <td>occupied</td>\n",
       "      <td>no</td>\n",
       "      <td>no</td>\n",
       "      <td>no</td>\n",
       "      <td>4+ units</td>\n",
       "    </tr>\n",
       "  </tbody>\n",
       "</table>\n",
       "</div>"
      ],
      "text/plain": [
       "     parcel_id                   AddCombo Structure Condition Occupancy  \\\n",
       "2      1000005            160 E JEFFERSON       yes      good  occupied   \n",
       "3      1000007            110 E JEFFERSON       yes      good  occupied   \n",
       "49     1004178    3100 WOODWARD AVENUE 14       yes      good  occupied   \n",
       "60     1004189  3670 WOODWARD AVENUE 28/3       yes      good  occupied   \n",
       "111    1001799               285 PIQUETTE       yes      good  occupied   \n",
       "\n",
       "    Needs_Boarding Fire Dumping     Units  \n",
       "2               no   no      no  4+ units  \n",
       "3               no   no      no  4+ units  \n",
       "49              no   no      no  4+ units  \n",
       "60              no   no      no  4+ units  \n",
       "111             no   no      no  4+ units  "
      ]
     },
     "execution_count": 49,
     "metadata": {},
     "output_type": "execute_result"
    }
   ],
   "source": [
    "mcm.head()"
   ]
  },
  {
   "cell_type": "code",
   "execution_count": 50,
   "metadata": {
    "ExecuteTime": {
     "end_time": "2021-02-16T22:01:03.045904Z",
     "start_time": "2021-02-16T22:01:02.768986Z"
    }
   },
   "outputs": [],
   "source": [
    "df = pd.merge(blight_info, mcm, left_on='parcel_id', right_on='parcel_id', how='left')"
   ]
  },
  {
   "cell_type": "code",
   "execution_count": 51,
   "metadata": {
    "ExecuteTime": {
     "end_time": "2021-02-16T22:01:03.260194Z",
     "start_time": "2021-02-16T22:01:03.052646Z"
    }
   },
   "outputs": [
    {
     "name": "stdout",
     "output_type": "stream",
     "text": [
      "<class 'pandas.core.frame.DataFrame'>\n",
      "Int64Index: 97398 entries, 0 to 97397\n",
      "Data columns (total 17 columns):\n",
      "ticket_id          97398 non-null int64\n",
      "agency_name        97398 non-null object\n",
      "disposition        97398 non-null object\n",
      "discount_amount    97398 non-null float64\n",
      "judgment_amount    97398 non-null float64\n",
      "compliance         97398 non-null float64\n",
      "lon                97398 non-null float64\n",
      "lat                97398 non-null float64\n",
      "parcel_id          97398 non-null int64\n",
      "AddCombo           78863 non-null object\n",
      "Structure          78863 non-null object\n",
      "Condition          78863 non-null object\n",
      "Occupancy          78823 non-null object\n",
      "Needs_Boarding     78863 non-null object\n",
      "Fire               78863 non-null object\n",
      "Dumping            78863 non-null object\n",
      "Units              78863 non-null object\n",
      "dtypes: float64(5), int64(2), object(10)\n",
      "memory usage: 13.4+ MB\n"
     ]
    }
   ],
   "source": [
    "df.info()"
   ]
  },
  {
   "cell_type": "code",
   "execution_count": 52,
   "metadata": {
    "ExecuteTime": {
     "end_time": "2021-02-16T22:01:03.471210Z",
     "start_time": "2021-02-16T22:01:03.272286Z"
    }
   },
   "outputs": [],
   "source": [
    "df = df.dropna(subset= ['Units', 'Dumping', 'Fire', 'Needs_Boarding', 'Occupancy', 'Condition', 'AddCombo', 'Structure'])"
   ]
  },
  {
   "cell_type": "code",
   "execution_count": 53,
   "metadata": {
    "ExecuteTime": {
     "end_time": "2021-02-16T22:01:05.175116Z",
     "start_time": "2021-02-16T22:01:03.474741Z"
    }
   },
   "outputs": [],
   "source": [
    "df.to_csv(r'data/df.csv', index = False)"
   ]
  },
  {
   "cell_type": "code",
   "execution_count": 60,
   "metadata": {
    "ExecuteTime": {
     "end_time": "2021-02-16T22:03:37.960127Z",
     "start_time": "2021-02-16T22:03:37.899850Z"
    }
   },
   "outputs": [
    {
     "data": {
      "text/plain": [
       "good                  54535\n",
       "fair                  15898\n",
       "poor                   5773\n",
       "suggest demolition     2617\n",
       "Name: Condition, dtype: int64"
      ]
     },
     "execution_count": 60,
     "metadata": {},
     "output_type": "execute_result"
    }
   ],
   "source": [
    "df.Condition.value_counts()"
   ]
  },
  {
   "cell_type": "code",
   "execution_count": 108,
   "metadata": {
    "ExecuteTime": {
     "end_time": "2021-02-17T12:20:06.673623Z",
     "start_time": "2021-02-17T12:20:06.285441Z"
    }
   },
   "outputs": [
    {
     "name": "stdout",
     "output_type": "stream",
     "text": [
      "Condition    fair   good  poor  suggest demolition\n",
      "compliance                                        \n",
      "0.0         15002  49995  5568                2495\n",
      "1.0           896   4540   205                 122\n"
     ]
    },
    {
     "data": {
      "image/png": "[encoded data removed]",
      "text/plain": [
       "<Figure size 864x648 with 1 Axes>"
      ]
     },
     "metadata": {
      "needs_background": "light"
     },
     "output_type": "display_data"
    }
   ],
   "source": [
    "print(df.groupby(['compliance','Condition']).compliance.count().unstack())\n",
    "\n",
    "#Condition class visualization\n",
    "Condition_class = df.groupby(['compliance','Condition']).compliance.count().unstack()\n",
    "p1 = Condition_class.plot(kind = 'bar', stacked = True, \n",
    "                   title = 'Condition of the House vs Compliance', \n",
    "                   color = ['grey','lightgreen','orange','blue'], alpha = .70,figsize=[12,9])\n",
    "p1.set_xlabel('Compliance')\n",
    "p1.set_ylabel('Condition')\n",
    "#plt.savefig('image/Condition_compliance.png')\n",
    "plt.show()"
   ]
  },
  {
   "cell_type": "code",
   "execution_count": 109,
   "metadata": {
    "ExecuteTime": {
     "end_time": "2021-02-17T12:20:11.378365Z",
     "start_time": "2021-02-17T12:20:10.871312Z"
    }
   },
   "outputs": [
    {
     "name": "stdout",
     "output_type": "stream",
     "text": [
      "Fire           no   yes\n",
      "compliance             \n",
      "0.0         68976  4084\n",
      "1.0          5571   192\n"
     ]
    },
    {
     "data": {
      "image/png": "[encoded data removed]",
      "text/plain": [
       "<Figure size 864x648 with 1 Axes>"
      ]
     },
     "metadata": {
      "needs_background": "light"
     },
     "output_type": "display_data"
    }
   ],
   "source": [
    "print(df.groupby(['compliance','Fire']).Fire.count().unstack())\n",
    "\n",
    "#Fire class visualization\n",
    "Fire_class = df.groupby(['compliance','Fire']).compliance.count().unstack()\n",
    "p1 = Fire_class.plot(kind = 'bar', stacked = True, \n",
    "                   title = 'Fire at Site vs Compliance', \n",
    "                   color = ['grey','lightgreen',], alpha = .70, figsize=[12,9])\n",
    "p1.set_xlabel('Compliance')\n",
    "p1.set_ylabel('Fire at Site')\n",
    "#plt.savefig('images/Fire_Compliance.png')\n",
    "plt.show()"
   ]
  },
  {
   "cell_type": "code",
   "execution_count": 107,
   "metadata": {
    "ExecuteTime": {
     "end_time": "2021-02-17T12:18:52.873114Z",
     "start_time": "2021-02-17T12:18:52.482478Z"
    },
    "scrolled": true
   },
   "outputs": [
    {
     "name": "stdout",
     "output_type": "stream",
     "text": [
      "Occupancy   maybe  occupied  unoccupied\n",
      "compliance                             \n",
      "0.0          3987     41012       28061\n",
      "1.0           295      4025        1443\n"
     ]
    },
    {
     "data": {
      "image/png": "[encoded data removed]",
      "text/plain": [
       "<Figure size 864x648 with 1 Axes>"
      ]
     },
     "metadata": {
      "needs_background": "light"
     },
     "output_type": "display_data"
    }
   ],
   "source": [
    "print(df.groupby(['compliance','Occupancy']).compliance.count().unstack())\n",
    "\n",
    "#Condition class visualization\n",
    "Occupancy_class = df.groupby(['compliance','Occupancy']).compliance.count().unstack()\n",
    "p1 = Occupancy_class.plot(kind = 'bar', stacked = True, \n",
    "                   title = 'Occupancy vs Compliance', \n",
    "                   color = ['grey','lightgreen','orange'], alpha = .70,figsize=[12,9])\n",
    "p1.set_xlabel('Compliance')\n",
    "p1.set_ylabel('Occupancy')\n",
    "#plt.savefig('image/Occupancy_vs_compliance.png')\n",
    "plt.show()"
   ]
  },
  {
   "cell_type": "code",
   "execution_count": 144,
   "metadata": {
    "ExecuteTime": {
     "end_time": "2021-02-17T13:12:11.065541Z",
     "start_time": "2021-02-17T13:12:10.927628Z"
    }
   },
   "outputs": [
    {
     "name": "stdout",
     "output_type": "stream",
     "text": [
      "compliance           0.0     1.0\n",
      "judgment_amount                 \n",
      "0.0                  NaN    93.0\n",
      "31.1                 NaN     1.0\n",
      "50.0                 NaN     1.0\n",
      "55.0                47.0    42.0\n",
      "57.5               578.0    19.0\n",
      "80.0              1040.0   425.0\n",
      "85.0              8629.0   514.0\n",
      "130.0             1061.0   493.0\n",
      "140.0             6225.0   440.0\n",
      "155.0               25.0     9.0\n",
      "167.5              352.0    14.0\n",
      "206.0                1.0     NaN\n",
      "230.0              399.0   290.0\n",
      "250.0             4952.0   332.0\n",
      "272.0                3.0     NaN\n",
      "280.0             2345.0  1267.0\n",
      "300.0                NaN     1.0\n",
      "305.0            37820.0  1437.0\n",
      "330.0               31.0    21.0\n",
      "360.0             1522.0    32.0\n",
      "415.0               79.0     4.0\n",
      "470.0                5.0     1.0\n",
      "525.0                1.0     NaN\n",
      "530.0              111.0    81.0\n",
      "580.0             3080.0    83.0\n",
      "690.0                3.0     NaN\n",
      "774.7                1.0     NaN\n",
      "780.0                1.0     2.0\n",
      "855.0               64.0     4.0\n",
      "1030.0              39.0    38.0\n",
      "1097.0               NaN     1.0\n",
      "1130.0            2162.0    53.0\n",
      "1350.0               5.0     NaN\n",
      "1405.0               1.0     NaN\n",
      "1530.0               4.0     4.0\n",
      "1680.0              90.0     3.0\n",
      "1955.0               NaN     1.0\n",
      "2030.0               NaN     1.0\n",
      "2230.0               4.0     NaN\n",
      "2530.0              10.0     9.0\n",
      "2780.0             657.0    11.0\n",
      "3530.0              24.0    14.0\n",
      "3880.0            1553.0    22.0\n",
      "5530.0              42.0     NaN\n",
      "7730.0               6.0     NaN\n",
      "8830.0               1.0     NaN\n",
      "11030.0             87.0     NaN\n"
     ]
    },
    {
     "ename": "KeyError",
     "evalue": "'[nan, nan, nan, 3.0, nan, 5.0, nan, 3080.0, 4.0, nan, nan, 10.0, 6.0, 399.0, 1040.0, 657.0, 1553.0, 24.0, 25.0, 31.0, 1061.0, 39.0, 2345.0, 42.0, 47.0, 8629.0, 37820.0, 64.0, 578.0, 79.0, 6225.0, 87.0, 4952.0, 90.0, 352.0, 111.0, 1522.0, 2162.0] not in index'",
     "output_type": "error",
     "traceback": [
      "\u001b[0;31m---------------------------------------------------------------------------\u001b[0m",
      "\u001b[0;31mKeyError\u001b[0m                                  Traceback (most recent call last)",
      "\u001b[0;32m<ipython-input-144-28e58f0b4092>\u001b[0m in \u001b[0;36m<module>\u001b[0;34m()\u001b[0m\n\u001b[1;32m      2\u001b[0m \u001b[0;34m\u001b[0m\u001b[0m\n\u001b[1;32m      3\u001b[0m \u001b[0mJmnt\u001b[0m \u001b[0;34m=\u001b[0m \u001b[0mdf\u001b[0m\u001b[0;34m.\u001b[0m\u001b[0mgroupby\u001b[0m\u001b[0;34m(\u001b[0m\u001b[0;34m[\u001b[0m\u001b[0;34m'judgment_amount'\u001b[0m\u001b[0;34m,\u001b[0m\u001b[0;34m'compliance'\u001b[0m\u001b[0;34m]\u001b[0m\u001b[0;34m)\u001b[0m\u001b[0;34m.\u001b[0m\u001b[0mjudgment_amount\u001b[0m\u001b[0;34m.\u001b[0m\u001b[0mcount\u001b[0m\u001b[0;34m(\u001b[0m\u001b[0;34m)\u001b[0m\u001b[0;34m.\u001b[0m\u001b[0munstack\u001b[0m\u001b[0;34m(\u001b[0m\u001b[0;34m)\u001b[0m\u001b[0;34m\u001b[0m\u001b[0;34m\u001b[0m\u001b[0m\n\u001b[0;32m----> 4\u001b[0;31m \u001b[0mp1\u001b[0m \u001b[0;34m=\u001b[0m \u001b[0mJmnt\u001b[0m\u001b[0;34m.\u001b[0m\u001b[0mplot\u001b[0m\u001b[0;34m(\u001b[0m\u001b[0mkind\u001b[0m \u001b[0;34m=\u001b[0m \u001b[0;34m'scatter'\u001b[0m\u001b[0;34m,\u001b[0m \u001b[0mx\u001b[0m\u001b[0;34m=\u001b[0m\u001b[0mJmnt\u001b[0m\u001b[0;34m[\u001b[0m\u001b[0;36m0\u001b[0m\u001b[0;34m]\u001b[0m\u001b[0;34m,\u001b[0m\u001b[0my\u001b[0m\u001b[0;34m=\u001b[0m\u001b[0mJmnt\u001b[0m\u001b[0;34m[\u001b[0m\u001b[0;36m1\u001b[0m\u001b[0;34m]\u001b[0m\u001b[0;34m,\u001b[0m \u001b[0malpha\u001b[0m \u001b[0;34m=\u001b[0m \u001b[0;36m.70\u001b[0m\u001b[0;34m)\u001b[0m\u001b[0;34m\u001b[0m\u001b[0;34m\u001b[0m\u001b[0m\n\u001b[0m\u001b[1;32m      5\u001b[0m \u001b[0mp1\u001b[0m\u001b[0;34m.\u001b[0m\u001b[0mset_xlabel\u001b[0m\u001b[0;34m(\u001b[0m\u001b[0;34m'Judgement Amount'\u001b[0m\u001b[0;34m)\u001b[0m\u001b[0;34m\u001b[0m\u001b[0;34m\u001b[0m\u001b[0m\n\u001b[1;32m      6\u001b[0m \u001b[0mp1\u001b[0m\u001b[0;34m.\u001b[0m\u001b[0mset_ylabel\u001b[0m\u001b[0;34m(\u001b[0m\u001b[0;34m'Number okf tickets'\u001b[0m\u001b[0;34m)\u001b[0m\u001b[0;34m\u001b[0m\u001b[0;34m\u001b[0m\u001b[0m\n",
      "\u001b[0;32m/Users/kelvinarellano/opt/anaconda3/envs/learn-env/lib/python3.6/site-packages/pandas/plotting/_core.py\u001b[0m in \u001b[0;36m__call__\u001b[0;34m(self, *args, **kwargs)\u001b[0m\n\u001b[1;32m    736\u001b[0m         \u001b[0;32mif\u001b[0m \u001b[0mkind\u001b[0m \u001b[0;32min\u001b[0m \u001b[0mself\u001b[0m\u001b[0;34m.\u001b[0m\u001b[0m_dataframe_kinds\u001b[0m\u001b[0;34m:\u001b[0m\u001b[0;34m\u001b[0m\u001b[0;34m\u001b[0m\u001b[0m\n\u001b[1;32m    737\u001b[0m             \u001b[0;32mif\u001b[0m \u001b[0misinstance\u001b[0m\u001b[0;34m(\u001b[0m\u001b[0mdata\u001b[0m\u001b[0;34m,\u001b[0m \u001b[0mABCDataFrame\u001b[0m\u001b[0;34m)\u001b[0m\u001b[0;34m:\u001b[0m\u001b[0;34m\u001b[0m\u001b[0;34m\u001b[0m\u001b[0m\n\u001b[0;32m--> 738\u001b[0;31m                 \u001b[0;32mreturn\u001b[0m \u001b[0mplot_backend\u001b[0m\u001b[0;34m.\u001b[0m\u001b[0mplot\u001b[0m\u001b[0;34m(\u001b[0m\u001b[0mdata\u001b[0m\u001b[0;34m,\u001b[0m \u001b[0mx\u001b[0m\u001b[0;34m=\u001b[0m\u001b[0mx\u001b[0m\u001b[0;34m,\u001b[0m \u001b[0my\u001b[0m\u001b[0;34m=\u001b[0m\u001b[0my\u001b[0m\u001b[0;34m,\u001b[0m \u001b[0mkind\u001b[0m\u001b[0;34m=\u001b[0m\u001b[0mkind\u001b[0m\u001b[0;34m,\u001b[0m \u001b[0;34m**\u001b[0m\u001b[0mkwargs\u001b[0m\u001b[0;34m)\u001b[0m\u001b[0;34m\u001b[0m\u001b[0;34m\u001b[0m\u001b[0m\n\u001b[0m\u001b[1;32m    739\u001b[0m             \u001b[0;32melse\u001b[0m\u001b[0;34m:\u001b[0m\u001b[0;34m\u001b[0m\u001b[0;34m\u001b[0m\u001b[0m\n\u001b[1;32m    740\u001b[0m                 raise ValueError(\n",
      "\u001b[0;32m/Users/kelvinarellano/opt/anaconda3/envs/learn-env/lib/python3.6/site-packages/pandas/plotting/_matplotlib/__init__.py\u001b[0m in \u001b[0;36mplot\u001b[0;34m(data, kind, **kwargs)\u001b[0m\n\u001b[1;32m     59\u001b[0m                 \u001b[0max\u001b[0m \u001b[0;34m=\u001b[0m \u001b[0mplt\u001b[0m\u001b[0;34m.\u001b[0m\u001b[0mgca\u001b[0m\u001b[0;34m(\u001b[0m\u001b[0;34m)\u001b[0m\u001b[0;34m\u001b[0m\u001b[0;34m\u001b[0m\u001b[0m\n\u001b[1;32m     60\u001b[0m             \u001b[0mkwargs\u001b[0m\u001b[0;34m[\u001b[0m\u001b[0;34m\"ax\"\u001b[0m\u001b[0;34m]\u001b[0m \u001b[0;34m=\u001b[0m \u001b[0mgetattr\u001b[0m\u001b[0;34m(\u001b[0m\u001b[0max\u001b[0m\u001b[0;34m,\u001b[0m \u001b[0;34m\"left_ax\"\u001b[0m\u001b[0;34m,\u001b[0m \u001b[0max\u001b[0m\u001b[0;34m)\u001b[0m\u001b[0;34m\u001b[0m\u001b[0;34m\u001b[0m\u001b[0m\n\u001b[0;32m---> 61\u001b[0;31m     \u001b[0mplot_obj\u001b[0m \u001b[0;34m=\u001b[0m \u001b[0mPLOT_CLASSES\u001b[0m\u001b[0;34m[\u001b[0m\u001b[0mkind\u001b[0m\u001b[0;34m]\u001b[0m\u001b[0;34m(\u001b[0m\u001b[0mdata\u001b[0m\u001b[0;34m,\u001b[0m \u001b[0;34m**\u001b[0m\u001b[0mkwargs\u001b[0m\u001b[0;34m)\u001b[0m\u001b[0;34m\u001b[0m\u001b[0;34m\u001b[0m\u001b[0m\n\u001b[0m\u001b[1;32m     62\u001b[0m     \u001b[0mplot_obj\u001b[0m\u001b[0;34m.\u001b[0m\u001b[0mgenerate\u001b[0m\u001b[0;34m(\u001b[0m\u001b[0;34m)\u001b[0m\u001b[0;34m\u001b[0m\u001b[0;34m\u001b[0m\u001b[0m\n\u001b[1;32m     63\u001b[0m     \u001b[0mplot_obj\u001b[0m\u001b[0;34m.\u001b[0m\u001b[0mdraw\u001b[0m\u001b[0;34m(\u001b[0m\u001b[0;34m)\u001b[0m\u001b[0;34m\u001b[0m\u001b[0;34m\u001b[0m\u001b[0m\n",
      "\u001b[0;32m/Users/kelvinarellano/opt/anaconda3/envs/learn-env/lib/python3.6/site-packages/pandas/plotting/_matplotlib/core.py\u001b[0m in \u001b[0;36m__init__\u001b[0;34m(self, data, x, y, s, c, **kwargs)\u001b[0m\n\u001b[1;32m    928\u001b[0m             \u001b[0;31m# the handling of this argument later\u001b[0m\u001b[0;34m\u001b[0m\u001b[0;34m\u001b[0m\u001b[0;34m\u001b[0m\u001b[0m\n\u001b[1;32m    929\u001b[0m             \u001b[0ms\u001b[0m \u001b[0;34m=\u001b[0m \u001b[0;36m20\u001b[0m\u001b[0;34m\u001b[0m\u001b[0;34m\u001b[0m\u001b[0m\n\u001b[0;32m--> 930\u001b[0;31m         \u001b[0msuper\u001b[0m\u001b[0;34m(\u001b[0m\u001b[0;34m)\u001b[0m\u001b[0;34m.\u001b[0m\u001b[0m__init__\u001b[0m\u001b[0;34m(\u001b[0m\u001b[0mdata\u001b[0m\u001b[0;34m,\u001b[0m \u001b[0mx\u001b[0m\u001b[0;34m,\u001b[0m \u001b[0my\u001b[0m\u001b[0;34m,\u001b[0m \u001b[0ms\u001b[0m\u001b[0;34m=\u001b[0m\u001b[0ms\u001b[0m\u001b[0;34m,\u001b[0m \u001b[0;34m**\u001b[0m\u001b[0mkwargs\u001b[0m\u001b[0;34m)\u001b[0m\u001b[0;34m\u001b[0m\u001b[0;34m\u001b[0m\u001b[0m\n\u001b[0m\u001b[1;32m    931\u001b[0m         \u001b[0;32mif\u001b[0m \u001b[0mis_integer\u001b[0m\u001b[0;34m(\u001b[0m\u001b[0mc\u001b[0m\u001b[0;34m)\u001b[0m \u001b[0;32mand\u001b[0m \u001b[0;32mnot\u001b[0m \u001b[0mself\u001b[0m\u001b[0;34m.\u001b[0m\u001b[0mdata\u001b[0m\u001b[0;34m.\u001b[0m\u001b[0mcolumns\u001b[0m\u001b[0;34m.\u001b[0m\u001b[0mholds_integer\u001b[0m\u001b[0;34m(\u001b[0m\u001b[0;34m)\u001b[0m\u001b[0;34m:\u001b[0m\u001b[0;34m\u001b[0m\u001b[0;34m\u001b[0m\u001b[0m\n\u001b[1;32m    932\u001b[0m             \u001b[0mc\u001b[0m \u001b[0;34m=\u001b[0m \u001b[0mself\u001b[0m\u001b[0;34m.\u001b[0m\u001b[0mdata\u001b[0m\u001b[0;34m.\u001b[0m\u001b[0mcolumns\u001b[0m\u001b[0;34m[\u001b[0m\u001b[0mc\u001b[0m\u001b[0;34m]\u001b[0m\u001b[0;34m\u001b[0m\u001b[0;34m\u001b[0m\u001b[0m\n",
      "\u001b[0;32m/Users/kelvinarellano/opt/anaconda3/envs/learn-env/lib/python3.6/site-packages/pandas/plotting/_matplotlib/core.py\u001b[0m in \u001b[0;36m__init__\u001b[0;34m(self, data, x, y, **kwargs)\u001b[0m\n\u001b[1;32m    867\u001b[0m         \u001b[0;32mif\u001b[0m \u001b[0mis_integer\u001b[0m\u001b[0;34m(\u001b[0m\u001b[0my\u001b[0m\u001b[0;34m)\u001b[0m \u001b[0;32mand\u001b[0m \u001b[0;32mnot\u001b[0m \u001b[0mself\u001b[0m\u001b[0;34m.\u001b[0m\u001b[0mdata\u001b[0m\u001b[0;34m.\u001b[0m\u001b[0mcolumns\u001b[0m\u001b[0;34m.\u001b[0m\u001b[0mholds_integer\u001b[0m\u001b[0;34m(\u001b[0m\u001b[0;34m)\u001b[0m\u001b[0;34m:\u001b[0m\u001b[0;34m\u001b[0m\u001b[0;34m\u001b[0m\u001b[0m\n\u001b[1;32m    868\u001b[0m             \u001b[0my\u001b[0m \u001b[0;34m=\u001b[0m \u001b[0mself\u001b[0m\u001b[0;34m.\u001b[0m\u001b[0mdata\u001b[0m\u001b[0;34m.\u001b[0m\u001b[0mcolumns\u001b[0m\u001b[0;34m[\u001b[0m\u001b[0my\u001b[0m\u001b[0;34m]\u001b[0m\u001b[0;34m\u001b[0m\u001b[0;34m\u001b[0m\u001b[0m\n\u001b[0;32m--> 869\u001b[0;31m         \u001b[0;32mif\u001b[0m \u001b[0mlen\u001b[0m\u001b[0;34m(\u001b[0m\u001b[0mself\u001b[0m\u001b[0;34m.\u001b[0m\u001b[0mdata\u001b[0m\u001b[0;34m[\u001b[0m\u001b[0mx\u001b[0m\u001b[0;34m]\u001b[0m\u001b[0;34m.\u001b[0m\u001b[0m_get_numeric_data\u001b[0m\u001b[0;34m(\u001b[0m\u001b[0;34m)\u001b[0m\u001b[0;34m)\u001b[0m \u001b[0;34m==\u001b[0m \u001b[0;36m0\u001b[0m\u001b[0;34m:\u001b[0m\u001b[0;34m\u001b[0m\u001b[0;34m\u001b[0m\u001b[0m\n\u001b[0m\u001b[1;32m    870\u001b[0m             \u001b[0;32mraise\u001b[0m \u001b[0mValueError\u001b[0m\u001b[0;34m(\u001b[0m\u001b[0mself\u001b[0m\u001b[0;34m.\u001b[0m\u001b[0m_kind\u001b[0m \u001b[0;34m+\u001b[0m \u001b[0;34m\" requires x column to be numeric\"\u001b[0m\u001b[0;34m)\u001b[0m\u001b[0;34m\u001b[0m\u001b[0;34m\u001b[0m\u001b[0m\n\u001b[1;32m    871\u001b[0m         \u001b[0;32mif\u001b[0m \u001b[0mlen\u001b[0m\u001b[0;34m(\u001b[0m\u001b[0mself\u001b[0m\u001b[0;34m.\u001b[0m\u001b[0mdata\u001b[0m\u001b[0;34m[\u001b[0m\u001b[0my\u001b[0m\u001b[0;34m]\u001b[0m\u001b[0;34m.\u001b[0m\u001b[0m_get_numeric_data\u001b[0m\u001b[0;34m(\u001b[0m\u001b[0;34m)\u001b[0m\u001b[0;34m)\u001b[0m \u001b[0;34m==\u001b[0m \u001b[0;36m0\u001b[0m\u001b[0;34m:\u001b[0m\u001b[0;34m\u001b[0m\u001b[0;34m\u001b[0m\u001b[0m\n",
      "\u001b[0;32m/Users/kelvinarellano/opt/anaconda3/envs/learn-env/lib/python3.6/site-packages/pandas/core/frame.py\u001b[0m in \u001b[0;36m__getitem__\u001b[0;34m(self, key)\u001b[0m\n\u001b[1;32m   2999\u001b[0m             \u001b[0;32mif\u001b[0m \u001b[0mis_iterator\u001b[0m\u001b[0;34m(\u001b[0m\u001b[0mkey\u001b[0m\u001b[0;34m)\u001b[0m\u001b[0;34m:\u001b[0m\u001b[0;34m\u001b[0m\u001b[0;34m\u001b[0m\u001b[0m\n\u001b[1;32m   3000\u001b[0m                 \u001b[0mkey\u001b[0m \u001b[0;34m=\u001b[0m \u001b[0mlist\u001b[0m\u001b[0;34m(\u001b[0m\u001b[0mkey\u001b[0m\u001b[0;34m)\u001b[0m\u001b[0;34m\u001b[0m\u001b[0;34m\u001b[0m\u001b[0m\n\u001b[0;32m-> 3001\u001b[0;31m             \u001b[0mindexer\u001b[0m \u001b[0;34m=\u001b[0m \u001b[0mself\u001b[0m\u001b[0;34m.\u001b[0m\u001b[0mloc\u001b[0m\u001b[0;34m.\u001b[0m\u001b[0m_convert_to_indexer\u001b[0m\u001b[0;34m(\u001b[0m\u001b[0mkey\u001b[0m\u001b[0;34m,\u001b[0m \u001b[0maxis\u001b[0m\u001b[0;34m=\u001b[0m\u001b[0;36m1\u001b[0m\u001b[0;34m,\u001b[0m \u001b[0mraise_missing\u001b[0m\u001b[0;34m=\u001b[0m\u001b[0;32mTrue\u001b[0m\u001b[0;34m)\u001b[0m\u001b[0;34m\u001b[0m\u001b[0;34m\u001b[0m\u001b[0m\n\u001b[0m\u001b[1;32m   3002\u001b[0m \u001b[0;34m\u001b[0m\u001b[0m\n\u001b[1;32m   3003\u001b[0m         \u001b[0;31m# take() does not accept boolean indexers\u001b[0m\u001b[0;34m\u001b[0m\u001b[0;34m\u001b[0m\u001b[0;34m\u001b[0m\u001b[0m\n",
      "\u001b[0;32m/Users/kelvinarellano/opt/anaconda3/envs/learn-env/lib/python3.6/site-packages/pandas/core/indexing.py\u001b[0m in \u001b[0;36m_convert_to_indexer\u001b[0;34m(self, obj, axis, is_setter, raise_missing)\u001b[0m\n\u001b[1;32m   1283\u001b[0m                 \u001b[0;31m# When setting, missing keys are not allowed, even with .loc:\u001b[0m\u001b[0;34m\u001b[0m\u001b[0;34m\u001b[0m\u001b[0;34m\u001b[0m\u001b[0m\n\u001b[1;32m   1284\u001b[0m                 \u001b[0mkwargs\u001b[0m \u001b[0;34m=\u001b[0m \u001b[0;34m{\u001b[0m\u001b[0;34m\"raise_missing\"\u001b[0m\u001b[0;34m:\u001b[0m \u001b[0;32mTrue\u001b[0m \u001b[0;32mif\u001b[0m \u001b[0mis_setter\u001b[0m \u001b[0;32melse\u001b[0m \u001b[0mraise_missing\u001b[0m\u001b[0;34m}\u001b[0m\u001b[0;34m\u001b[0m\u001b[0;34m\u001b[0m\u001b[0m\n\u001b[0;32m-> 1285\u001b[0;31m                 \u001b[0;32mreturn\u001b[0m \u001b[0mself\u001b[0m\u001b[0;34m.\u001b[0m\u001b[0m_get_listlike_indexer\u001b[0m\u001b[0;34m(\u001b[0m\u001b[0mobj\u001b[0m\u001b[0;34m,\u001b[0m \u001b[0maxis\u001b[0m\u001b[0;34m,\u001b[0m \u001b[0;34m**\u001b[0m\u001b[0mkwargs\u001b[0m\u001b[0;34m)\u001b[0m\u001b[0;34m[\u001b[0m\u001b[0;36m1\u001b[0m\u001b[0;34m]\u001b[0m\u001b[0;34m\u001b[0m\u001b[0;34m\u001b[0m\u001b[0m\n\u001b[0m\u001b[1;32m   1286\u001b[0m         \u001b[0;32melse\u001b[0m\u001b[0;34m:\u001b[0m\u001b[0;34m\u001b[0m\u001b[0;34m\u001b[0m\u001b[0m\n\u001b[1;32m   1287\u001b[0m             \u001b[0;32mtry\u001b[0m\u001b[0;34m:\u001b[0m\u001b[0;34m\u001b[0m\u001b[0;34m\u001b[0m\u001b[0m\n",
      "\u001b[0;32m/Users/kelvinarellano/opt/anaconda3/envs/learn-env/lib/python3.6/site-packages/pandas/core/indexing.py\u001b[0m in \u001b[0;36m_get_listlike_indexer\u001b[0;34m(self, key, axis, raise_missing)\u001b[0m\n\u001b[1;32m   1090\u001b[0m \u001b[0;34m\u001b[0m\u001b[0m\n\u001b[1;32m   1091\u001b[0m         self._validate_read_indexer(\n\u001b[0;32m-> 1092\u001b[0;31m             \u001b[0mkeyarr\u001b[0m\u001b[0;34m,\u001b[0m \u001b[0mindexer\u001b[0m\u001b[0;34m,\u001b[0m \u001b[0mo\u001b[0m\u001b[0;34m.\u001b[0m\u001b[0m_get_axis_number\u001b[0m\u001b[0;34m(\u001b[0m\u001b[0maxis\u001b[0m\u001b[0;34m)\u001b[0m\u001b[0;34m,\u001b[0m \u001b[0mraise_missing\u001b[0m\u001b[0;34m=\u001b[0m\u001b[0mraise_missing\u001b[0m\u001b[0;34m\u001b[0m\u001b[0;34m\u001b[0m\u001b[0m\n\u001b[0m\u001b[1;32m   1093\u001b[0m         )\n\u001b[1;32m   1094\u001b[0m         \u001b[0;32mreturn\u001b[0m \u001b[0mkeyarr\u001b[0m\u001b[0;34m,\u001b[0m \u001b[0mindexer\u001b[0m\u001b[0;34m\u001b[0m\u001b[0;34m\u001b[0m\u001b[0m\n",
      "\u001b[0;32m/Users/kelvinarellano/opt/anaconda3/envs/learn-env/lib/python3.6/site-packages/pandas/core/indexing.py\u001b[0m in \u001b[0;36m_validate_read_indexer\u001b[0;34m(self, key, indexer, axis, raise_missing)\u001b[0m\n\u001b[1;32m   1183\u001b[0m             \u001b[0;32mif\u001b[0m \u001b[0;32mnot\u001b[0m \u001b[0;34m(\u001b[0m\u001b[0mself\u001b[0m\u001b[0;34m.\u001b[0m\u001b[0mname\u001b[0m \u001b[0;34m==\u001b[0m \u001b[0;34m\"loc\"\u001b[0m \u001b[0;32mand\u001b[0m \u001b[0;32mnot\u001b[0m \u001b[0mraise_missing\u001b[0m\u001b[0;34m)\u001b[0m\u001b[0;34m:\u001b[0m\u001b[0;34m\u001b[0m\u001b[0;34m\u001b[0m\u001b[0m\n\u001b[1;32m   1184\u001b[0m                 \u001b[0mnot_found\u001b[0m \u001b[0;34m=\u001b[0m \u001b[0mlist\u001b[0m\u001b[0;34m(\u001b[0m\u001b[0mset\u001b[0m\u001b[0;34m(\u001b[0m\u001b[0mkey\u001b[0m\u001b[0;34m)\u001b[0m \u001b[0;34m-\u001b[0m \u001b[0mset\u001b[0m\u001b[0;34m(\u001b[0m\u001b[0max\u001b[0m\u001b[0;34m)\u001b[0m\u001b[0;34m)\u001b[0m\u001b[0;34m\u001b[0m\u001b[0;34m\u001b[0m\u001b[0m\n\u001b[0;32m-> 1185\u001b[0;31m                 \u001b[0;32mraise\u001b[0m \u001b[0mKeyError\u001b[0m\u001b[0;34m(\u001b[0m\u001b[0;34m\"{} not in index\"\u001b[0m\u001b[0;34m.\u001b[0m\u001b[0mformat\u001b[0m\u001b[0;34m(\u001b[0m\u001b[0mnot_found\u001b[0m\u001b[0;34m)\u001b[0m\u001b[0;34m)\u001b[0m\u001b[0;34m\u001b[0m\u001b[0;34m\u001b[0m\u001b[0m\n\u001b[0m\u001b[1;32m   1186\u001b[0m \u001b[0;34m\u001b[0m\u001b[0m\n\u001b[1;32m   1187\u001b[0m             \u001b[0;31m# we skip the warning on Categorical/Interval\u001b[0m\u001b[0;34m\u001b[0m\u001b[0;34m\u001b[0m\u001b[0;34m\u001b[0m\u001b[0m\n",
      "\u001b[0;31mKeyError\u001b[0m: '[nan, nan, nan, 3.0, nan, 5.0, nan, 3080.0, 4.0, nan, nan, 10.0, 6.0, 399.0, 1040.0, 657.0, 1553.0, 24.0, 25.0, 31.0, 1061.0, 39.0, 2345.0, 42.0, 47.0, 8629.0, 37820.0, 64.0, 578.0, 79.0, 6225.0, 87.0, 4952.0, 90.0, 352.0, 111.0, 1522.0, 2162.0] not in index'"
     ]
    }
   ],
   "source": [
    "print(df.groupby(['judgment_amount','compliance']).judgment_amount.count().unstack())\n",
    "\n",
    "Jmnt = df.groupby(['judgment_amount','compliance']).judgment_amount.count().unstack()\n",
    "p1 = Jmnt.plot(kind = 'scatter', x=Jmnt[0],y=Jmnt[1], alpha = .70)\n",
    "p1.set_xlabel('Judgement Amount')\n",
    "p1.set_ylabel('Number okf tickets')\n",
    "plt.show()\n"
   ]
  },
  {
   "cell_type": "code",
   "execution_count": null,
   "metadata": {},
   "outputs": [],
   "source": []
  }
 ],
 "metadata": {
  "kernelspec": {
   "display_name": "Python 3",
   "language": "python",
   "name": "python3"
  },
  "language_info": {
   "codemirror_mode": {
    "name": "ipython",
    "version": 3
   },
   "file_extension": ".py",
   "mimetype": "text/x-python",
   "name": "python",
   "nbconvert_exporter": "python",
   "pygments_lexer": "ipython3",
   "version": "3.6.9"
  },
  "toc": {
   "base_numbering": 1,
   "nav_menu": {},
   "number_sections": true,
   "sideBar": true,
   "skip_h1_title": false,
   "title_cell": "Table of Contents",
   "title_sidebar": "Contents",
   "toc_cell": false,
   "toc_position": {},
   "toc_section_display": true,
   "toc_window_display": false
  }
 },
 "nbformat": 4,
 "nbformat_minor": 4
}
