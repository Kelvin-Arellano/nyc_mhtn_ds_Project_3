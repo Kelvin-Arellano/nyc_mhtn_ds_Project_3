{
 "cells": [
  {
   "cell_type": "code",
   "execution_count": 264,
   "metadata": {
    "ExecuteTime": {
     "end_time": "2021-02-16T17:12:52.716758Z",
     "start_time": "2021-02-16T17:12:52.553845Z"
    }
   },
   "outputs": [],
   "source": [
    "import sqlite3\n",
    "import requests\n",
    "import json\n",
    "import pandas as pd\n",
    "import matplotlib.pyplot as plt\n",
    "import seaborn as sns\n",
    "import datetime\n",
    "import numpy as np\n",
    "from geopy.distance import distance\n",
    "import re\n",
    "# from  keys  import  client_id, api_key\n",
    "import folium"
   ]
  },
  {
   "cell_type": "code",
   "execution_count": 265,
   "metadata": {
    "ExecuteTime": {
     "end_time": "2021-02-16T17:12:58.625073Z",
     "start_time": "2021-02-16T17:12:58.574242Z"
    }
   },
   "outputs": [],
   "source": [
    "pd.set_option('display.max_rows', 200)"
   ]
  },
  {
   "cell_type": "code",
   "execution_count": 266,
   "metadata": {
    "ExecuteTime": {
     "end_time": "2021-02-16T17:13:01.815032Z",
     "start_time": "2021-02-16T17:13:01.763803Z"
    }
   },
   "outputs": [
    {
     "name": "stdout",
     "output_type": "stream",
     "text": [
      "The autoreload extension is already loaded. To reload it, use:\n",
      "  %reload_ext autoreload\n"
     ]
    }
   ],
   "source": [
    "from cleaning_utils import *\n",
    "%load_ext autoreload\n",
    "%autoreload 2"
   ]
  },
  {
   "cell_type": "code",
   "execution_count": 267,
   "metadata": {
    "ExecuteTime": {
     "end_time": "2021-02-16T17:13:08.893155Z",
     "start_time": "2021-02-16T17:13:03.579759Z"
    }
   },
   "outputs": [
    {
     "name": "stderr",
     "output_type": "stream",
     "text": [
      "/Users/kelvinarellano/opt/anaconda3/envs/learn-env/lib/python3.6/site-packages/IPython/core/interactiveshell.py:2714: DtypeWarning: Columns (9,11,15,16,17,30) have mixed types. Specify dtype option on import or set low_memory=False.\n",
      "  interactivity=interactivity, compiler=compiler, result=result)\n"
     ]
    }
   ],
   "source": [
    "blight = pd.read_csv('../data/Blight_Violations.csv')"
   ]
  },
  {
   "cell_type": "code",
   "execution_count": 268,
   "metadata": {
    "ExecuteTime": {
     "end_time": "2021-02-16T17:13:09.562726Z",
     "start_time": "2021-02-16T17:13:08.896853Z"
    },
    "scrolled": true
   },
   "outputs": [
    {
     "name": "stdout",
     "output_type": "stream",
     "text": [
      "<class 'pandas.core.frame.DataFrame'>\n",
      "RangeIndex: 496335 entries, 0 to 496334\n",
      "Data columns (total 36 columns):\n",
      "X                             306227 non-null float64\n",
      "Y                             306227 non-null float64\n",
      "ticket_id                     496335 non-null int64\n",
      "ticket_number                 496335 non-null object\n",
      "agency_name                   496335 non-null object\n",
      "inspector_name                496335 non-null object\n",
      "violator_name                 496333 non-null object\n",
      "violation_street_number       496335 non-null int64\n",
      "violation_street_name         496270 non-null object\n",
      "violation_zip_code            154162 non-null object\n",
      "violator_id                   496335 non-null int64\n",
      "mailing_address_str_number    496329 non-null object\n",
      "mailing_address_str_name      496325 non-null object\n",
      "city                          493079 non-null object\n",
      "state                         492616 non-null object\n",
      "zip_code                      493076 non-null object\n",
      "non_us_str_code               3259 non-null object\n",
      "country                       3270 non-null object\n",
      "violation_date                496335 non-null object\n",
      "ticket_issued_time            496335 non-null object\n",
      "hearing_date                  496335 non-null object\n",
      "hearing_time                  496323 non-null object\n",
      "judgment_date                 496335 non-null object\n",
      "violation_code                496333 non-null object\n",
      "violation_description         496333 non-null object\n",
      "disposition                   496335 non-null object\n",
      "clean_up_cost                 0 non-null float64\n",
      "payment_amount                0 non-null float64\n",
      "payment_date                  496335 non-null object\n",
      "payment_status                316728 non-null object\n",
      "collection_status             73200 non-null object\n",
      "violation_address             496335 non-null object\n",
      "parcelno                      306227 non-null object\n",
      "oid                           496335 non-null int64\n",
      "geom                          0 non-null float64\n",
      "fine_amount                   0 non-null float64\n",
      "dtypes: float64(6), int64(4), object(26)\n",
      "memory usage: 136.3+ MB\n"
     ]
    }
   ],
   "source": [
    "blight.info()"
   ]
  },
  {
   "cell_type": "code",
   "execution_count": 269,
   "metadata": {
    "ExecuteTime": {
     "end_time": "2021-02-16T17:13:18.480527Z",
     "start_time": "2021-02-16T17:13:14.837753Z"
    },
    "scrolled": true
   },
   "outputs": [
    {
     "name": "stderr",
     "output_type": "stream",
     "text": [
      "/Users/kelvinarellano/opt/anaconda3/envs/learn-env/lib/python3.6/site-packages/IPython/core/interactiveshell.py:2714: DtypeWarning: Columns (4) have mixed types. Specify dtype option on import or set low_memory=False.\n",
      "  interactivity=interactivity, compiler=compiler, result=result)\n"
     ]
    }
   ],
   "source": [
    "MCM = pd.read_csv('../data/Motor_City_Mapping,_Winter_2013-14_Certified_Results.csv')"
   ]
  },
  {
   "cell_type": "code",
   "execution_count": 270,
   "metadata": {
    "ExecuteTime": {
     "end_time": "2021-02-16T17:13:19.018160Z",
     "start_time": "2021-02-16T17:13:18.486360Z"
    }
   },
   "outputs": [
    {
     "name": "stdout",
     "output_type": "stream",
     "text": [
      "<class 'pandas.core.frame.DataFrame'>\n",
      "RangeIndex: 379549 entries, 0 to 379548\n",
      "Data columns (total 33 columns):\n",
      "OBJECTID             379549 non-null int64\n",
      "D3_SurveyParcelID    379549 non-null object\n",
      "CityParcelID2013     379549 non-null object\n",
      "AddCombo             379549 non-null object\n",
      "Address_Number       379549 non-null object\n",
      "Address_Direction    379549 non-null object\n",
      "Street               379549 non-null object\n",
      "Zip                  379549 non-null object\n",
      "PCount               379549 non-null int64\n",
      "Blext_ID             377209 non-null float64\n",
      "User_ID              373229 non-null float64\n",
      "Reviewer_ID          359568 non-null float64\n",
      "Time_Surveyed        379549 non-null object\n",
      "Updated_At           379549 non-null object\n",
      "Status               373229 non-null float64\n",
      "Photo_URL            373217 non-null object\n",
      "Structure            373227 non-null object\n",
      "Use_                 373223 non-null object\n",
      "Condition            261355 non-null object\n",
      "Occupancy            261202 non-null object\n",
      "Needs_Boarding       261271 non-null object\n",
      "Fire                 261284 non-null object\n",
      "Dumping              373169 non-null object\n",
      "Units                245276 non-null object\n",
      "Improved             112058 non-null object\n",
      "Maintained           112005 non-null object\n",
      "PublicUse            7351 non-null object\n",
      "Notes                31790 non-null object\n",
      "GEOID10_Tract        379549 non-null int64\n",
      "NAMELSAD10_Tract     379549 non-null object\n",
      "GEOID10_Block        379549 non-null int64\n",
      "NAME10_Block         379549 non-null object\n",
      "GeoID10_BG           379549 non-null int64\n",
      "dtypes: float64(4), int64(5), object(24)\n",
      "memory usage: 95.6+ MB\n"
     ]
    }
   ],
   "source": [
    "MCM.info()"
   ]
  },
  {
   "cell_type": "code",
   "execution_count": 271,
   "metadata": {
    "ExecuteTime": {
     "end_time": "2021-02-16T17:13:20.820632Z",
     "start_time": "2021-02-16T17:13:20.549925Z"
    }
   },
   "outputs": [],
   "source": [
    "MCM['CityParcelID2013'] = [x[:7] for x in MCM.CityParcelID2013]\n",
    "MCM['D3_SurveyParcelID'] = [x[:7] for x in MCM.D3_SurveyParcelID]"
   ]
  },
  {
   "cell_type": "code",
   "execution_count": 272,
   "metadata": {
    "ExecuteTime": {
     "end_time": "2021-02-16T17:13:30.969277Z",
     "start_time": "2021-02-16T17:13:30.728903Z"
    }
   },
   "outputs": [],
   "source": [
    "\n",
    "MCM.drop(['GeoID10_BG','NAME10_Block','GEOID10_Block','Notes','Photo_URL','Time_Surveyed','Reviewer_ID','User_ID','Blext_ID','PCount','OBJECTID'], axis=1, inplace = True)"
   ]
  },
  {
   "cell_type": "code",
   "execution_count": 273,
   "metadata": {
    "ExecuteTime": {
     "end_time": "2021-02-16T17:13:31.601190Z",
     "start_time": "2021-02-16T17:13:31.455965Z"
    }
   },
   "outputs": [],
   "source": [
    "MCM.drop(['GEOID10_Tract','Updated_At'], axis=1, inplace = True)"
   ]
  },
  {
   "cell_type": "code",
   "execution_count": 274,
   "metadata": {
    "ExecuteTime": {
     "end_time": "2021-02-16T17:13:34.141843Z",
     "start_time": "2021-02-16T17:13:33.881017Z"
    }
   },
   "outputs": [],
   "source": [
    "blight = blight[blight.payment_status == 'PAID IN FULL']"
   ]
  },
  {
   "cell_type": "code",
   "execution_count": 275,
   "metadata": {
    "ExecuteTime": {
     "end_time": "2021-02-16T17:13:35.758042Z",
     "start_time": "2021-02-16T17:13:35.670222Z"
    }
   },
   "outputs": [],
   "source": [
    "columns_to_drop = [\n",
    "                 \n",
    "                 'ticket_number',\n",
    "                 'agency_name',\n",
    "                 'inspector_name',\n",
    "                 'violator_name',\n",
    "                \n",
    "                 'violator_id',\n",
    "                 'mailing_address_str_number',\n",
    "                 'mailing_address_str_name',\n",
    "                 'city',\n",
    "                 'state',\n",
    "                 'zip_code',\n",
    "                 'non_us_str_code',\n",
    "                 'country',\n",
    "                 \n",
    "                 'ticket_issued_time',\n",
    "                 'hearing_date',\n",
    "                 'hearing_time',\n",
    "                 \n",
    "                 'violation_code',\n",
    "                 'violation_description',\n",
    "                 'disposition',\n",
    "                 'clean_up_cost',\n",
    "                 'payment_amount',\n",
    "                 \n",
    "                 \n",
    "                 'collection_status',\n",
    "                 'violation_address',\n",
    "                 \n",
    "                 'oid',\n",
    "                 'geom',\n",
    "                 'fine_amount']"
   ]
  },
  {
   "cell_type": "code",
   "execution_count": 276,
   "metadata": {
    "ExecuteTime": {
     "end_time": "2021-02-16T17:13:39.448512Z",
     "start_time": "2021-02-16T17:13:39.325028Z"
    }
   },
   "outputs": [],
   "source": [
    "blight = blight.drop(columns=columns_to_drop)"
   ]
  },
  {
   "cell_type": "code",
   "execution_count": 277,
   "metadata": {
    "ExecuteTime": {
     "end_time": "2021-02-16T17:13:46.117817Z",
     "start_time": "2021-02-16T17:13:45.783731Z"
    }
   },
   "outputs": [],
   "source": [
    "blight.violation_date = pd.to_datetime(blight['violation_date']).dt.date\n",
    "blight.judgment_date = pd.to_datetime(blight['judgment_date']).dt.date\n",
    "blight.payment_date = pd.to_datetime(blight['payment_date']).dt.date"
   ]
  },
  {
   "cell_type": "code",
   "execution_count": 278,
   "metadata": {
    "ExecuteTime": {
     "end_time": "2021-02-16T17:13:50.537919Z",
     "start_time": "2021-02-16T17:13:50.471767Z"
    }
   },
   "outputs": [],
   "source": [
    "blight.rename({'Y':'lat', 'X':'lon', 'parcelno': 'parcel_id'}, axis=1, inplace=True)"
   ]
  },
  {
   "cell_type": "code",
   "execution_count": 279,
   "metadata": {
    "ExecuteTime": {
     "end_time": "2021-02-16T17:13:56.707923Z",
     "start_time": "2021-02-16T17:13:54.282712Z"
    }
   },
   "outputs": [],
   "source": [
    "blight['compliance'] = blight.apply(compliance, axis=1)"
   ]
  },
  {
   "cell_type": "code",
   "execution_count": 280,
   "metadata": {
    "ExecuteTime": {
     "end_time": "2021-02-16T17:14:21.213621Z",
     "start_time": "2021-02-16T17:14:21.122505Z"
    }
   },
   "outputs": [],
   "source": [
    "blight = blight.dropna(subset=['parcel_id'])"
   ]
  },
  {
   "cell_type": "code",
   "execution_count": 235,
   "metadata": {
    "ExecuteTime": {
     "end_time": "2021-02-16T17:01:52.924418Z",
     "start_time": "2021-02-16T17:01:52.849496Z"
    }
   },
   "outputs": [],
   "source": [
    "#blight['parcel_id'] = blight.apply(parse_parcel,axis=1)\n"
   ]
  },
  {
   "cell_type": "code",
   "execution_count": 236,
   "metadata": {
    "ExecuteTime": {
     "end_time": "2021-02-16T17:02:04.693797Z",
     "start_time": "2021-02-16T17:02:01.947622Z"
    }
   },
   "outputs": [],
   "source": [
    "blight['coordinates'] = blight.apply(coord_bligth,axis=1)"
   ]
  },
  {
   "cell_type": "code",
   "execution_count": 237,
   "metadata": {
    "ExecuteTime": {
     "end_time": "2021-02-16T17:02:12.890019Z",
     "start_time": "2021-02-16T17:02:12.124232Z"
    }
   },
   "outputs": [],
   "source": [
    "crimes = pd.read_csv('../data/Reported_Major_Crimes_2011_to_2014.csv')"
   ]
  },
  {
   "cell_type": "code",
   "execution_count": 238,
   "metadata": {
    "ExecuteTime": {
     "end_time": "2021-02-16T17:02:14.368189Z",
     "start_time": "2021-02-16T17:02:13.650384Z"
    }
   },
   "outputs": [],
   "source": [
    "crimes['lat'] = crimes.LOCATION.map(extract_lat_crime)\n",
    "crimes['lon'] = crimes.LOCATION.map(extract_long_crime)"
   ]
  },
  {
   "cell_type": "code",
   "execution_count": 239,
   "metadata": {
    "ExecuteTime": {
     "end_time": "2021-02-16T17:02:17.174269Z",
     "start_time": "2021-02-16T17:02:17.027772Z"
    }
   },
   "outputs": [],
   "source": [
    "crimes =  crimes[ (crimes['lat'] < 45) | (crimes['lon'] < 85) ]"
   ]
  },
  {
   "cell_type": "code",
   "execution_count": 240,
   "metadata": {
    "ExecuteTime": {
     "end_time": "2021-02-16T17:02:31.172330Z",
     "start_time": "2021-02-16T17:02:18.692438Z"
    }
   },
   "outputs": [],
   "source": [
    "crimes['coordinates'] = crimes.apply(coord_bligth, axis=1)"
   ]
  },
  {
   "cell_type": "code",
   "execution_count": 241,
   "metadata": {
    "ExecuteTime": {
     "end_time": "2021-02-16T17:02:33.248256Z",
     "start_time": "2021-02-16T17:02:33.026762Z"
    }
   },
   "outputs": [],
   "source": [
    "crimes.INCIDENTDATE = pd.to_datetime(crimes['INCIDENTDATE']).dt.date"
   ]
  },
  {
   "cell_type": "code",
   "execution_count": 243,
   "metadata": {
    "ExecuteTime": {
     "end_time": "2021-02-16T17:02:39.677608Z",
     "start_time": "2021-02-16T17:02:39.545592Z"
    }
   },
   "outputs": [
    {
     "data": {
      "text/html": [
       "<div>\n",
       "<style scoped>\n",
       "    .dataframe tbody tr th:only-of-type {\n",
       "        vertical-align: middle;\n",
       "    }\n",
       "\n",
       "    .dataframe tbody tr th {\n",
       "        vertical-align: top;\n",
       "    }\n",
       "\n",
       "    .dataframe thead th {\n",
       "        text-align: right;\n",
       "    }\n",
       "</style>\n",
       "<table border=\"1\" class=\"dataframe\">\n",
       "  <thead>\n",
       "    <tr style=\"text-align: right;\">\n",
       "      <th></th>\n",
       "      <th>ROWNUM</th>\n",
       "      <th>CATEGORY</th>\n",
       "      <th>OFFENSEDESCRIPTION</th>\n",
       "      <th>STATEOFFENSEFILECLASS</th>\n",
       "      <th>INCIDENTDATE</th>\n",
       "      <th>HOUR</th>\n",
       "      <th>SCA</th>\n",
       "      <th>PRECINCT</th>\n",
       "      <th>NEIGHBORHOOD</th>\n",
       "      <th>CENSUSTRACT</th>\n",
       "      <th>LOCATION</th>\n",
       "      <th>ObjectId</th>\n",
       "      <th>lat</th>\n",
       "      <th>lon</th>\n",
       "      <th>coordinates</th>\n",
       "    </tr>\n",
       "  </thead>\n",
       "  <tbody>\n",
       "    <tr>\n",
       "      <th>0</th>\n",
       "      <td>1311873</td>\n",
       "      <td>STOLEN VEHICLE</td>\n",
       "      <td>VEHICLE THEFT</td>\n",
       "      <td>24001</td>\n",
       "      <td>2011-01-02</td>\n",
       "      <td>0</td>\n",
       "      <td>1103.0</td>\n",
       "      <td>11.0</td>\n",
       "      <td>PERSHING</td>\n",
       "      <td>5066.0</td>\n",
       "      <td>00 EUREKA/E LANTZ\\n(42.4382, -83.0579)</td>\n",
       "      <td>1</td>\n",
       "      <td>42.4382</td>\n",
       "      <td>-83.0579</td>\n",
       "      <td>(42.4382, -83.0579)</td>\n",
       "    </tr>\n",
       "    <tr>\n",
       "      <th>1</th>\n",
       "      <td>1311874</td>\n",
       "      <td>AGGRAVATED ASSAULT</td>\n",
       "      <td>AGG/FEL ASSAULT - NON-FAMILY - OTHER WEAPON</td>\n",
       "      <td>13002</td>\n",
       "      <td>2011-01-02</td>\n",
       "      <td>11</td>\n",
       "      <td>709.0</td>\n",
       "      <td>7.0</td>\n",
       "      <td>LAFAYETTE PARK</td>\n",
       "      <td>5166.0</td>\n",
       "      <td>E.LAFAYETTE01800\\n(42.3394, -83.0295)</td>\n",
       "      <td>2</td>\n",
       "      <td>42.3394</td>\n",
       "      <td>-83.0295</td>\n",
       "      <td>(42.3394, -83.0295)</td>\n",
       "    </tr>\n",
       "    <tr>\n",
       "      <th>2</th>\n",
       "      <td>1311878</td>\n",
       "      <td>LARCENY</td>\n",
       "      <td>LARCENY - FROM BUILDING (INCLUDES LIBRARY, OFF...</td>\n",
       "      <td>23003</td>\n",
       "      <td>2011-01-02</td>\n",
       "      <td>11</td>\n",
       "      <td>1105.0</td>\n",
       "      <td>11.0</td>\n",
       "      <td>OUTER DRIVE VAN DYKE</td>\n",
       "      <td>5051.0</td>\n",
       "      <td>VANDYKE19900\\n(42.4415, -83.0238)</td>\n",
       "      <td>3</td>\n",
       "      <td>42.4415</td>\n",
       "      <td>-83.0238</td>\n",
       "      <td>(42.4415, -83.0238)</td>\n",
       "    </tr>\n",
       "    <tr>\n",
       "      <th>3</th>\n",
       "      <td>1311879</td>\n",
       "      <td>LARCENY</td>\n",
       "      <td>LARCENY (OTHER)</td>\n",
       "      <td>23007</td>\n",
       "      <td>2011-01-01</td>\n",
       "      <td>20</td>\n",
       "      <td>706.0</td>\n",
       "      <td>7.0</td>\n",
       "      <td>CHENE</td>\n",
       "      <td>5188.0</td>\n",
       "      <td>JOS CAMPAU04100\\n(42.3606, -83.0339)</td>\n",
       "      <td>4</td>\n",
       "      <td>42.3606</td>\n",
       "      <td>-83.0339</td>\n",
       "      <td>(42.3606, -83.0339)</td>\n",
       "    </tr>\n",
       "    <tr>\n",
       "      <th>4</th>\n",
       "      <td>1311883</td>\n",
       "      <td>STOLEN VEHICLE</td>\n",
       "      <td>VEHICLE THEFT</td>\n",
       "      <td>24001</td>\n",
       "      <td>2011-01-02</td>\n",
       "      <td>3</td>\n",
       "      <td>612.0</td>\n",
       "      <td>6.0</td>\n",
       "      <td>WARRENDALE</td>\n",
       "      <td>5457.0</td>\n",
       "      <td>PIEDMONT06000\\n(42.3328, -83.228)</td>\n",
       "      <td>5</td>\n",
       "      <td>42.3328</td>\n",
       "      <td>-83.2280</td>\n",
       "      <td>(42.3328, -83.228)</td>\n",
       "    </tr>\n",
       "  </tbody>\n",
       "</table>\n",
       "</div>"
      ],
      "text/plain": [
       "    ROWNUM            CATEGORY  \\\n",
       "0  1311873      STOLEN VEHICLE   \n",
       "1  1311874  AGGRAVATED ASSAULT   \n",
       "2  1311878             LARCENY   \n",
       "3  1311879             LARCENY   \n",
       "4  1311883      STOLEN VEHICLE   \n",
       "\n",
       "                                  OFFENSEDESCRIPTION  STATEOFFENSEFILECLASS  \\\n",
       "0                                      VEHICLE THEFT                  24001   \n",
       "1        AGG/FEL ASSAULT - NON-FAMILY - OTHER WEAPON                  13002   \n",
       "2  LARCENY - FROM BUILDING (INCLUDES LIBRARY, OFF...                  23003   \n",
       "3                                    LARCENY (OTHER)                  23007   \n",
       "4                                      VEHICLE THEFT                  24001   \n",
       "\n",
       "  INCIDENTDATE  HOUR     SCA  PRECINCT          NEIGHBORHOOD  CENSUSTRACT  \\\n",
       "0   2011-01-02     0  1103.0      11.0              PERSHING       5066.0   \n",
       "1   2011-01-02    11   709.0       7.0        LAFAYETTE PARK       5166.0   \n",
       "2   2011-01-02    11  1105.0      11.0  OUTER DRIVE VAN DYKE       5051.0   \n",
       "3   2011-01-01    20   706.0       7.0                 CHENE       5188.0   \n",
       "4   2011-01-02     3   612.0       6.0            WARRENDALE       5457.0   \n",
       "\n",
       "                                 LOCATION  ObjectId      lat      lon  \\\n",
       "0  00 EUREKA/E LANTZ\\n(42.4382, -83.0579)         1  42.4382 -83.0579   \n",
       "1   E.LAFAYETTE01800\\n(42.3394, -83.0295)         2  42.3394 -83.0295   \n",
       "2       VANDYKE19900\\n(42.4415, -83.0238)         3  42.4415 -83.0238   \n",
       "3    JOS CAMPAU04100\\n(42.3606, -83.0339)         4  42.3606 -83.0339   \n",
       "4       PIEDMONT06000\\n(42.3328, -83.228)         5  42.3328 -83.2280   \n",
       "\n",
       "           coordinates  \n",
       "0  (42.4382, -83.0579)  \n",
       "1  (42.3394, -83.0295)  \n",
       "2  (42.4415, -83.0238)  \n",
       "3  (42.3606, -83.0339)  \n",
       "4   (42.3328, -83.228)  "
      ]
     },
     "execution_count": 243,
     "metadata": {},
     "output_type": "execute_result"
    }
   ],
   "source": [
    "crimes.head()"
   ]
  },
  {
   "cell_type": "code",
   "execution_count": 244,
   "metadata": {
    "ExecuteTime": {
     "end_time": "2021-02-16T17:02:41.461240Z",
     "start_time": "2021-02-16T17:02:41.033816Z"
    }
   },
   "outputs": [
    {
     "name": "stdout",
     "output_type": "stream",
     "text": [
      "<class 'pandas.core.frame.DataFrame'>\n",
      "RangeIndex: 379549 entries, 0 to 379548\n",
      "Data columns (total 20 columns):\n",
      "D3_SurveyParcelID    379549 non-null object\n",
      "CityParcelID2013     379549 non-null object\n",
      "AddCombo             379549 non-null object\n",
      "Address_Number       379549 non-null object\n",
      "Address_Direction    379549 non-null object\n",
      "Street               379549 non-null object\n",
      "Zip                  379549 non-null object\n",
      "Status               373229 non-null float64\n",
      "Structure            373227 non-null object\n",
      "Use_                 373223 non-null object\n",
      "Condition            261355 non-null object\n",
      "Occupancy            261202 non-null object\n",
      "Needs_Boarding       261271 non-null object\n",
      "Fire                 261284 non-null object\n",
      "Dumping              373169 non-null object\n",
      "Units                245276 non-null object\n",
      "Improved             112058 non-null object\n",
      "Maintained           112005 non-null object\n",
      "PublicUse            7351 non-null object\n",
      "NAMELSAD10_Tract     379549 non-null object\n",
      "dtypes: float64(1), object(19)\n",
      "memory usage: 57.9+ MB\n"
     ]
    }
   ],
   "source": [
    "MCM.info()"
   ]
  },
  {
   "cell_type": "code",
   "execution_count": 281,
   "metadata": {
    "ExecuteTime": {
     "end_time": "2021-02-16T17:14:35.870795Z",
     "start_time": "2021-02-16T17:14:35.782634Z"
    },
    "scrolled": false
   },
   "outputs": [
    {
     "name": "stdout",
     "output_type": "stream",
     "text": [
      "<class 'pandas.core.frame.DataFrame'>\n",
      "Int64Index: 59904 entries, 7 to 494929\n",
      "Data columns (total 12 columns):\n",
      "lon                        59904 non-null float64\n",
      "lat                        59904 non-null float64\n",
      "ticket_id                  59904 non-null int64\n",
      "violation_street_number    59904 non-null int64\n",
      "violation_street_name      59902 non-null object\n",
      "violation_zip_code         22995 non-null object\n",
      "violation_date             59904 non-null object\n",
      "judgment_date              59904 non-null object\n",
      "payment_date               59904 non-null object\n",
      "payment_status             59904 non-null object\n",
      "parcel_id                  59904 non-null object\n",
      "compliance                 59904 non-null int64\n",
      "dtypes: float64(2), int64(3), object(7)\n",
      "memory usage: 5.9+ MB\n"
     ]
    }
   ],
   "source": [
    "blight.info()"
   ]
  },
  {
   "cell_type": "code",
   "execution_count": 286,
   "metadata": {
    "ExecuteTime": {
     "end_time": "2021-02-16T17:17:13.154487Z",
     "start_time": "2021-02-16T17:17:13.049172Z"
    }
   },
   "outputs": [
    {
     "data": {
      "text/plain": [
       "1600000    157\n",
       "2200987     96\n",
       "1501156     80\n",
       "1701632     79\n",
       "0100026     63\n",
       "          ... \n",
       "1300609      1\n",
       "2101346      1\n",
       "2206031      1\n",
       "1602964      1\n",
       "1301027      1\n",
       "Name: parcel_id, Length: 16681, dtype: int64"
      ]
     },
     "execution_count": 286,
     "metadata": {},
     "output_type": "execute_result"
    }
   ],
   "source": [
    "blight['parcel_id'].value_counts()"
   ]
  },
  {
   "cell_type": "code",
   "execution_count": 288,
   "metadata": {
    "ExecuteTime": {
     "end_time": "2021-02-16T17:18:55.915040Z",
     "start_time": "2021-02-16T17:18:55.713191Z"
    }
   },
   "outputs": [
    {
     "data": {
      "text/plain": [
       "2200987    214\n",
       "2210864    152\n",
       "2211937    110\n",
       "2212289    103\n",
       "2206022    101\n",
       "          ... \n",
       "2200476      1\n",
       "2201811      1\n",
       "1700418      1\n",
       "1700987      1\n",
       "2201485      1\n",
       "Name: D3_SurveyParcelID, Length: 44032, dtype: int64"
      ]
     },
     "execution_count": 288,
     "metadata": {},
     "output_type": "execute_result"
    }
   ],
   "source": [
    "MCM['D3_SurveyParcelID'].value_counts()"
   ]
  },
  {
   "cell_type": "code",
   "execution_count": null,
   "metadata": {},
   "outputs": [],
   "source": [
    "blight['parcel_id'] = [x[:7] for x in blight.parcel_id]"
   ]
  },
  {
   "cell_type": "code",
   "execution_count": 250,
   "metadata": {
    "ExecuteTime": {
     "end_time": "2021-02-16T17:05:50.156450Z",
     "start_time": "2021-02-16T17:05:50.077635Z"
    }
   },
   "outputs": [],
   "source": [
    "def replace(row): \n",
    "    for row in re:\n",
    "        if row['parcel_id'][0] == 'C' :\n",
    "            re.drop(row)\n",
    "    else:\n",
    "        return str(row['parcel_id']);"
   ]
  },
  {
   "cell_type": "code",
   "execution_count": 258,
   "metadata": {
    "ExecuteTime": {
     "end_time": "2021-02-16T17:08:22.966785Z",
     "start_time": "2021-02-16T17:08:22.663780Z"
    }
   },
   "outputs": [],
   "source": [
    "blight['parcel_id'] = blight.replace('parcel_id')"
   ]
  },
  {
   "cell_type": "code",
   "execution_count": 259,
   "metadata": {
    "ExecuteTime": {
     "end_time": "2021-02-16T17:08:24.026225Z",
     "start_time": "2021-02-16T17:08:23.950875Z"
    }
   },
   "outputs": [
    {
     "data": {
      "text/plain": [
       "(59904, 13)"
      ]
     },
     "execution_count": 259,
     "metadata": {},
     "output_type": "execute_result"
    }
   ],
   "source": [
    "blight.shape"
   ]
  },
  {
   "cell_type": "code",
   "execution_count": 260,
   "metadata": {
    "ExecuteTime": {
     "end_time": "2021-02-16T17:08:24.771187Z",
     "start_time": "2021-02-16T17:08:24.704916Z"
    }
   },
   "outputs": [
    {
     "data": {
      "text/plain": [
       "(379549, 20)"
      ]
     },
     "execution_count": 260,
     "metadata": {},
     "output_type": "execute_result"
    }
   ],
   "source": [
    "MCM.shape"
   ]
  },
  {
   "cell_type": "code",
   "execution_count": 261,
   "metadata": {
    "ExecuteTime": {
     "end_time": "2021-02-16T17:08:26.375062Z",
     "start_time": "2021-02-16T17:08:25.359845Z"
    }
   },
   "outputs": [],
   "source": [
    "joined_df_1 = pd.merge(blight,MCM, how='left', left_on = 'parcel_id',right_on = 'CityParcelID2013',left_index=True)"
   ]
  },
  {
   "cell_type": "code",
   "execution_count": 262,
   "metadata": {
    "ExecuteTime": {
     "end_time": "2021-02-16T17:08:26.649162Z",
     "start_time": "2021-02-16T17:08:26.571754Z"
    }
   },
   "outputs": [
    {
     "data": {
      "text/plain": [
       "(59904, 33)"
      ]
     },
     "execution_count": 262,
     "metadata": {},
     "output_type": "execute_result"
    }
   ],
   "source": [
    "joined_df_1.shape"
   ]
  },
  {
   "cell_type": "code",
   "execution_count": 263,
   "metadata": {
    "ExecuteTime": {
     "end_time": "2021-02-16T17:08:31.549876Z",
     "start_time": "2021-02-16T17:08:31.402964Z"
    },
    "scrolled": false
   },
   "outputs": [
    {
     "data": {
      "text/html": [
       "<div>\n",
       "<style scoped>\n",
       "    .dataframe tbody tr th:only-of-type {\n",
       "        vertical-align: middle;\n",
       "    }\n",
       "\n",
       "    .dataframe tbody tr th {\n",
       "        vertical-align: top;\n",
       "    }\n",
       "\n",
       "    .dataframe thead th {\n",
       "        text-align: right;\n",
       "    }\n",
       "</style>\n",
       "<table border=\"1\" class=\"dataframe\">\n",
       "  <thead>\n",
       "    <tr style=\"text-align: right;\">\n",
       "      <th></th>\n",
       "      <th>lon</th>\n",
       "      <th>lat</th>\n",
       "      <th>ticket_id</th>\n",
       "      <th>violation_street_number</th>\n",
       "      <th>violation_street_name</th>\n",
       "      <th>violation_zip_code</th>\n",
       "      <th>violation_date</th>\n",
       "      <th>judgment_date</th>\n",
       "      <th>payment_date</th>\n",
       "      <th>payment_status</th>\n",
       "      <th>...</th>\n",
       "      <th>Condition</th>\n",
       "      <th>Occupancy</th>\n",
       "      <th>Needs_Boarding</th>\n",
       "      <th>Fire</th>\n",
       "      <th>Dumping</th>\n",
       "      <th>Units</th>\n",
       "      <th>Improved</th>\n",
       "      <th>Maintained</th>\n",
       "      <th>PublicUse</th>\n",
       "      <th>NAMELSAD10_Tract</th>\n",
       "    </tr>\n",
       "  </thead>\n",
       "  <tbody>\n",
       "    <tr>\n",
       "      <th>NaN</th>\n",
       "      <td>-83.019172</td>\n",
       "      <td>42.339196</td>\n",
       "      <td>18653</td>\n",
       "      <td>2900</td>\n",
       "      <td>JEFFERSON</td>\n",
       "      <td>NaN</td>\n",
       "      <td>2005-01-14</td>\n",
       "      <td>2005-02-23</td>\n",
       "      <td>2005-02-22</td>\n",
       "      <td>PAID IN FULL</td>\n",
       "      <td>...</td>\n",
       "      <td>NaN</td>\n",
       "      <td>NaN</td>\n",
       "      <td>NaN</td>\n",
       "      <td>NaN</td>\n",
       "      <td>NaN</td>\n",
       "      <td>NaN</td>\n",
       "      <td>NaN</td>\n",
       "      <td>NaN</td>\n",
       "      <td>NaN</td>\n",
       "      <td>NaN</td>\n",
       "    </tr>\n",
       "    <tr>\n",
       "      <th>NaN</th>\n",
       "      <td>-82.942097</td>\n",
       "      <td>42.388525</td>\n",
       "      <td>18657</td>\n",
       "      <td>15439</td>\n",
       "      <td>MACK</td>\n",
       "      <td>NaN</td>\n",
       "      <td>2005-01-14</td>\n",
       "      <td>2005-02-18</td>\n",
       "      <td>2005-03-09</td>\n",
       "      <td>PAID IN FULL</td>\n",
       "      <td>...</td>\n",
       "      <td>NaN</td>\n",
       "      <td>NaN</td>\n",
       "      <td>NaN</td>\n",
       "      <td>NaN</td>\n",
       "      <td>NaN</td>\n",
       "      <td>NaN</td>\n",
       "      <td>NaN</td>\n",
       "      <td>NaN</td>\n",
       "      <td>NaN</td>\n",
       "      <td>NaN</td>\n",
       "    </tr>\n",
       "    <tr>\n",
       "      <th>NaN</th>\n",
       "      <td>-82.946176</td>\n",
       "      <td>42.371778</td>\n",
       "      <td>18658</td>\n",
       "      <td>14214</td>\n",
       "      <td>JEFFERSON</td>\n",
       "      <td>NaN</td>\n",
       "      <td>2005-01-14</td>\n",
       "      <td>2005-02-04</td>\n",
       "      <td>2005-02-04</td>\n",
       "      <td>PAID IN FULL</td>\n",
       "      <td>...</td>\n",
       "      <td>NaN</td>\n",
       "      <td>NaN</td>\n",
       "      <td>NaN</td>\n",
       "      <td>NaN</td>\n",
       "      <td>NaN</td>\n",
       "      <td>NaN</td>\n",
       "      <td>NaN</td>\n",
       "      <td>NaN</td>\n",
       "      <td>NaN</td>\n",
       "      <td>NaN</td>\n",
       "    </tr>\n",
       "    <tr>\n",
       "      <th>NaN</th>\n",
       "      <td>-83.045750</td>\n",
       "      <td>42.335121</td>\n",
       "      <td>18661</td>\n",
       "      <td>1310</td>\n",
       "      <td>BROADWAY</td>\n",
       "      <td>NaN</td>\n",
       "      <td>2005-01-14</td>\n",
       "      <td>2005-02-18</td>\n",
       "      <td>2007-06-12</td>\n",
       "      <td>PAID IN FULL</td>\n",
       "      <td>...</td>\n",
       "      <td>NaN</td>\n",
       "      <td>NaN</td>\n",
       "      <td>NaN</td>\n",
       "      <td>NaN</td>\n",
       "      <td>NaN</td>\n",
       "      <td>NaN</td>\n",
       "      <td>NaN</td>\n",
       "      <td>NaN</td>\n",
       "      <td>NaN</td>\n",
       "      <td>NaN</td>\n",
       "    </tr>\n",
       "    <tr>\n",
       "      <th>NaN</th>\n",
       "      <td>-83.044467</td>\n",
       "      <td>42.335210</td>\n",
       "      <td>18664</td>\n",
       "      <td>343</td>\n",
       "      <td>MACOMB</td>\n",
       "      <td>NaN</td>\n",
       "      <td>2005-01-14</td>\n",
       "      <td>2005-03-23</td>\n",
       "      <td>2007-05-31</td>\n",
       "      <td>PAID IN FULL</td>\n",
       "      <td>...</td>\n",
       "      <td>NaN</td>\n",
       "      <td>NaN</td>\n",
       "      <td>NaN</td>\n",
       "      <td>NaN</td>\n",
       "      <td>NaN</td>\n",
       "      <td>NaN</td>\n",
       "      <td>NaN</td>\n",
       "      <td>NaN</td>\n",
       "      <td>NaN</td>\n",
       "      <td>NaN</td>\n",
       "    </tr>\n",
       "  </tbody>\n",
       "</table>\n",
       "<p>5 rows × 33 columns</p>\n",
       "</div>"
      ],
      "text/plain": [
       "           lon        lat  ticket_id  violation_street_number  \\\n",
       "NaN -83.019172  42.339196      18653                     2900   \n",
       "NaN -82.942097  42.388525      18657                    15439   \n",
       "NaN -82.946176  42.371778      18658                    14214   \n",
       "NaN -83.045750  42.335121      18661                     1310   \n",
       "NaN -83.044467  42.335210      18664                      343   \n",
       "\n",
       "    violation_street_name violation_zip_code violation_date judgment_date  \\\n",
       "NaN      JEFFERSON                       NaN     2005-01-14    2005-02-23   \n",
       "NaN      MACK                            NaN     2005-01-14    2005-02-18   \n",
       "NaN      JEFFERSON                       NaN     2005-01-14    2005-02-04   \n",
       "NaN      BROADWAY                        NaN     2005-01-14    2005-02-18   \n",
       "NaN      MACOMB                          NaN     2005-01-14    2005-03-23   \n",
       "\n",
       "    payment_date payment_status  ... Condition  Occupancy Needs_Boarding Fire  \\\n",
       "NaN   2005-02-22   PAID IN FULL  ...       NaN        NaN            NaN  NaN   \n",
       "NaN   2005-03-09   PAID IN FULL  ...       NaN        NaN            NaN  NaN   \n",
       "NaN   2005-02-04   PAID IN FULL  ...       NaN        NaN            NaN  NaN   \n",
       "NaN   2007-06-12   PAID IN FULL  ...       NaN        NaN            NaN  NaN   \n",
       "NaN   2007-05-31   PAID IN FULL  ...       NaN        NaN            NaN  NaN   \n",
       "\n",
       "    Dumping Units Improved Maintained PublicUse NAMELSAD10_Tract  \n",
       "NaN     NaN   NaN      NaN        NaN       NaN              NaN  \n",
       "NaN     NaN   NaN      NaN        NaN       NaN              NaN  \n",
       "NaN     NaN   NaN      NaN        NaN       NaN              NaN  \n",
       "NaN     NaN   NaN      NaN        NaN       NaN              NaN  \n",
       "NaN     NaN   NaN      NaN        NaN       NaN              NaN  \n",
       "\n",
       "[5 rows x 33 columns]"
      ]
     },
     "execution_count": 263,
     "metadata": {},
     "output_type": "execute_result"
    }
   ],
   "source": [
    "joined_df_1.head()"
   ]
  },
  {
   "cell_type": "code",
   "execution_count": 196,
   "metadata": {
    "ExecuteTime": {
     "end_time": "2021-02-16T16:51:16.574158Z",
     "start_time": "2021-02-16T16:51:16.482163Z"
    }
   },
   "outputs": [
    {
     "data": {
      "text/plain": [
       "<bound method NDFrame.describe of 0       NaN\n",
       "1       NaN\n",
       "2       NaN\n",
       "3       NaN\n",
       "4       NaN\n",
       "         ..\n",
       "59899   NaN\n",
       "59900   NaN\n",
       "59901   NaN\n",
       "59902   NaN\n",
       "59903   NaN\n",
       "Name: Parcel_ID, Length: 59904, dtype: float64>"
      ]
     },
     "execution_count": 196,
     "metadata": {},
     "output_type": "execute_result"
    }
   ],
   "source": [
    "joined_df_1['Parcel_ID'].describe"
   ]
  },
  {
   "cell_type": "code",
   "execution_count": 190,
   "metadata": {
    "ExecuteTime": {
     "end_time": "2021-02-16T16:40:44.390749Z",
     "start_time": "2021-02-16T16:40:44.186523Z"
    },
    "collapsed": true
   },
   "outputs": [],
   "source": [
    "def trim_lon(row):\n",
    "    for row in re:\n",
    "        x = str(row['lon'])\n",
    "        x = x[:8]\n",
    "        x = int(x);\n",
    "def trim_lan(row):\n",
    "    for row in re:\n",
    "        y = str(row['lat'])\n",
    "        y = y[:8]\n",
    "        y = int(y);\n",
    "    "
   ]
  },
  {
   "cell_type": "code",
   "execution_count": 192,
   "metadata": {
    "ExecuteTime": {
     "end_time": "2021-02-16T16:41:17.863646Z",
     "start_time": "2021-02-16T16:41:17.756461Z"
    }
   },
   "outputs": [
    {
     "ename": "ValueError",
     "evalue": "No axis named lon for object type <class 'pandas.core.frame.DataFrame'>",
     "output_type": "error",
     "traceback": [
      "\u001b[0;31m---------------------------------------------------------------------------\u001b[0m",
      "\u001b[0;31mValueError\u001b[0m                                Traceback (most recent call last)",
      "\u001b[0;32m<ipython-input-192-8c10545a3e82>\u001b[0m in \u001b[0;36m<module>\u001b[0;34m()\u001b[0m\n\u001b[0;32m----> 1\u001b[0;31m \u001b[0mjoined_df_1\u001b[0m\u001b[0;34m[\u001b[0m\u001b[0;34m'lon'\u001b[0m\u001b[0;34m]\u001b[0m \u001b[0;34m=\u001b[0m \u001b[0mjoined_df_1\u001b[0m\u001b[0;34m.\u001b[0m\u001b[0mapply\u001b[0m\u001b[0;34m(\u001b[0m\u001b[0mtrim_lon\u001b[0m\u001b[0;34m,\u001b[0m\u001b[0;34m'lon'\u001b[0m\u001b[0;34m)\u001b[0m\u001b[0;34m\u001b[0m\u001b[0;34m\u001b[0m\u001b[0m\n\u001b[0m\u001b[1;32m      2\u001b[0m \u001b[0mjoined_df_1\u001b[0m\u001b[0;34m[\u001b[0m\u001b[0;34m'lan'\u001b[0m\u001b[0;34m]\u001b[0m \u001b[0;34m=\u001b[0m \u001b[0mjoined_df_1\u001b[0m\u001b[0;34m.\u001b[0m\u001b[0mtrim_lan\u001b[0m\u001b[0;34m(\u001b[0m\u001b[0;34m'lan'\u001b[0m\u001b[0;34m)\u001b[0m\u001b[0;34m\u001b[0m\u001b[0;34m\u001b[0m\u001b[0m\n",
      "\u001b[0;32m/Users/kelvinarellano/opt/anaconda3/envs/learn-env/lib/python3.6/site-packages/pandas/core/frame.py\u001b[0m in \u001b[0;36mapply\u001b[0;34m(self, func, axis, broadcast, raw, reduce, result_type, args, **kwds)\u001b[0m\n\u001b[1;32m   6924\u001b[0m             \u001b[0mresult_type\u001b[0m\u001b[0;34m=\u001b[0m\u001b[0mresult_type\u001b[0m\u001b[0;34m,\u001b[0m\u001b[0;34m\u001b[0m\u001b[0;34m\u001b[0m\u001b[0m\n\u001b[1;32m   6925\u001b[0m             \u001b[0margs\u001b[0m\u001b[0;34m=\u001b[0m\u001b[0margs\u001b[0m\u001b[0;34m,\u001b[0m\u001b[0;34m\u001b[0m\u001b[0;34m\u001b[0m\u001b[0m\n\u001b[0;32m-> 6926\u001b[0;31m             \u001b[0mkwds\u001b[0m\u001b[0;34m=\u001b[0m\u001b[0mkwds\u001b[0m\u001b[0;34m,\u001b[0m\u001b[0;34m\u001b[0m\u001b[0;34m\u001b[0m\u001b[0m\n\u001b[0m\u001b[1;32m   6927\u001b[0m         )\n\u001b[1;32m   6928\u001b[0m         \u001b[0;32mreturn\u001b[0m \u001b[0mop\u001b[0m\u001b[0;34m.\u001b[0m\u001b[0mget_result\u001b[0m\u001b[0;34m(\u001b[0m\u001b[0;34m)\u001b[0m\u001b[0;34m\u001b[0m\u001b[0;34m\u001b[0m\u001b[0m\n",
      "\u001b[0;32m/Users/kelvinarellano/opt/anaconda3/envs/learn-env/lib/python3.6/site-packages/pandas/core/apply.py\u001b[0m in \u001b[0;36mframe_apply\u001b[0;34m(obj, func, axis, broadcast, raw, reduce, result_type, ignore_failures, args, kwds)\u001b[0m\n\u001b[1;32m     32\u001b[0m     \u001b[0;34m\"\"\" construct and return a row or column based frame apply object \"\"\"\u001b[0m\u001b[0;34m\u001b[0m\u001b[0;34m\u001b[0m\u001b[0m\n\u001b[1;32m     33\u001b[0m \u001b[0;34m\u001b[0m\u001b[0m\n\u001b[0;32m---> 34\u001b[0;31m     \u001b[0maxis\u001b[0m \u001b[0;34m=\u001b[0m \u001b[0mobj\u001b[0m\u001b[0;34m.\u001b[0m\u001b[0m_get_axis_number\u001b[0m\u001b[0;34m(\u001b[0m\u001b[0maxis\u001b[0m\u001b[0;34m)\u001b[0m\u001b[0;34m\u001b[0m\u001b[0;34m\u001b[0m\u001b[0m\n\u001b[0m\u001b[1;32m     35\u001b[0m     \u001b[0;32mif\u001b[0m \u001b[0maxis\u001b[0m \u001b[0;34m==\u001b[0m \u001b[0;36m0\u001b[0m\u001b[0;34m:\u001b[0m\u001b[0;34m\u001b[0m\u001b[0;34m\u001b[0m\u001b[0m\n\u001b[1;32m     36\u001b[0m         \u001b[0mklass\u001b[0m \u001b[0;34m=\u001b[0m \u001b[0mFrameRowApply\u001b[0m\u001b[0;34m\u001b[0m\u001b[0;34m\u001b[0m\u001b[0m\n",
      "\u001b[0;32m/Users/kelvinarellano/opt/anaconda3/envs/learn-env/lib/python3.6/site-packages/pandas/core/generic.py\u001b[0m in \u001b[0;36m_get_axis_number\u001b[0;34m(cls, axis)\u001b[0m\n\u001b[1;32m    409\u001b[0m             \u001b[0;32mexcept\u001b[0m \u001b[0mKeyError\u001b[0m\u001b[0;34m:\u001b[0m\u001b[0;34m\u001b[0m\u001b[0;34m\u001b[0m\u001b[0m\n\u001b[1;32m    410\u001b[0m                 \u001b[0;32mpass\u001b[0m\u001b[0;34m\u001b[0m\u001b[0;34m\u001b[0m\u001b[0m\n\u001b[0;32m--> 411\u001b[0;31m         \u001b[0;32mraise\u001b[0m \u001b[0mValueError\u001b[0m\u001b[0;34m(\u001b[0m\u001b[0;34m\"No axis named {0} for object type {1}\"\u001b[0m\u001b[0;34m.\u001b[0m\u001b[0mformat\u001b[0m\u001b[0;34m(\u001b[0m\u001b[0maxis\u001b[0m\u001b[0;34m,\u001b[0m \u001b[0mcls\u001b[0m\u001b[0;34m)\u001b[0m\u001b[0;34m)\u001b[0m\u001b[0;34m\u001b[0m\u001b[0;34m\u001b[0m\u001b[0m\n\u001b[0m\u001b[1;32m    412\u001b[0m \u001b[0;34m\u001b[0m\u001b[0m\n\u001b[1;32m    413\u001b[0m     \u001b[0;34m@\u001b[0m\u001b[0mclassmethod\u001b[0m\u001b[0;34m\u001b[0m\u001b[0;34m\u001b[0m\u001b[0m\n",
      "\u001b[0;31mValueError\u001b[0m: No axis named lon for object type <class 'pandas.core.frame.DataFrame'>"
     ]
    }
   ],
   "source": [
    "joined_df_1['lon'] = joined_df_1.apply(trim_lon,'lon')\n",
    "joined_df_1['lan'] = joined_df_1.trim_lan('lan')"
   ]
  },
  {
   "cell_type": "code",
   "execution_count": 186,
   "metadata": {
    "ExecuteTime": {
     "end_time": "2021-02-16T16:36:49.297094Z",
     "start_time": "2021-02-16T16:36:48.916599Z"
    }
   },
   "outputs": [
    {
     "data": {
      "text/html": [
       "<div>\n",
       "<style scoped>\n",
       "    .dataframe tbody tr th:only-of-type {\n",
       "        vertical-align: middle;\n",
       "    }\n",
       "\n",
       "    .dataframe tbody tr th {\n",
       "        vertical-align: top;\n",
       "    }\n",
       "\n",
       "    .dataframe thead th {\n",
       "        text-align: right;\n",
       "    }\n",
       "</style>\n",
       "<table border=\"1\" class=\"dataframe\">\n",
       "  <thead>\n",
       "    <tr style=\"text-align: right;\">\n",
       "      <th></th>\n",
       "      <th>ROWNUM</th>\n",
       "      <th>CATEGORY</th>\n",
       "      <th>OFFENSEDESCRIPTION</th>\n",
       "      <th>STATEOFFENSEFILECLASS</th>\n",
       "      <th>INCIDENTDATE</th>\n",
       "      <th>HOUR</th>\n",
       "      <th>SCA</th>\n",
       "      <th>PRECINCT</th>\n",
       "      <th>NEIGHBORHOOD</th>\n",
       "      <th>CENSUSTRACT</th>\n",
       "      <th>LOCATION</th>\n",
       "      <th>ObjectId</th>\n",
       "      <th>lat</th>\n",
       "      <th>lon</th>\n",
       "      <th>coordinates</th>\n",
       "    </tr>\n",
       "  </thead>\n",
       "  <tbody>\n",
       "    <tr>\n",
       "      <th>0</th>\n",
       "      <td>1311873</td>\n",
       "      <td>STOLEN VEHICLE</td>\n",
       "      <td>VEHICLE THEFT</td>\n",
       "      <td>24001</td>\n",
       "      <td>2011-01-02</td>\n",
       "      <td>0</td>\n",
       "      <td>1103.0</td>\n",
       "      <td>11.0</td>\n",
       "      <td>PERSHING</td>\n",
       "      <td>5066.0</td>\n",
       "      <td>00 EUREKA/E LANTZ\\n(42.4382, -83.0579)</td>\n",
       "      <td>1</td>\n",
       "      <td>42.4382</td>\n",
       "      <td>-83.0579</td>\n",
       "      <td>(42.4382, -83.0579)</td>\n",
       "    </tr>\n",
       "    <tr>\n",
       "      <th>1</th>\n",
       "      <td>1311874</td>\n",
       "      <td>AGGRAVATED ASSAULT</td>\n",
       "      <td>AGG/FEL ASSAULT - NON-FAMILY - OTHER WEAPON</td>\n",
       "      <td>13002</td>\n",
       "      <td>2011-01-02</td>\n",
       "      <td>11</td>\n",
       "      <td>709.0</td>\n",
       "      <td>7.0</td>\n",
       "      <td>LAFAYETTE PARK</td>\n",
       "      <td>5166.0</td>\n",
       "      <td>E.LAFAYETTE01800\\n(42.3394, -83.0295)</td>\n",
       "      <td>2</td>\n",
       "      <td>42.3394</td>\n",
       "      <td>-83.0295</td>\n",
       "      <td>(42.3394, -83.0295)</td>\n",
       "    </tr>\n",
       "    <tr>\n",
       "      <th>2</th>\n",
       "      <td>1311878</td>\n",
       "      <td>LARCENY</td>\n",
       "      <td>LARCENY - FROM BUILDING (INCLUDES LIBRARY, OFF...</td>\n",
       "      <td>23003</td>\n",
       "      <td>2011-01-02</td>\n",
       "      <td>11</td>\n",
       "      <td>1105.0</td>\n",
       "      <td>11.0</td>\n",
       "      <td>OUTER DRIVE VAN DYKE</td>\n",
       "      <td>5051.0</td>\n",
       "      <td>VANDYKE19900\\n(42.4415, -83.0238)</td>\n",
       "      <td>3</td>\n",
       "      <td>42.4415</td>\n",
       "      <td>-83.0238</td>\n",
       "      <td>(42.4415, -83.0238)</td>\n",
       "    </tr>\n",
       "    <tr>\n",
       "      <th>3</th>\n",
       "      <td>1311879</td>\n",
       "      <td>LARCENY</td>\n",
       "      <td>LARCENY (OTHER)</td>\n",
       "      <td>23007</td>\n",
       "      <td>2011-01-01</td>\n",
       "      <td>20</td>\n",
       "      <td>706.0</td>\n",
       "      <td>7.0</td>\n",
       "      <td>CHENE</td>\n",
       "      <td>5188.0</td>\n",
       "      <td>JOS CAMPAU04100\\n(42.3606, -83.0339)</td>\n",
       "      <td>4</td>\n",
       "      <td>42.3606</td>\n",
       "      <td>-83.0339</td>\n",
       "      <td>(42.3606, -83.0339)</td>\n",
       "    </tr>\n",
       "    <tr>\n",
       "      <th>4</th>\n",
       "      <td>1311883</td>\n",
       "      <td>STOLEN VEHICLE</td>\n",
       "      <td>VEHICLE THEFT</td>\n",
       "      <td>24001</td>\n",
       "      <td>2011-01-02</td>\n",
       "      <td>3</td>\n",
       "      <td>612.0</td>\n",
       "      <td>6.0</td>\n",
       "      <td>WARRENDALE</td>\n",
       "      <td>5457.0</td>\n",
       "      <td>PIEDMONT06000\\n(42.3328, -83.228)</td>\n",
       "      <td>5</td>\n",
       "      <td>42.3328</td>\n",
       "      <td>-83.2280</td>\n",
       "      <td>(42.3328, -83.228)</td>\n",
       "    </tr>\n",
       "  </tbody>\n",
       "</table>\n",
       "</div>"
      ],
      "text/plain": [
       "    ROWNUM            CATEGORY  \\\n",
       "0  1311873      STOLEN VEHICLE   \n",
       "1  1311874  AGGRAVATED ASSAULT   \n",
       "2  1311878             LARCENY   \n",
       "3  1311879             LARCENY   \n",
       "4  1311883      STOLEN VEHICLE   \n",
       "\n",
       "                                  OFFENSEDESCRIPTION  STATEOFFENSEFILECLASS  \\\n",
       "0                                      VEHICLE THEFT                  24001   \n",
       "1        AGG/FEL ASSAULT - NON-FAMILY - OTHER WEAPON                  13002   \n",
       "2  LARCENY - FROM BUILDING (INCLUDES LIBRARY, OFF...                  23003   \n",
       "3                                    LARCENY (OTHER)                  23007   \n",
       "4                                      VEHICLE THEFT                  24001   \n",
       "\n",
       "  INCIDENTDATE  HOUR     SCA  PRECINCT          NEIGHBORHOOD  CENSUSTRACT  \\\n",
       "0   2011-01-02     0  1103.0      11.0              PERSHING       5066.0   \n",
       "1   2011-01-02    11   709.0       7.0        LAFAYETTE PARK       5166.0   \n",
       "2   2011-01-02    11  1105.0      11.0  OUTER DRIVE VAN DYKE       5051.0   \n",
       "3   2011-01-01    20   706.0       7.0                 CHENE       5188.0   \n",
       "4   2011-01-02     3   612.0       6.0            WARRENDALE       5457.0   \n",
       "\n",
       "                                 LOCATION  ObjectId      lat      lon  \\\n",
       "0  00 EUREKA/E LANTZ\\n(42.4382, -83.0579)         1  42.4382 -83.0579   \n",
       "1   E.LAFAYETTE01800\\n(42.3394, -83.0295)         2  42.3394 -83.0295   \n",
       "2       VANDYKE19900\\n(42.4415, -83.0238)         3  42.4415 -83.0238   \n",
       "3    JOS CAMPAU04100\\n(42.3606, -83.0339)         4  42.3606 -83.0339   \n",
       "4       PIEDMONT06000\\n(42.3328, -83.228)         5  42.3328 -83.2280   \n",
       "\n",
       "           coordinates  \n",
       "0  (42.4382, -83.0579)  \n",
       "1  (42.3394, -83.0295)  \n",
       "2  (42.4415, -83.0238)  \n",
       "3  (42.3606, -83.0339)  \n",
       "4   (42.3328, -83.228)  "
      ]
     },
     "execution_count": 186,
     "metadata": {},
     "output_type": "execute_result"
    }
   ],
   "source": [
    "crimes.head()"
   ]
  },
  {
   "cell_type": "code",
   "execution_count": 90,
   "metadata": {
    "ExecuteTime": {
     "end_time": "2021-02-16T13:56:18.261940Z",
     "start_time": "2021-02-16T13:56:17.298147Z"
    }
   },
   "outputs": [
    {
     "name": "stdout",
     "output_type": "stream",
     "text": [
      "<class 'pandas.core.frame.DataFrame'>\n",
      "Int64Index: 234557 entries, 0 to 234977\n",
      "Data columns (total 15 columns):\n",
      "ROWNUM                   234557 non-null int64\n",
      "CATEGORY                 234557 non-null object\n",
      "OFFENSEDESCRIPTION       234557 non-null object\n",
      "STATEOFFENSEFILECLASS    234557 non-null int64\n",
      "INCIDENTDATE             234557 non-null object\n",
      "HOUR                     234557 non-null int64\n",
      "SCA                      233849 non-null float64\n",
      "PRECINCT                 233849 non-null float64\n",
      "NEIGHBORHOOD             233402 non-null object\n",
      "CENSUSTRACT              217004 non-null float64\n",
      "LOCATION                 234557 non-null object\n",
      "ObjectId                 234557 non-null int64\n",
      "lat                      234557 non-null float64\n",
      "lon                      234557 non-null float64\n",
      "coordinates              234557 non-null object\n",
      "dtypes: float64(5), int64(4), object(6)\n",
      "memory usage: 28.6+ MB\n"
     ]
    }
   ],
   "source": [
    "type(crimes)"
   ]
  },
  {
   "cell_type": "code",
   "execution_count": 92,
   "metadata": {
    "ExecuteTime": {
     "end_time": "2021-02-16T14:01:10.520419Z",
     "start_time": "2021-02-16T14:01:10.217919Z"
    }
   },
   "outputs": [
    {
     "data": {
      "text/plain": [
       "-83.0670    192\n",
       "-83.0671    188\n",
       "-83.0413    178\n",
       "-83.0845    177\n",
       "-83.0846    176\n",
       "           ... \n",
       "-82.8843      1\n",
       "-83.4469      1\n",
       "-82.9112      1\n",
       "-83.3988      1\n",
       "-83.5065      1\n",
       "Name: lon, Length: 3820, dtype: int64"
      ]
     },
     "execution_count": 92,
     "metadata": {},
     "output_type": "execute_result"
    }
   ],
   "source": [
    "crimes.lon.value_counts()"
   ]
  },
  {
   "cell_type": "code",
   "execution_count": 100,
   "metadata": {
    "ExecuteTime": {
     "end_time": "2021-02-16T14:18:25.230318Z",
     "start_time": "2021-02-16T14:14:51.245950Z"
    }
   },
   "outputs": [
    {
     "data": {
      "text/plain": [
       "count                  234557\n",
       "unique                 194544\n",
       "top       (42.3677, -83.0846)\n",
       "freq                       35\n",
       "Name: coordinates, dtype: object"
      ]
     },
     "execution_count": 100,
     "metadata": {},
     "output_type": "execute_result"
    }
   ],
   "source": [
    "crimes['coordinates'].describe()"
   ]
  },
  {
   "cell_type": "code",
   "execution_count": 101,
   "metadata": {
    "ExecuteTime": {
     "end_time": "2021-02-16T14:28:40.260717Z",
     "start_time": "2021-02-16T14:28:39.844943Z"
    }
   },
   "outputs": [
    {
     "data": {
      "text/plain": [
       "count    234557.000000\n",
       "mean        -83.104547\n",
       "std           0.297348\n",
       "min         -84.912300\n",
       "25%         -83.188500\n",
       "50%         -83.112100\n",
       "75%         -83.027700\n",
       "max          14.200600\n",
       "Name: lon, dtype: float64"
      ]
     },
     "execution_count": 101,
     "metadata": {},
     "output_type": "execute_result"
    }
   ],
   "source": [
    "crimes['lon'].describe()"
   ]
  },
  {
   "cell_type": "code",
   "execution_count": 116,
   "metadata": {
    "ExecuteTime": {
     "end_time": "2021-02-16T14:40:14.183048Z",
     "start_time": "2021-02-16T14:40:14.090933Z"
    }
   },
   "outputs": [
    {
     "data": {
      "text/plain": [
       "(585797, 33)"
      ]
     },
     "execution_count": 116,
     "metadata": {},
     "output_type": "execute_result"
    }
   ],
   "source": [
    "joined_df_1.shape"
   ]
  },
  {
   "cell_type": "code",
   "execution_count": 104,
   "metadata": {
    "ExecuteTime": {
     "end_time": "2021-02-16T14:31:18.386044Z",
     "start_time": "2021-02-16T14:31:17.012935Z"
    }
   },
   "outputs": [],
   "source": [
    "joined_df_2 = joined_df_1[joined_df_1.payment_status == 'PAID IN FULL']"
   ]
  },
  {
   "cell_type": "code",
   "execution_count": 105,
   "metadata": {
    "ExecuteTime": {
     "end_time": "2021-02-16T14:31:36.772145Z",
     "start_time": "2021-02-16T14:31:36.723871Z"
    }
   },
   "outputs": [
    {
     "data": {
      "text/plain": [
       "(585788, 33)"
      ]
     },
     "execution_count": 105,
     "metadata": {},
     "output_type": "execute_result"
    }
   ],
   "source": [
    "joined_df_2.shape"
   ]
  },
  {
   "cell_type": "code",
   "execution_count": null,
   "metadata": {},
   "outputs": [],
   "source": []
  }
 ],
 "metadata": {
  "kernelspec": {
   "display_name": "Python 3",
   "language": "python",
   "name": "python3"
  },
  "language_info": {
   "codemirror_mode": {
    "name": "ipython",
    "version": 3
   },
   "file_extension": ".py",
   "mimetype": "text/x-python",
   "name": "python",
   "nbconvert_exporter": "python",
   "pygments_lexer": "ipython3",
   "version": "3.6.9"
  },
  "toc": {
   "base_numbering": 1,
   "nav_menu": {},
   "number_sections": true,
   "sideBar": true,
   "skip_h1_title": false,
   "title_cell": "Table of Contents",
   "title_sidebar": "Contents",
   "toc_cell": false,
   "toc_position": {},
   "toc_section_display": true,
   "toc_window_display": false
  }
 },
 "nbformat": 4,
 "nbformat_minor": 4
}
